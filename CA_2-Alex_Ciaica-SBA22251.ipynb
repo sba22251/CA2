{
 "cells": [
  {
   "cell_type": "markdown",
   "id": "0b422351",
   "metadata": {},
   "source": [
    "# Import libraries"
   ]
  },
  {
   "cell_type": "code",
   "execution_count": 15,
   "id": "5f54caab",
   "metadata": {},
   "outputs": [],
   "source": [
    "import pandas as pd\n",
    "import seaborn as sns\n",
    "import matplotlib.pyplot as plt\n",
    "from statsmodels import api as sm\n",
    "from sklearn.feature_selection import RFE\n",
    "import scipy.stats as stats\n",
    "from statsmodels.stats import weightstats\n",
    "import statsmodels.stats.oneway as oneway\n",
    "from scipy.stats import f_oneway\n",
    "import warnings\n",
    "from warnings import filterwarnings\n",
    "filterwarnings('ignore')"
   ]
  },
  {
   "cell_type": "markdown",
   "id": "b0d272af",
   "metadata": {},
   "source": [
    "# Load data"
   ]
  },
  {
   "cell_type": "code",
   "execution_count": 2,
   "id": "221f7e39",
   "metadata": {},
   "outputs": [],
   "source": [
    "df1 = pd.read_csv('Producer Prices.csv')\n",
    "df2 = pd.read_csv('Consumer Price Indices.csv')\n",
    "df3 = pd.read_csv('Temperature_Change.csv')\n",
    "df4 = pd.read_csv('Value_Added_Agri_Frs_Fishing.csv')\n",
    "ire_df1 = df1.loc[df1['Area'] == 'Ireland']  # based on df1 ('Producer Prices.csv')"
   ]
  },
  {
   "cell_type": "markdown",
   "id": "72bb5344",
   "metadata": {},
   "source": [
    "# Data Understanding\n",
    "#####  - Collecting and preparing data for analysis\n",
    "#####  - Exploring and visualizing data\n",
    "#####  - Verifying data quality\n"
   ]
  },
  {
   "cell_type": "code",
   "execution_count": 8,
   "id": "af1da669",
   "metadata": {},
   "outputs": [
    {
     "data": {
      "text/html": [
       "<div>\n",
       "<style scoped>\n",
       "    .dataframe tbody tr th:only-of-type {\n",
       "        vertical-align: middle;\n",
       "    }\n",
       "\n",
       "    .dataframe tbody tr th {\n",
       "        vertical-align: top;\n",
       "    }\n",
       "\n",
       "    .dataframe thead th {\n",
       "        text-align: right;\n",
       "    }\n",
       "</style>\n",
       "<table border=\"1\" class=\"dataframe\">\n",
       "  <thead>\n",
       "    <tr style=\"text-align: right;\">\n",
       "      <th></th>\n",
       "      <th>Domain Code</th>\n",
       "      <th>Domain</th>\n",
       "      <th>Area Code (M49)</th>\n",
       "      <th>Area</th>\n",
       "      <th>Element Code</th>\n",
       "      <th>Element</th>\n",
       "      <th>Item Code (CPC)</th>\n",
       "      <th>Item</th>\n",
       "      <th>Year Code</th>\n",
       "      <th>Year</th>\n",
       "      <th>Months Code</th>\n",
       "      <th>Months</th>\n",
       "      <th>Unit</th>\n",
       "      <th>Value</th>\n",
       "      <th>Flag</th>\n",
       "      <th>Flag Description</th>\n",
       "    </tr>\n",
       "  </thead>\n",
       "  <tbody>\n",
       "    <tr>\n",
       "      <th>0</th>\n",
       "      <td>PP</td>\n",
       "      <td>Producer Prices</td>\n",
       "      <td>40</td>\n",
       "      <td>Austria</td>\n",
       "      <td>5532</td>\n",
       "      <td>Producer Price (USD/tonne)</td>\n",
       "      <td>1341.0</td>\n",
       "      <td>Apples</td>\n",
       "      <td>1991</td>\n",
       "      <td>1991</td>\n",
       "      <td>7021</td>\n",
       "      <td>Annual value</td>\n",
       "      <td>USD</td>\n",
       "      <td>823.9</td>\n",
       "      <td>A</td>\n",
       "      <td>Official figure</td>\n",
       "    </tr>\n",
       "    <tr>\n",
       "      <th>1</th>\n",
       "      <td>PP</td>\n",
       "      <td>Producer Prices</td>\n",
       "      <td>40</td>\n",
       "      <td>Austria</td>\n",
       "      <td>5532</td>\n",
       "      <td>Producer Price (USD/tonne)</td>\n",
       "      <td>1341.0</td>\n",
       "      <td>Apples</td>\n",
       "      <td>1992</td>\n",
       "      <td>1992</td>\n",
       "      <td>7021</td>\n",
       "      <td>Annual value</td>\n",
       "      <td>USD</td>\n",
       "      <td>765.3</td>\n",
       "      <td>A</td>\n",
       "      <td>Official figure</td>\n",
       "    </tr>\n",
       "    <tr>\n",
       "      <th>2</th>\n",
       "      <td>PP</td>\n",
       "      <td>Producer Prices</td>\n",
       "      <td>40</td>\n",
       "      <td>Austria</td>\n",
       "      <td>5532</td>\n",
       "      <td>Producer Price (USD/tonne)</td>\n",
       "      <td>1341.0</td>\n",
       "      <td>Apples</td>\n",
       "      <td>1993</td>\n",
       "      <td>1993</td>\n",
       "      <td>7021</td>\n",
       "      <td>Annual value</td>\n",
       "      <td>USD</td>\n",
       "      <td>564.0</td>\n",
       "      <td>A</td>\n",
       "      <td>Official figure</td>\n",
       "    </tr>\n",
       "    <tr>\n",
       "      <th>3</th>\n",
       "      <td>PP</td>\n",
       "      <td>Producer Prices</td>\n",
       "      <td>40</td>\n",
       "      <td>Austria</td>\n",
       "      <td>5532</td>\n",
       "      <td>Producer Price (USD/tonne)</td>\n",
       "      <td>1341.0</td>\n",
       "      <td>Apples</td>\n",
       "      <td>1994</td>\n",
       "      <td>1994</td>\n",
       "      <td>7021</td>\n",
       "      <td>Annual value</td>\n",
       "      <td>USD</td>\n",
       "      <td>478.0</td>\n",
       "      <td>A</td>\n",
       "      <td>Official figure</td>\n",
       "    </tr>\n",
       "    <tr>\n",
       "      <th>4</th>\n",
       "      <td>PP</td>\n",
       "      <td>Producer Prices</td>\n",
       "      <td>40</td>\n",
       "      <td>Austria</td>\n",
       "      <td>5532</td>\n",
       "      <td>Producer Price (USD/tonne)</td>\n",
       "      <td>1341.0</td>\n",
       "      <td>Apples</td>\n",
       "      <td>1995</td>\n",
       "      <td>1995</td>\n",
       "      <td>7021</td>\n",
       "      <td>Annual value</td>\n",
       "      <td>USD</td>\n",
       "      <td>486.0</td>\n",
       "      <td>A</td>\n",
       "      <td>Official figure</td>\n",
       "    </tr>\n",
       "  </tbody>\n",
       "</table>\n",
       "</div>"
      ],
      "text/plain": [
       "  Domain Code           Domain  Area Code (M49)     Area  Element Code  \\\n",
       "0          PP  Producer Prices               40  Austria          5532   \n",
       "1          PP  Producer Prices               40  Austria          5532   \n",
       "2          PP  Producer Prices               40  Austria          5532   \n",
       "3          PP  Producer Prices               40  Austria          5532   \n",
       "4          PP  Producer Prices               40  Austria          5532   \n",
       "\n",
       "                      Element  Item Code (CPC)    Item  Year Code  Year  \\\n",
       "0  Producer Price (USD/tonne)           1341.0  Apples       1991  1991   \n",
       "1  Producer Price (USD/tonne)           1341.0  Apples       1992  1992   \n",
       "2  Producer Price (USD/tonne)           1341.0  Apples       1993  1993   \n",
       "3  Producer Price (USD/tonne)           1341.0  Apples       1994  1994   \n",
       "4  Producer Price (USD/tonne)           1341.0  Apples       1995  1995   \n",
       "\n",
       "   Months Code        Months Unit  Value Flag Flag Description  \n",
       "0         7021  Annual value  USD  823.9    A  Official figure  \n",
       "1         7021  Annual value  USD  765.3    A  Official figure  \n",
       "2         7021  Annual value  USD  564.0    A  Official figure  \n",
       "3         7021  Annual value  USD  478.0    A  Official figure  \n",
       "4         7021  Annual value  USD  486.0    A  Official figure  "
      ]
     },
     "execution_count": 8,
     "metadata": {},
     "output_type": "execute_result"
    }
   ],
   "source": [
    "df1.head()"
   ]
  },
  {
   "cell_type": "code",
   "execution_count": 9,
   "id": "585fbc9e",
   "metadata": {},
   "outputs": [
    {
     "data": {
      "text/html": [
       "<div>\n",
       "<style scoped>\n",
       "    .dataframe tbody tr th:only-of-type {\n",
       "        vertical-align: middle;\n",
       "    }\n",
       "\n",
       "    .dataframe tbody tr th {\n",
       "        vertical-align: top;\n",
       "    }\n",
       "\n",
       "    .dataframe thead th {\n",
       "        text-align: right;\n",
       "    }\n",
       "</style>\n",
       "<table border=\"1\" class=\"dataframe\">\n",
       "  <thead>\n",
       "    <tr style=\"text-align: right;\">\n",
       "      <th></th>\n",
       "      <th>Domain Code</th>\n",
       "      <th>Domain</th>\n",
       "      <th>Area Code (M49)</th>\n",
       "      <th>Area</th>\n",
       "      <th>Element Code</th>\n",
       "      <th>Element</th>\n",
       "      <th>Item Code (CPC)</th>\n",
       "      <th>Item</th>\n",
       "      <th>Year Code</th>\n",
       "      <th>Year</th>\n",
       "      <th>Months Code</th>\n",
       "      <th>Months</th>\n",
       "      <th>Unit</th>\n",
       "      <th>Value</th>\n",
       "      <th>Flag</th>\n",
       "      <th>Flag Description</th>\n",
       "    </tr>\n",
       "  </thead>\n",
       "  <tbody>\n",
       "    <tr>\n",
       "      <th>36835</th>\n",
       "      <td>PP</td>\n",
       "      <td>Producer Prices</td>\n",
       "      <td>752</td>\n",
       "      <td>Sweden</td>\n",
       "      <td>5532</td>\n",
       "      <td>Producer Price (USD/tonne)</td>\n",
       "      <td>111.0</td>\n",
       "      <td>Wheat</td>\n",
       "      <td>2016</td>\n",
       "      <td>2016</td>\n",
       "      <td>7021</td>\n",
       "      <td>Annual value</td>\n",
       "      <td>USD</td>\n",
       "      <td>150.1</td>\n",
       "      <td>A</td>\n",
       "      <td>Official figure</td>\n",
       "    </tr>\n",
       "    <tr>\n",
       "      <th>36836</th>\n",
       "      <td>PP</td>\n",
       "      <td>Producer Prices</td>\n",
       "      <td>752</td>\n",
       "      <td>Sweden</td>\n",
       "      <td>5532</td>\n",
       "      <td>Producer Price (USD/tonne)</td>\n",
       "      <td>111.0</td>\n",
       "      <td>Wheat</td>\n",
       "      <td>2017</td>\n",
       "      <td>2017</td>\n",
       "      <td>7021</td>\n",
       "      <td>Annual value</td>\n",
       "      <td>USD</td>\n",
       "      <td>151.1</td>\n",
       "      <td>A</td>\n",
       "      <td>Official figure</td>\n",
       "    </tr>\n",
       "    <tr>\n",
       "      <th>36837</th>\n",
       "      <td>PP</td>\n",
       "      <td>Producer Prices</td>\n",
       "      <td>752</td>\n",
       "      <td>Sweden</td>\n",
       "      <td>5532</td>\n",
       "      <td>Producer Price (USD/tonne)</td>\n",
       "      <td>111.0</td>\n",
       "      <td>Wheat</td>\n",
       "      <td>2018</td>\n",
       "      <td>2018</td>\n",
       "      <td>7021</td>\n",
       "      <td>Annual value</td>\n",
       "      <td>USD</td>\n",
       "      <td>213.3</td>\n",
       "      <td>A</td>\n",
       "      <td>Official figure</td>\n",
       "    </tr>\n",
       "    <tr>\n",
       "      <th>36838</th>\n",
       "      <td>PP</td>\n",
       "      <td>Producer Prices</td>\n",
       "      <td>752</td>\n",
       "      <td>Sweden</td>\n",
       "      <td>5532</td>\n",
       "      <td>Producer Price (USD/tonne)</td>\n",
       "      <td>111.0</td>\n",
       "      <td>Wheat</td>\n",
       "      <td>2019</td>\n",
       "      <td>2019</td>\n",
       "      <td>7021</td>\n",
       "      <td>Annual value</td>\n",
       "      <td>USD</td>\n",
       "      <td>157.4</td>\n",
       "      <td>A</td>\n",
       "      <td>Official figure</td>\n",
       "    </tr>\n",
       "    <tr>\n",
       "      <th>36839</th>\n",
       "      <td>PP</td>\n",
       "      <td>Producer Prices</td>\n",
       "      <td>752</td>\n",
       "      <td>Sweden</td>\n",
       "      <td>5532</td>\n",
       "      <td>Producer Price (USD/tonne)</td>\n",
       "      <td>111.0</td>\n",
       "      <td>Wheat</td>\n",
       "      <td>2020</td>\n",
       "      <td>2020</td>\n",
       "      <td>7021</td>\n",
       "      <td>Annual value</td>\n",
       "      <td>USD</td>\n",
       "      <td>169.6</td>\n",
       "      <td>A</td>\n",
       "      <td>Official figure</td>\n",
       "    </tr>\n",
       "  </tbody>\n",
       "</table>\n",
       "</div>"
      ],
      "text/plain": [
       "      Domain Code           Domain  Area Code (M49)    Area  Element Code  \\\n",
       "36835          PP  Producer Prices              752  Sweden          5532   \n",
       "36836          PP  Producer Prices              752  Sweden          5532   \n",
       "36837          PP  Producer Prices              752  Sweden          5532   \n",
       "36838          PP  Producer Prices              752  Sweden          5532   \n",
       "36839          PP  Producer Prices              752  Sweden          5532   \n",
       "\n",
       "                          Element  Item Code (CPC)   Item  Year Code  Year  \\\n",
       "36835  Producer Price (USD/tonne)            111.0  Wheat       2016  2016   \n",
       "36836  Producer Price (USD/tonne)            111.0  Wheat       2017  2017   \n",
       "36837  Producer Price (USD/tonne)            111.0  Wheat       2018  2018   \n",
       "36838  Producer Price (USD/tonne)            111.0  Wheat       2019  2019   \n",
       "36839  Producer Price (USD/tonne)            111.0  Wheat       2020  2020   \n",
       "\n",
       "       Months Code        Months Unit  Value Flag Flag Description  \n",
       "36835         7021  Annual value  USD  150.1    A  Official figure  \n",
       "36836         7021  Annual value  USD  151.1    A  Official figure  \n",
       "36837         7021  Annual value  USD  213.3    A  Official figure  \n",
       "36838         7021  Annual value  USD  157.4    A  Official figure  \n",
       "36839         7021  Annual value  USD  169.6    A  Official figure  "
      ]
     },
     "execution_count": 9,
     "metadata": {},
     "output_type": "execute_result"
    }
   ],
   "source": [
    "df1.tail()"
   ]
  },
  {
   "cell_type": "code",
   "execution_count": 10,
   "id": "c78d9d0a",
   "metadata": {},
   "outputs": [
    {
     "data": {
      "text/plain": [
       "(36840, 16)"
      ]
     },
     "execution_count": 10,
     "metadata": {},
     "output_type": "execute_result"
    }
   ],
   "source": [
    "df1.shape"
   ]
  },
  {
   "cell_type": "code",
   "execution_count": 11,
   "id": "e70b9ecf",
   "metadata": {},
   "outputs": [
    {
     "data": {
      "text/plain": [
       "Domain Code         0\n",
       "Domain              0\n",
       "Area Code (M49)     0\n",
       "Area                0\n",
       "Element Code        0\n",
       "Element             0\n",
       "Item Code (CPC)     0\n",
       "Item                0\n",
       "Year Code           0\n",
       "Year                0\n",
       "Months Code         0\n",
       "Months              0\n",
       "Unit                0\n",
       "Value               0\n",
       "Flag                0\n",
       "Flag Description    0\n",
       "dtype: int64"
      ]
     },
     "execution_count": 11,
     "metadata": {},
     "output_type": "execute_result"
    }
   ],
   "source": [
    "df1.isna().sum()"
   ]
  },
  {
   "cell_type": "code",
   "execution_count": 12,
   "id": "cdd3f635",
   "metadata": {},
   "outputs": [
    {
     "data": {
      "text/plain": [
       "0"
      ]
     },
     "execution_count": 12,
     "metadata": {},
     "output_type": "execute_result"
    }
   ],
   "source": [
    "df1.duplicated().sum()"
   ]
  },
  {
   "cell_type": "code",
   "execution_count": 13,
   "id": "0fd9bdab",
   "metadata": {},
   "outputs": [
    {
     "name": "stdout",
     "output_type": "stream",
     "text": [
      "<class 'pandas.core.frame.DataFrame'>\n",
      "RangeIndex: 36840 entries, 0 to 36839\n",
      "Data columns (total 16 columns):\n",
      " #   Column            Non-Null Count  Dtype  \n",
      "---  ------            --------------  -----  \n",
      " 0   Domain Code       36840 non-null  object \n",
      " 1   Domain            36840 non-null  object \n",
      " 2   Area Code (M49)   36840 non-null  int64  \n",
      " 3   Area              36840 non-null  object \n",
      " 4   Element Code      36840 non-null  int64  \n",
      " 5   Element           36840 non-null  object \n",
      " 6   Item Code (CPC)   36840 non-null  float64\n",
      " 7   Item              36840 non-null  object \n",
      " 8   Year Code         36840 non-null  int64  \n",
      " 9   Year              36840 non-null  int64  \n",
      " 10  Months Code       36840 non-null  int64  \n",
      " 11  Months            36840 non-null  object \n",
      " 12  Unit              36840 non-null  object \n",
      " 13  Value             36840 non-null  float64\n",
      " 14  Flag              36840 non-null  object \n",
      " 15  Flag Description  36840 non-null  object \n",
      "dtypes: float64(2), int64(5), object(9)\n",
      "memory usage: 4.5+ MB\n"
     ]
    }
   ],
   "source": [
    "df1.info()"
   ]
  },
  {
   "cell_type": "markdown",
   "id": "be2f85a9",
   "metadata": {},
   "source": [
    "### Finding The 'Maximum' Values for Europe"
   ]
  },
  {
   "cell_type": "code",
   "execution_count": 18,
   "id": "dde3af22",
   "metadata": {},
   "outputs": [
    {
     "data": {
      "text/plain": [
       "6325"
      ]
     },
     "execution_count": 18,
     "metadata": {},
     "output_type": "execute_result"
    }
   ],
   "source": [
    "# We use the \"idxmax\" function to find the maximum value in the Series for European Countries\n",
    "df1['Value'].idxmax()"
   ]
  },
  {
   "cell_type": "code",
   "execution_count": 21,
   "id": "c9f14cd4",
   "metadata": {},
   "outputs": [
    {
     "data": {
      "text/plain": [
       "Domain Code                                          PP\n",
       "Domain                                  Producer Prices\n",
       "Area Code (M49)                                     196\n",
       "Area                                             Cyprus\n",
       "Element Code                                       5532\n",
       "Element                      Producer Price (USD/tonne)\n",
       "Item Code (CPC)                                21170.02\n",
       "Item                Game meat, fresh, chilled or frozen\n",
       "Year Code                                          2013\n",
       "Year                                               2013\n",
       "Months Code                                        7021\n",
       "Months                                     Annual value\n",
       "Unit                                                USD\n",
       "Value                                           29243.2\n",
       "Flag                                                  A\n",
       "Flag Description                        Official figure\n",
       "Name: 6324, dtype: object"
      ]
     },
     "execution_count": 21,
     "metadata": {},
     "output_type": "execute_result"
    }
   ],
   "source": [
    "\"\"\"\n",
    "The 'Iloc' helps us find the maximum value in df1. In 2013, Cyprus's Maximum Producer Price was 29243.2 USD/tone, \n",
    "which was paid for \"Game meat, fresh, chilled or frozen.\" \n",
    "\"\"\"\n",
    "df1.iloc[6325-1]"
   ]
  },
  {
   "cell_type": "markdown",
   "id": "7f905d55",
   "metadata": {},
   "source": [
    "### Finding The Miminum Values for Europe"
   ]
  },
  {
   "cell_type": "code",
   "execution_count": 25,
   "id": "c66461d5",
   "metadata": {},
   "outputs": [
    {
     "data": {
      "text/plain": [
       "29173"
      ]
     },
     "execution_count": 25,
     "metadata": {},
     "output_type": "execute_result"
    }
   ],
   "source": [
    "df1['Value'].idxmin()"
   ]
  },
  {
   "cell_type": "code",
   "execution_count": 23,
   "id": "a2cc899b",
   "metadata": {},
   "outputs": [
    {
     "data": {
      "text/plain": [
       "Domain Code                                   PP\n",
       "Domain                           Producer Prices\n",
       "Area Code (M49)                              642\n",
       "Area                                     Romania\n",
       "Element Code                                5532\n",
       "Element               Producer Price (USD/tonne)\n",
       "Item Code (CPC)                           1229.0\n",
       "Item                Cantaloupes and other melons\n",
       "Year Code                                   1996\n",
       "Year                                        1996\n",
       "Months Code                                 7021\n",
       "Months                              Annual value\n",
       "Unit                                         USD\n",
       "Value                                      143.1\n",
       "Flag                                           A\n",
       "Flag Description                 Official figure\n",
       "Name: 29172, dtype: object"
      ]
     },
     "execution_count": 23,
     "metadata": {},
     "output_type": "execute_result"
    }
   ],
   "source": [
    "df1.iloc[29173-1]"
   ]
  },
  {
   "cell_type": "code",
   "execution_count": 27,
   "id": "c79284cb",
   "metadata": {},
   "outputs": [],
   "source": [
    "# As indicated in the 'Value' column, the minimum value in Europe shows information about \"cantaloupes and other melons\" \n",
    "# in Romania in 1996 and the producer price was 143.1 USD/tonne."
   ]
  },
  {
   "cell_type": "markdown",
   "id": "2fcd7522",
   "metadata": {},
   "source": [
    "## Maximum Values for Republic of Ireland"
   ]
  },
  {
   "cell_type": "code",
   "execution_count": 28,
   "id": "23811931",
   "metadata": {},
   "outputs": [
    {
     "data": {
      "text/plain": [
       "19534"
      ]
     },
     "execution_count": 28,
     "metadata": {},
     "output_type": "execute_result"
    }
   ],
   "source": [
    "# Additionally, we would like to find out what the minimum and maximum values are in Ireland\n",
    "ire_df1['Value'].idxmax() "
   ]
  },
  {
   "cell_type": "code",
   "execution_count": 29,
   "id": "38764e58",
   "metadata": {},
   "outputs": [
    {
     "data": {
      "text/plain": [
       "Domain Code                                 PP\n",
       "Domain                         Producer Prices\n",
       "Area Code (M49)                            372\n",
       "Area                                   Ireland\n",
       "Element Code                              5532\n",
       "Element             Producer Price (USD/tonne)\n",
       "Item Code (CPC)                         1270.0\n",
       "Item                    Mushrooms and truffles\n",
       "Year Code                                 2007\n",
       "Year                                      2007\n",
       "Months Code                               7021\n",
       "Months                            Annual value\n",
       "Unit                                       USD\n",
       "Value                                   3642.2\n",
       "Flag                                         A\n",
       "Flag Description               Official figure\n",
       "Name: 19533, dtype: object"
      ]
     },
     "execution_count": 29,
     "metadata": {},
     "output_type": "execute_result"
    }
   ],
   "source": [
    "df1.iloc[19534-1]"
   ]
  },
  {
   "cell_type": "code",
   "execution_count": 36,
   "id": "1a61b0dd",
   "metadata": {},
   "outputs": [],
   "source": [
    "# The Mximum value in Ireland shows information about \"Mushrooms and truffles\" in 2007 and the \n",
    "# producer price was 3642.2USD/tonne."
   ]
  },
  {
   "cell_type": "markdown",
   "id": "32f87f2c",
   "metadata": {},
   "source": [
    "## Minimum Values for Republic of Ireland"
   ]
  },
  {
   "cell_type": "code",
   "execution_count": 30,
   "id": "d59d17c2",
   "metadata": {},
   "outputs": [
    {
     "data": {
      "text/plain": [
       "19627"
      ]
     },
     "execution_count": 30,
     "metadata": {},
     "output_type": "execute_result"
    }
   ],
   "source": [
    "ire_df1['Value'].idxmin()"
   ]
  },
  {
   "cell_type": "code",
   "execution_count": 31,
   "id": "ebc770a3",
   "metadata": {},
   "outputs": [
    {
     "data": {
      "text/plain": [
       "Domain Code                                 PP\n",
       "Domain                         Producer Prices\n",
       "Area Code (M49)                            372\n",
       "Area                                   Ireland\n",
       "Element Code                              5532\n",
       "Element             Producer Price (USD/tonne)\n",
       "Item Code (CPC)                         1801.0\n",
       "Item                                Sugar beet\n",
       "Year Code                                 1999\n",
       "Year                                      1999\n",
       "Months Code                               7021\n",
       "Months                            Annual value\n",
       "Unit                                       USD\n",
       "Value                                     51.4\n",
       "Flag                                         A\n",
       "Flag Description               Official figure\n",
       "Name: 19626, dtype: object"
      ]
     },
     "execution_count": 31,
     "metadata": {},
     "output_type": "execute_result"
    }
   ],
   "source": [
    "df1.iloc[19627-1]"
   ]
  },
  {
   "cell_type": "code",
   "execution_count": 34,
   "id": "c009a1fd",
   "metadata": {},
   "outputs": [],
   "source": [
    "# The minimum value in Ireland shows information about \"Sugar beet\" in 1999 and the producer price was 51.4USD/tonne."
   ]
  },
  {
   "cell_type": "code",
   "execution_count": 47,
   "id": "01cc33cf",
   "metadata": {},
   "outputs": [
    {
     "data": {
      "text/html": [
       "<div>\n",
       "<style scoped>\n",
       "    .dataframe tbody tr th:only-of-type {\n",
       "        vertical-align: middle;\n",
       "    }\n",
       "\n",
       "    .dataframe tbody tr th {\n",
       "        vertical-align: top;\n",
       "    }\n",
       "\n",
       "    .dataframe thead th {\n",
       "        text-align: right;\n",
       "    }\n",
       "</style>\n",
       "<table border=\"1\" class=\"dataframe\">\n",
       "  <thead>\n",
       "    <tr style=\"text-align: right;\">\n",
       "      <th></th>\n",
       "      <th>MaxValue</th>\n",
       "      <th>MinValue</th>\n",
       "    </tr>\n",
       "  </thead>\n",
       "  <tbody>\n",
       "    <tr>\n",
       "      <th>0</th>\n",
       "      <td>19534</td>\n",
       "      <td>19627</td>\n",
       "    </tr>\n",
       "  </tbody>\n",
       "</table>\n",
       "</div>"
      ],
      "text/plain": [
       "   MaxValue  MinValue\n",
       "0     19534     19627"
      ]
     },
     "execution_count": 47,
     "metadata": {},
     "output_type": "execute_result"
    }
   ],
   "source": [
    "max_value = ire_df1['Value'].idxmax()\n",
    "min_value = ire_df1['Value'].idxmin()\n",
    "result = pd.DataFrame({'MaxValue': [max_value], 'MinValue': [min_value]})\n",
    "result"
   ]
  },
  {
   "cell_type": "markdown",
   "id": "7af083b0",
   "metadata": {},
   "source": [
    "## Data Cleaning"
   ]
  },
  {
   "cell_type": "code",
   "execution_count": null,
   "id": "91167692",
   "metadata": {},
   "outputs": [],
   "source": []
  },
  {
   "cell_type": "code",
   "execution_count": null,
   "id": "049447e7",
   "metadata": {},
   "outputs": [],
   "source": []
  },
  {
   "cell_type": "code",
   "execution_count": null,
   "id": "01f9fb10",
   "metadata": {},
   "outputs": [],
   "source": []
  },
  {
   "cell_type": "code",
   "execution_count": null,
   "id": "19fa1636",
   "metadata": {},
   "outputs": [],
   "source": []
  },
  {
   "cell_type": "code",
   "execution_count": null,
   "id": "9e9728c7",
   "metadata": {},
   "outputs": [],
   "source": []
  },
  {
   "cell_type": "code",
   "execution_count": null,
   "id": "97038b4e",
   "metadata": {},
   "outputs": [],
   "source": []
  },
  {
   "cell_type": "code",
   "execution_count": null,
   "id": "924f5c32",
   "metadata": {},
   "outputs": [],
   "source": []
  },
  {
   "cell_type": "code",
   "execution_count": null,
   "id": "c91b8241",
   "metadata": {},
   "outputs": [],
   "source": []
  }
 ],
 "metadata": {
  "kernelspec": {
   "display_name": "Python 3 (ipykernel)",
   "language": "python",
   "name": "python3"
  },
  "language_info": {
   "codemirror_mode": {
    "name": "ipython",
    "version": 3
   },
   "file_extension": ".py",
   "mimetype": "text/x-python",
   "name": "python",
   "nbconvert_exporter": "python",
   "pygments_lexer": "ipython3",
   "version": "3.9.13"
  }
 },
 "nbformat": 4,
 "nbformat_minor": 5
}
