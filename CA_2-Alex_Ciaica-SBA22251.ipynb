{
 "cells": [
  {
   "cell_type": "markdown",
   "id": "0b422351",
   "metadata": {},
   "source": [
    "# Import libraries"
   ]
  },
  {
   "cell_type": "code",
   "execution_count": 1,
   "id": "5f54caab",
   "metadata": {},
   "outputs": [],
   "source": [
    "import pandas as pd\n",
    "import seaborn as sns\n",
    "import matplotlib.pyplot as plt\n",
    "from statsmodels import api as sm\n",
    "from sklearn.feature_selection import RFE\n",
    "import scipy.stats as stats\n",
    "from statsmodels.stats import weightstats\n",
    "import statsmodels.stats.oneway as oneway\n",
    "from scipy.stats import f_oneway\n",
    "import warnings\n",
    "from warnings import filterwarnings\n",
    "filterwarnings('ignore')"
   ]
  },
  {
   "cell_type": "markdown",
   "id": "b0d272af",
   "metadata": {},
   "source": [
    "# Load data"
   ]
  },
  {
   "cell_type": "code",
   "execution_count": 2,
   "id": "221f7e39",
   "metadata": {},
   "outputs": [],
   "source": [
    "df1 = pd.read_csv('Producer Prices.csv')\n",
    "df2 = pd.read_csv('Consumer Price Indices.csv')\n",
    "df3 = pd.read_csv('Temperature_Change.csv')\n",
    "df4 = pd.read_csv('Value_Added_Agri_Frs_Fishing.csv')\n",
    "ire_df1 = df1.loc[df1['Area'] == 'Ireland']  # based on df1 ('Producer Prices.csv')"
   ]
  },
  {
   "cell_type": "markdown",
   "id": "72bb5344",
   "metadata": {},
   "source": [
    "# Data Understanding\n",
    "#####  - Collecting and preparing data for analysis\n",
    "#####  - Exploring and visualizing data\n",
    "#####  - Verifying data quality\n"
   ]
  },
  {
   "cell_type": "code",
   "execution_count": 3,
   "id": "af1da669",
   "metadata": {},
   "outputs": [
    {
     "data": {
      "text/html": [
       "<div>\n",
       "<style scoped>\n",
       "    .dataframe tbody tr th:only-of-type {\n",
       "        vertical-align: middle;\n",
       "    }\n",
       "\n",
       "    .dataframe tbody tr th {\n",
       "        vertical-align: top;\n",
       "    }\n",
       "\n",
       "    .dataframe thead th {\n",
       "        text-align: right;\n",
       "    }\n",
       "</style>\n",
       "<table border=\"1\" class=\"dataframe\">\n",
       "  <thead>\n",
       "    <tr style=\"text-align: right;\">\n",
       "      <th></th>\n",
       "      <th>Domain Code</th>\n",
       "      <th>Domain</th>\n",
       "      <th>Area Code (M49)</th>\n",
       "      <th>Area</th>\n",
       "      <th>Element Code</th>\n",
       "      <th>Element</th>\n",
       "      <th>Item Code (CPC)</th>\n",
       "      <th>Item</th>\n",
       "      <th>Year Code</th>\n",
       "      <th>Year</th>\n",
       "      <th>Months Code</th>\n",
       "      <th>Months</th>\n",
       "      <th>Unit</th>\n",
       "      <th>Value</th>\n",
       "      <th>Flag</th>\n",
       "      <th>Flag Description</th>\n",
       "    </tr>\n",
       "  </thead>\n",
       "  <tbody>\n",
       "    <tr>\n",
       "      <th>0</th>\n",
       "      <td>PP</td>\n",
       "      <td>Producer Prices</td>\n",
       "      <td>40</td>\n",
       "      <td>Austria</td>\n",
       "      <td>5532</td>\n",
       "      <td>Producer Price (USD/tonne)</td>\n",
       "      <td>1341.0</td>\n",
       "      <td>Apples</td>\n",
       "      <td>1991</td>\n",
       "      <td>1991</td>\n",
       "      <td>7021</td>\n",
       "      <td>Annual value</td>\n",
       "      <td>USD</td>\n",
       "      <td>823.9</td>\n",
       "      <td>A</td>\n",
       "      <td>Official figure</td>\n",
       "    </tr>\n",
       "    <tr>\n",
       "      <th>1</th>\n",
       "      <td>PP</td>\n",
       "      <td>Producer Prices</td>\n",
       "      <td>40</td>\n",
       "      <td>Austria</td>\n",
       "      <td>5532</td>\n",
       "      <td>Producer Price (USD/tonne)</td>\n",
       "      <td>1341.0</td>\n",
       "      <td>Apples</td>\n",
       "      <td>1992</td>\n",
       "      <td>1992</td>\n",
       "      <td>7021</td>\n",
       "      <td>Annual value</td>\n",
       "      <td>USD</td>\n",
       "      <td>765.3</td>\n",
       "      <td>A</td>\n",
       "      <td>Official figure</td>\n",
       "    </tr>\n",
       "    <tr>\n",
       "      <th>2</th>\n",
       "      <td>PP</td>\n",
       "      <td>Producer Prices</td>\n",
       "      <td>40</td>\n",
       "      <td>Austria</td>\n",
       "      <td>5532</td>\n",
       "      <td>Producer Price (USD/tonne)</td>\n",
       "      <td>1341.0</td>\n",
       "      <td>Apples</td>\n",
       "      <td>1993</td>\n",
       "      <td>1993</td>\n",
       "      <td>7021</td>\n",
       "      <td>Annual value</td>\n",
       "      <td>USD</td>\n",
       "      <td>564.0</td>\n",
       "      <td>A</td>\n",
       "      <td>Official figure</td>\n",
       "    </tr>\n",
       "    <tr>\n",
       "      <th>3</th>\n",
       "      <td>PP</td>\n",
       "      <td>Producer Prices</td>\n",
       "      <td>40</td>\n",
       "      <td>Austria</td>\n",
       "      <td>5532</td>\n",
       "      <td>Producer Price (USD/tonne)</td>\n",
       "      <td>1341.0</td>\n",
       "      <td>Apples</td>\n",
       "      <td>1994</td>\n",
       "      <td>1994</td>\n",
       "      <td>7021</td>\n",
       "      <td>Annual value</td>\n",
       "      <td>USD</td>\n",
       "      <td>478.0</td>\n",
       "      <td>A</td>\n",
       "      <td>Official figure</td>\n",
       "    </tr>\n",
       "    <tr>\n",
       "      <th>4</th>\n",
       "      <td>PP</td>\n",
       "      <td>Producer Prices</td>\n",
       "      <td>40</td>\n",
       "      <td>Austria</td>\n",
       "      <td>5532</td>\n",
       "      <td>Producer Price (USD/tonne)</td>\n",
       "      <td>1341.0</td>\n",
       "      <td>Apples</td>\n",
       "      <td>1995</td>\n",
       "      <td>1995</td>\n",
       "      <td>7021</td>\n",
       "      <td>Annual value</td>\n",
       "      <td>USD</td>\n",
       "      <td>486.0</td>\n",
       "      <td>A</td>\n",
       "      <td>Official figure</td>\n",
       "    </tr>\n",
       "  </tbody>\n",
       "</table>\n",
       "</div>"
      ],
      "text/plain": [
       "  Domain Code           Domain  Area Code (M49)     Area  Element Code  \\\n",
       "0          PP  Producer Prices               40  Austria          5532   \n",
       "1          PP  Producer Prices               40  Austria          5532   \n",
       "2          PP  Producer Prices               40  Austria          5532   \n",
       "3          PP  Producer Prices               40  Austria          5532   \n",
       "4          PP  Producer Prices               40  Austria          5532   \n",
       "\n",
       "                      Element  Item Code (CPC)    Item  Year Code  Year  \\\n",
       "0  Producer Price (USD/tonne)           1341.0  Apples       1991  1991   \n",
       "1  Producer Price (USD/tonne)           1341.0  Apples       1992  1992   \n",
       "2  Producer Price (USD/tonne)           1341.0  Apples       1993  1993   \n",
       "3  Producer Price (USD/tonne)           1341.0  Apples       1994  1994   \n",
       "4  Producer Price (USD/tonne)           1341.0  Apples       1995  1995   \n",
       "\n",
       "   Months Code        Months Unit  Value Flag Flag Description  \n",
       "0         7021  Annual value  USD  823.9    A  Official figure  \n",
       "1         7021  Annual value  USD  765.3    A  Official figure  \n",
       "2         7021  Annual value  USD  564.0    A  Official figure  \n",
       "3         7021  Annual value  USD  478.0    A  Official figure  \n",
       "4         7021  Annual value  USD  486.0    A  Official figure  "
      ]
     },
     "execution_count": 3,
     "metadata": {},
     "output_type": "execute_result"
    }
   ],
   "source": [
    "df1.head()"
   ]
  },
  {
   "cell_type": "code",
   "execution_count": 4,
   "id": "585fbc9e",
   "metadata": {},
   "outputs": [
    {
     "data": {
      "text/html": [
       "<div>\n",
       "<style scoped>\n",
       "    .dataframe tbody tr th:only-of-type {\n",
       "        vertical-align: middle;\n",
       "    }\n",
       "\n",
       "    .dataframe tbody tr th {\n",
       "        vertical-align: top;\n",
       "    }\n",
       "\n",
       "    .dataframe thead th {\n",
       "        text-align: right;\n",
       "    }\n",
       "</style>\n",
       "<table border=\"1\" class=\"dataframe\">\n",
       "  <thead>\n",
       "    <tr style=\"text-align: right;\">\n",
       "      <th></th>\n",
       "      <th>Domain Code</th>\n",
       "      <th>Domain</th>\n",
       "      <th>Area Code (M49)</th>\n",
       "      <th>Area</th>\n",
       "      <th>Element Code</th>\n",
       "      <th>Element</th>\n",
       "      <th>Item Code (CPC)</th>\n",
       "      <th>Item</th>\n",
       "      <th>Year Code</th>\n",
       "      <th>Year</th>\n",
       "      <th>Months Code</th>\n",
       "      <th>Months</th>\n",
       "      <th>Unit</th>\n",
       "      <th>Value</th>\n",
       "      <th>Flag</th>\n",
       "      <th>Flag Description</th>\n",
       "    </tr>\n",
       "  </thead>\n",
       "  <tbody>\n",
       "    <tr>\n",
       "      <th>36835</th>\n",
       "      <td>PP</td>\n",
       "      <td>Producer Prices</td>\n",
       "      <td>752</td>\n",
       "      <td>Sweden</td>\n",
       "      <td>5532</td>\n",
       "      <td>Producer Price (USD/tonne)</td>\n",
       "      <td>111.0</td>\n",
       "      <td>Wheat</td>\n",
       "      <td>2016</td>\n",
       "      <td>2016</td>\n",
       "      <td>7021</td>\n",
       "      <td>Annual value</td>\n",
       "      <td>USD</td>\n",
       "      <td>150.1</td>\n",
       "      <td>A</td>\n",
       "      <td>Official figure</td>\n",
       "    </tr>\n",
       "    <tr>\n",
       "      <th>36836</th>\n",
       "      <td>PP</td>\n",
       "      <td>Producer Prices</td>\n",
       "      <td>752</td>\n",
       "      <td>Sweden</td>\n",
       "      <td>5532</td>\n",
       "      <td>Producer Price (USD/tonne)</td>\n",
       "      <td>111.0</td>\n",
       "      <td>Wheat</td>\n",
       "      <td>2017</td>\n",
       "      <td>2017</td>\n",
       "      <td>7021</td>\n",
       "      <td>Annual value</td>\n",
       "      <td>USD</td>\n",
       "      <td>151.1</td>\n",
       "      <td>A</td>\n",
       "      <td>Official figure</td>\n",
       "    </tr>\n",
       "    <tr>\n",
       "      <th>36837</th>\n",
       "      <td>PP</td>\n",
       "      <td>Producer Prices</td>\n",
       "      <td>752</td>\n",
       "      <td>Sweden</td>\n",
       "      <td>5532</td>\n",
       "      <td>Producer Price (USD/tonne)</td>\n",
       "      <td>111.0</td>\n",
       "      <td>Wheat</td>\n",
       "      <td>2018</td>\n",
       "      <td>2018</td>\n",
       "      <td>7021</td>\n",
       "      <td>Annual value</td>\n",
       "      <td>USD</td>\n",
       "      <td>213.3</td>\n",
       "      <td>A</td>\n",
       "      <td>Official figure</td>\n",
       "    </tr>\n",
       "    <tr>\n",
       "      <th>36838</th>\n",
       "      <td>PP</td>\n",
       "      <td>Producer Prices</td>\n",
       "      <td>752</td>\n",
       "      <td>Sweden</td>\n",
       "      <td>5532</td>\n",
       "      <td>Producer Price (USD/tonne)</td>\n",
       "      <td>111.0</td>\n",
       "      <td>Wheat</td>\n",
       "      <td>2019</td>\n",
       "      <td>2019</td>\n",
       "      <td>7021</td>\n",
       "      <td>Annual value</td>\n",
       "      <td>USD</td>\n",
       "      <td>157.4</td>\n",
       "      <td>A</td>\n",
       "      <td>Official figure</td>\n",
       "    </tr>\n",
       "    <tr>\n",
       "      <th>36839</th>\n",
       "      <td>PP</td>\n",
       "      <td>Producer Prices</td>\n",
       "      <td>752</td>\n",
       "      <td>Sweden</td>\n",
       "      <td>5532</td>\n",
       "      <td>Producer Price (USD/tonne)</td>\n",
       "      <td>111.0</td>\n",
       "      <td>Wheat</td>\n",
       "      <td>2020</td>\n",
       "      <td>2020</td>\n",
       "      <td>7021</td>\n",
       "      <td>Annual value</td>\n",
       "      <td>USD</td>\n",
       "      <td>169.6</td>\n",
       "      <td>A</td>\n",
       "      <td>Official figure</td>\n",
       "    </tr>\n",
       "  </tbody>\n",
       "</table>\n",
       "</div>"
      ],
      "text/plain": [
       "      Domain Code           Domain  Area Code (M49)    Area  Element Code  \\\n",
       "36835          PP  Producer Prices              752  Sweden          5532   \n",
       "36836          PP  Producer Prices              752  Sweden          5532   \n",
       "36837          PP  Producer Prices              752  Sweden          5532   \n",
       "36838          PP  Producer Prices              752  Sweden          5532   \n",
       "36839          PP  Producer Prices              752  Sweden          5532   \n",
       "\n",
       "                          Element  Item Code (CPC)   Item  Year Code  Year  \\\n",
       "36835  Producer Price (USD/tonne)            111.0  Wheat       2016  2016   \n",
       "36836  Producer Price (USD/tonne)            111.0  Wheat       2017  2017   \n",
       "36837  Producer Price (USD/tonne)            111.0  Wheat       2018  2018   \n",
       "36838  Producer Price (USD/tonne)            111.0  Wheat       2019  2019   \n",
       "36839  Producer Price (USD/tonne)            111.0  Wheat       2020  2020   \n",
       "\n",
       "       Months Code        Months Unit  Value Flag Flag Description  \n",
       "36835         7021  Annual value  USD  150.1    A  Official figure  \n",
       "36836         7021  Annual value  USD  151.1    A  Official figure  \n",
       "36837         7021  Annual value  USD  213.3    A  Official figure  \n",
       "36838         7021  Annual value  USD  157.4    A  Official figure  \n",
       "36839         7021  Annual value  USD  169.6    A  Official figure  "
      ]
     },
     "execution_count": 4,
     "metadata": {},
     "output_type": "execute_result"
    }
   ],
   "source": [
    "df1.tail()"
   ]
  },
  {
   "cell_type": "code",
   "execution_count": 5,
   "id": "c78d9d0a",
   "metadata": {},
   "outputs": [
    {
     "data": {
      "text/plain": [
       "(36840, 16)"
      ]
     },
     "execution_count": 5,
     "metadata": {},
     "output_type": "execute_result"
    }
   ],
   "source": [
    "df1.shape"
   ]
  },
  {
   "cell_type": "code",
   "execution_count": 6,
   "id": "e70b9ecf",
   "metadata": {},
   "outputs": [
    {
     "data": {
      "text/plain": [
       "Domain Code         0\n",
       "Domain              0\n",
       "Area Code (M49)     0\n",
       "Area                0\n",
       "Element Code        0\n",
       "Element             0\n",
       "Item Code (CPC)     0\n",
       "Item                0\n",
       "Year Code           0\n",
       "Year                0\n",
       "Months Code         0\n",
       "Months              0\n",
       "Unit                0\n",
       "Value               0\n",
       "Flag                0\n",
       "Flag Description    0\n",
       "dtype: int64"
      ]
     },
     "execution_count": 6,
     "metadata": {},
     "output_type": "execute_result"
    }
   ],
   "source": [
    "df1.isna().sum()"
   ]
  },
  {
   "cell_type": "code",
   "execution_count": 7,
   "id": "cdd3f635",
   "metadata": {},
   "outputs": [
    {
     "data": {
      "text/plain": [
       "0"
      ]
     },
     "execution_count": 7,
     "metadata": {},
     "output_type": "execute_result"
    }
   ],
   "source": [
    "df1.duplicated().sum()"
   ]
  },
  {
   "cell_type": "code",
   "execution_count": 8,
   "id": "0fd9bdab",
   "metadata": {},
   "outputs": [
    {
     "name": "stdout",
     "output_type": "stream",
     "text": [
      "<class 'pandas.core.frame.DataFrame'>\n",
      "RangeIndex: 36840 entries, 0 to 36839\n",
      "Data columns (total 16 columns):\n",
      " #   Column            Non-Null Count  Dtype  \n",
      "---  ------            --------------  -----  \n",
      " 0   Domain Code       36840 non-null  object \n",
      " 1   Domain            36840 non-null  object \n",
      " 2   Area Code (M49)   36840 non-null  int64  \n",
      " 3   Area              36840 non-null  object \n",
      " 4   Element Code      36840 non-null  int64  \n",
      " 5   Element           36840 non-null  object \n",
      " 6   Item Code (CPC)   36840 non-null  float64\n",
      " 7   Item              36840 non-null  object \n",
      " 8   Year Code         36840 non-null  int64  \n",
      " 9   Year              36840 non-null  int64  \n",
      " 10  Months Code       36840 non-null  int64  \n",
      " 11  Months            36840 non-null  object \n",
      " 12  Unit              36840 non-null  object \n",
      " 13  Value             36840 non-null  float64\n",
      " 14  Flag              36840 non-null  object \n",
      " 15  Flag Description  36840 non-null  object \n",
      "dtypes: float64(2), int64(5), object(9)\n",
      "memory usage: 4.5+ MB\n"
     ]
    }
   ],
   "source": [
    "df1.info()"
   ]
  },
  {
   "cell_type": "markdown",
   "id": "be2f85a9",
   "metadata": {},
   "source": [
    "### Finding The 'Maximum' Values for Europe"
   ]
  },
  {
   "cell_type": "code",
   "execution_count": 9,
   "id": "dde3af22",
   "metadata": {},
   "outputs": [
    {
     "data": {
      "text/plain": [
       "6325"
      ]
     },
     "execution_count": 9,
     "metadata": {},
     "output_type": "execute_result"
    }
   ],
   "source": [
    "# We use the \"idxmax\" function to find the maximum value in the Series for European Countries\n",
    "df1['Value'].idxmax()"
   ]
  },
  {
   "cell_type": "code",
   "execution_count": 10,
   "id": "c9f14cd4",
   "metadata": {},
   "outputs": [
    {
     "data": {
      "text/plain": [
       "Domain Code                                          PP\n",
       "Domain                                  Producer Prices\n",
       "Area Code (M49)                                     196\n",
       "Area                                             Cyprus\n",
       "Element Code                                       5532\n",
       "Element                      Producer Price (USD/tonne)\n",
       "Item Code (CPC)                                21170.02\n",
       "Item                Game meat, fresh, chilled or frozen\n",
       "Year Code                                          2013\n",
       "Year                                               2013\n",
       "Months Code                                        7021\n",
       "Months                                     Annual value\n",
       "Unit                                                USD\n",
       "Value                                           29243.2\n",
       "Flag                                                  A\n",
       "Flag Description                        Official figure\n",
       "Name: 6324, dtype: object"
      ]
     },
     "execution_count": 10,
     "metadata": {},
     "output_type": "execute_result"
    }
   ],
   "source": [
    "\"\"\"\n",
    "The 'Iloc' helps us find the maximum value in df1. In 2013, Cyprus's Maximum Producer Price was 29243.2 USD/tone, \n",
    "which was paid for \"Game meat, fresh, chilled or frozen.\" \n",
    "\"\"\"\n",
    "df1.iloc[6325-1]"
   ]
  },
  {
   "cell_type": "markdown",
   "id": "7f905d55",
   "metadata": {},
   "source": [
    "### Finding The Miminum Values for Europe"
   ]
  },
  {
   "cell_type": "code",
   "execution_count": 11,
   "id": "c66461d5",
   "metadata": {},
   "outputs": [
    {
     "data": {
      "text/plain": [
       "29173"
      ]
     },
     "execution_count": 11,
     "metadata": {},
     "output_type": "execute_result"
    }
   ],
   "source": [
    "df1['Value'].idxmin()"
   ]
  },
  {
   "cell_type": "code",
   "execution_count": 12,
   "id": "a2cc899b",
   "metadata": {},
   "outputs": [
    {
     "data": {
      "text/plain": [
       "Domain Code                                   PP\n",
       "Domain                           Producer Prices\n",
       "Area Code (M49)                              642\n",
       "Area                                     Romania\n",
       "Element Code                                5532\n",
       "Element               Producer Price (USD/tonne)\n",
       "Item Code (CPC)                           1229.0\n",
       "Item                Cantaloupes and other melons\n",
       "Year Code                                   1996\n",
       "Year                                        1996\n",
       "Months Code                                 7021\n",
       "Months                              Annual value\n",
       "Unit                                         USD\n",
       "Value                                      143.1\n",
       "Flag                                           A\n",
       "Flag Description                 Official figure\n",
       "Name: 29172, dtype: object"
      ]
     },
     "execution_count": 12,
     "metadata": {},
     "output_type": "execute_result"
    }
   ],
   "source": [
    "df1.iloc[29173-1]"
   ]
  },
  {
   "cell_type": "code",
   "execution_count": 13,
   "id": "c79284cb",
   "metadata": {},
   "outputs": [],
   "source": [
    "# As indicated in the 'Value' column, the minimum value in Europe shows information about \"cantaloupes and other melons\" \n",
    "# in Romania in 1996 and the producer price was 143.1 USD/tonne."
   ]
  },
  {
   "cell_type": "markdown",
   "id": "2fcd7522",
   "metadata": {},
   "source": [
    "## Maximum Values for Republic of Ireland"
   ]
  },
  {
   "cell_type": "code",
   "execution_count": 14,
   "id": "23811931",
   "metadata": {},
   "outputs": [
    {
     "data": {
      "text/plain": [
       "19534"
      ]
     },
     "execution_count": 14,
     "metadata": {},
     "output_type": "execute_result"
    }
   ],
   "source": [
    "# Additionally, we would like to find out what the minimum and maximum values are in Ireland\n",
    "ire_df1['Value'].idxmax() "
   ]
  },
  {
   "cell_type": "code",
   "execution_count": 15,
   "id": "38764e58",
   "metadata": {},
   "outputs": [
    {
     "data": {
      "text/plain": [
       "Domain Code                                 PP\n",
       "Domain                         Producer Prices\n",
       "Area Code (M49)                            372\n",
       "Area                                   Ireland\n",
       "Element Code                              5532\n",
       "Element             Producer Price (USD/tonne)\n",
       "Item Code (CPC)                         1270.0\n",
       "Item                    Mushrooms and truffles\n",
       "Year Code                                 2007\n",
       "Year                                      2007\n",
       "Months Code                               7021\n",
       "Months                            Annual value\n",
       "Unit                                       USD\n",
       "Value                                   3642.2\n",
       "Flag                                         A\n",
       "Flag Description               Official figure\n",
       "Name: 19533, dtype: object"
      ]
     },
     "execution_count": 15,
     "metadata": {},
     "output_type": "execute_result"
    }
   ],
   "source": [
    "df1.iloc[19534-1]"
   ]
  },
  {
   "cell_type": "code",
   "execution_count": 16,
   "id": "1a61b0dd",
   "metadata": {},
   "outputs": [],
   "source": [
    "# The Mximum value in Ireland shows information about \"Mushrooms and truffles\" in 2007 and the \n",
    "# producer price was 3642.2USD/tonne."
   ]
  },
  {
   "cell_type": "markdown",
   "id": "32f87f2c",
   "metadata": {},
   "source": [
    "## Minimum Values for Republic of Ireland"
   ]
  },
  {
   "cell_type": "code",
   "execution_count": 17,
   "id": "d59d17c2",
   "metadata": {},
   "outputs": [
    {
     "data": {
      "text/plain": [
       "19627"
      ]
     },
     "execution_count": 17,
     "metadata": {},
     "output_type": "execute_result"
    }
   ],
   "source": [
    "ire_df1['Value'].idxmin()"
   ]
  },
  {
   "cell_type": "code",
   "execution_count": 18,
   "id": "ebc770a3",
   "metadata": {},
   "outputs": [
    {
     "data": {
      "text/plain": [
       "Domain Code                                 PP\n",
       "Domain                         Producer Prices\n",
       "Area Code (M49)                            372\n",
       "Area                                   Ireland\n",
       "Element Code                              5532\n",
       "Element             Producer Price (USD/tonne)\n",
       "Item Code (CPC)                         1801.0\n",
       "Item                                Sugar beet\n",
       "Year Code                                 1999\n",
       "Year                                      1999\n",
       "Months Code                               7021\n",
       "Months                            Annual value\n",
       "Unit                                       USD\n",
       "Value                                     51.4\n",
       "Flag                                         A\n",
       "Flag Description               Official figure\n",
       "Name: 19626, dtype: object"
      ]
     },
     "execution_count": 18,
     "metadata": {},
     "output_type": "execute_result"
    }
   ],
   "source": [
    "df1.iloc[19627-1]"
   ]
  },
  {
   "cell_type": "code",
   "execution_count": 19,
   "id": "c009a1fd",
   "metadata": {},
   "outputs": [],
   "source": [
    "# The minimum value in Ireland shows information about \"Sugar beet\" in 1999 and the producer price was 51.4USD/tonne."
   ]
  },
  {
   "cell_type": "code",
   "execution_count": 20,
   "id": "01cc33cf",
   "metadata": {},
   "outputs": [
    {
     "data": {
      "text/html": [
       "<div>\n",
       "<style scoped>\n",
       "    .dataframe tbody tr th:only-of-type {\n",
       "        vertical-align: middle;\n",
       "    }\n",
       "\n",
       "    .dataframe tbody tr th {\n",
       "        vertical-align: top;\n",
       "    }\n",
       "\n",
       "    .dataframe thead th {\n",
       "        text-align: right;\n",
       "    }\n",
       "</style>\n",
       "<table border=\"1\" class=\"dataframe\">\n",
       "  <thead>\n",
       "    <tr style=\"text-align: right;\">\n",
       "      <th></th>\n",
       "      <th>MaxValue</th>\n",
       "      <th>MinValue</th>\n",
       "    </tr>\n",
       "  </thead>\n",
       "  <tbody>\n",
       "    <tr>\n",
       "      <th>0</th>\n",
       "      <td>19534</td>\n",
       "      <td>19627</td>\n",
       "    </tr>\n",
       "  </tbody>\n",
       "</table>\n",
       "</div>"
      ],
      "text/plain": [
       "   MaxValue  MinValue\n",
       "0     19534     19627"
      ]
     },
     "execution_count": 20,
     "metadata": {},
     "output_type": "execute_result"
    }
   ],
   "source": [
    "max_value = ire_df1['Value'].idxmax()\n",
    "min_value = ire_df1['Value'].idxmin()\n",
    "result = pd.DataFrame({'MaxValue': [max_value], 'MinValue': [min_value]})\n",
    "result"
   ]
  },
  {
   "cell_type": "markdown",
   "id": "7af083b0",
   "metadata": {},
   "source": [
    "# Data Preparation\n",
    "### -\tCleaning and transforming data\n",
    "### -\tSelecting relevant data for analysis\n",
    "### -\tCreating derived variables"
   ]
  },
  {
   "cell_type": "markdown",
   "id": "4f9e53a4",
   "metadata": {},
   "source": [
    "    ~~~~~~~~~~~~~~~~~~~~~~~~~~~~~~~~~~~~~~~~~~~~~~~~~~~~~~~~~~~~~~~~~~\n",
    "    Programming element used in the Analysis of data\n",
    "    - To rename columns, we use the \"def\" function. \n",
    "    - When we call a dataframe, it automatically renames the columns.\n",
    "    ~~~~~~~~~~~~~~~~~~~~~~~~~~~~~~~~~~~~~~~~~~~~~~~~~~~~~~~~~~~~~~~~~~"
   ]
  },
  {
   "cell_type": "code",
   "execution_count": 21,
   "id": "91167692",
   "metadata": {},
   "outputs": [
    {
     "data": {
      "text/plain": [
       "Index(['Domain Code', 'Domain', 'Country Code', 'Country', 'Element Code',\n",
       "       'Element', 'Item Code', 'Item', 'Year Code', 'Year', 'Months Code',\n",
       "       'Months', 'Currency', 'Value', 'Flag', 'Description'],\n",
       "      dtype='object')"
      ]
     },
     "execution_count": 21,
     "metadata": {},
     "output_type": "execute_result"
    }
   ],
   "source": [
    "def rename_columns(df, mapping):\n",
    "    \"\"\"Renames the columns of a dataframe using the specified mapping.\"\"\"\n",
    "    df = df.rename(columns=mapping)\n",
    "    return df\n",
    "\n",
    "# Rename the columns\n",
    "mapping = {'Area': 'Country', 'Area Code (M49)': 'Country Code', 'Flag Description': 'Description','Item Code (CPC)':'Item Code', 'Unit':'Currency'}\n",
    "df1 = rename_columns(df1, mapping)\n",
    "df2 = rename_columns(df2, mapping)\n",
    "df3 = rename_columns(df3, mapping)\n",
    "df4 = rename_columns(df4, mapping)\n",
    "ire_df1 = rename_columns(ire_df1, mapping)\n",
    "\n",
    "# Print the resulting dataframe. The columns have been renamed\n",
    "ire_df1.columns"
   ]
  },
  {
   "cell_type": "markdown",
   "id": "e5e06085",
   "metadata": {},
   "source": [
    "##### This function checks whether the columns are in the dataframe before deleting them. By using the \"intersection\" method, I get the intersection of the columns in the dataframe and the columns to drop, and only drop the columns that are present. "
   ]
  },
  {
   "cell_type": "code",
   "execution_count": 22,
   "id": "01f9fb10",
   "metadata": {},
   "outputs": [
    {
     "data": {
      "text/plain": [
       "Index(['Domain', 'Country Code', 'Country', 'Element', 'Item Code', 'Item',\n",
       "       'Year', 'Months', 'Currency', 'Value'],\n",
       "      dtype='object')"
      ]
     },
     "execution_count": 22,
     "metadata": {},
     "output_type": "execute_result"
    }
   ],
   "source": [
    "def drop_columns(df, columns):\n",
    "    # \"\"\"Drops the specified columns from a dataframe.\"\"\"\n",
    "    # Get the intersection of the set of columns in the dataframe and the set of columns to drop\n",
    "    cols_to_drop = set(df.columns).intersection(columns)\n",
    "    df.drop(cols_to_drop, axis=1, inplace=True)\n",
    "\n",
    "# List of dataframes\n",
    "dataframes = [df1, df2, df3, df4, ire_df1]\n",
    "\n",
    "# Columns to drop\n",
    "# columns = ['Element Code','Item Code', 'Item Code (CPC)', 'Year Code','Unit','Flag','Note']\n",
    "columns = ['Domain Code','Description','Element Code','Year Code', 'Months Code','Flag','Note']\n",
    "\n",
    "# Iterate through the dataframes\n",
    "for df in dataframes:\n",
    "    drop_columns(df, columns)\n",
    "\n",
    "# Create a list of cleaned dataframes\n",
    "cleaned_dataframes = [drop_columns(df, columns) for df in dataframes]\n",
    "\n",
    "# Print the columns of the dataframe. The columns have been REMOVED\n",
    "ire_df1.columns"
   ]
  },
  {
   "cell_type": "code",
   "execution_count": 23,
   "id": "19fa1636",
   "metadata": {},
   "outputs": [
    {
     "data": {
      "text/html": [
       "<div>\n",
       "<style scoped>\n",
       "    .dataframe tbody tr th:only-of-type {\n",
       "        vertical-align: middle;\n",
       "    }\n",
       "\n",
       "    .dataframe tbody tr th {\n",
       "        vertical-align: top;\n",
       "    }\n",
       "\n",
       "    .dataframe thead th {\n",
       "        text-align: right;\n",
       "    }\n",
       "</style>\n",
       "<table border=\"1\" class=\"dataframe\">\n",
       "  <thead>\n",
       "    <tr style=\"text-align: right;\">\n",
       "      <th></th>\n",
       "      <th>Domain</th>\n",
       "      <th>Country Code</th>\n",
       "      <th>Country</th>\n",
       "      <th>Element</th>\n",
       "      <th>Item Code</th>\n",
       "      <th>Item</th>\n",
       "      <th>Year</th>\n",
       "      <th>Months</th>\n",
       "      <th>Currency</th>\n",
       "      <th>Value</th>\n",
       "    </tr>\n",
       "  </thead>\n",
       "  <tbody>\n",
       "    <tr>\n",
       "      <th>19259</th>\n",
       "      <td>Producer Prices</td>\n",
       "      <td>372</td>\n",
       "      <td>Ireland</td>\n",
       "      <td>Producer Price (USD/tonne)</td>\n",
       "      <td>115.0</td>\n",
       "      <td>Barley</td>\n",
       "      <td>1991</td>\n",
       "      <td>Annual value</td>\n",
       "      <td>USD</td>\n",
       "      <td>173.8</td>\n",
       "    </tr>\n",
       "    <tr>\n",
       "      <th>19260</th>\n",
       "      <td>Producer Prices</td>\n",
       "      <td>372</td>\n",
       "      <td>Ireland</td>\n",
       "      <td>Producer Price (USD/tonne)</td>\n",
       "      <td>115.0</td>\n",
       "      <td>Barley</td>\n",
       "      <td>1992</td>\n",
       "      <td>Annual value</td>\n",
       "      <td>USD</td>\n",
       "      <td>173.5</td>\n",
       "    </tr>\n",
       "  </tbody>\n",
       "</table>\n",
       "</div>"
      ],
      "text/plain": [
       "                Domain  Country Code  Country                     Element  \\\n",
       "19259  Producer Prices           372  Ireland  Producer Price (USD/tonne)   \n",
       "19260  Producer Prices           372  Ireland  Producer Price (USD/tonne)   \n",
       "\n",
       "       Item Code    Item  Year        Months Currency  Value  \n",
       "19259      115.0  Barley  1991  Annual value      USD  173.8  \n",
       "19260      115.0  Barley  1992  Annual value      USD  173.5  "
      ]
     },
     "execution_count": 23,
     "metadata": {},
     "output_type": "execute_result"
    }
   ],
   "source": [
    "#Check the new dataframe\n",
    "ire_df1.head(2)"
   ]
  },
  {
   "cell_type": "code",
   "execution_count": 24,
   "id": "9e9728c7",
   "metadata": {},
   "outputs": [
    {
     "name": "stdout",
     "output_type": "stream",
     "text": [
      "<class 'pandas.core.frame.DataFrame'>\n",
      "RangeIndex: 36840 entries, 0 to 36839\n",
      "Data columns (total 10 columns):\n",
      " #   Column        Non-Null Count  Dtype  \n",
      "---  ------        --------------  -----  \n",
      " 0   Domain        36840 non-null  object \n",
      " 1   Country Code  36840 non-null  int64  \n",
      " 2   Country       36840 non-null  object \n",
      " 3   Element       36840 non-null  object \n",
      " 4   Item Code     36840 non-null  float64\n",
      " 5   Item          36840 non-null  object \n",
      " 6   Year          36840 non-null  int64  \n",
      " 7   Months        36840 non-null  object \n",
      " 8   Currency      36840 non-null  object \n",
      " 9   Value         36840 non-null  float64\n",
      "dtypes: float64(2), int64(2), object(6)\n",
      "memory usage: 2.8+ MB\n"
     ]
    }
   ],
   "source": [
    "df1.info()"
   ]
  },
  {
   "cell_type": "markdown",
   "id": "3ce28b6d",
   "metadata": {},
   "source": [
    "#### This function takes a dataframe as an input and returns the same dataframe with the 'Year' column converted to a datetime type. It also prints the data type of the 'Year' column after the conversion."
   ]
  },
  {
   "cell_type": "code",
   "execution_count": 25,
   "id": "97038b4e",
   "metadata": {},
   "outputs": [
    {
     "name": "stdout",
     "output_type": "stream",
     "text": [
      "int64\n",
      "datetime64[ns]\n",
      "datetime64[ns]\n",
      "datetime64[ns]\n",
      "datetime64[ns]\n"
     ]
    }
   ],
   "source": [
    "def convert_year_column(df):\n",
    "    df1['Year'] = pd.to_datetime(df1['Year'], format='%Y')\n",
    "    print(df['Year'].dtype)\n",
    "    return df\n",
    "df1 = convert_year_column(df)\n",
    "df2 = convert_year_column(df)\n",
    "df3 = convert_year_column(df)\n",
    "df4 = convert_year_column(df)\n",
    "ire_df1 = convert_year_column(df)"
   ]
  },
  {
   "cell_type": "code",
   "execution_count": 26,
   "id": "924f5c32",
   "metadata": {},
   "outputs": [
    {
     "name": "stdout",
     "output_type": "stream",
     "text": [
      "<class 'pandas.core.series.Series'>\n",
      "Int64Index: 432 entries, 19259 to 19690\n",
      "Series name: Year\n",
      "Non-Null Count  Dtype         \n",
      "--------------  -----         \n",
      "432 non-null    datetime64[ns]\n",
      "dtypes: datetime64[ns](1)\n",
      "memory usage: 6.8 KB\n"
     ]
    }
   ],
   "source": [
    "ire_df1['Year'].info() # check it the column 'Year' has been converted"
   ]
  },
  {
   "cell_type": "markdown",
   "id": "4c5a9641",
   "metadata": {},
   "source": [
    "### Exploratory data analysis (EDA) "
   ]
  },
  {
   "cell_type": "code",
   "execution_count": 27,
   "id": "81412e49",
   "metadata": {},
   "outputs": [
    {
     "data": {
      "image/png": "[encoded data removed]",
      "text/plain": [
       "<Figure size 640x480 with 1 Axes>"
      ]
     },
     "metadata": {},
     "output_type": "display_data"
    }
   ],
   "source": [
    "\"\"\"\n",
    "A graphical representation of data that displays data along a number line, and it can be used to visualize \n",
    "patterns and trends in data over time.\n",
    "- It represents the \"mean\" of the 'Value' column, which is the average value of all the data points.\n",
    "- The red lines above and below the mean represent 3 standard deviations above and below the mean, respectively\n",
    "\"\"\" \n",
    "\n",
    "plt.plot(df1['Value'])\n",
    "mean_l = df1['Value'].mean()\n",
    "sd_l = df1['Value'].std()\n",
    "plt.axhline(y=mean_l,color='red',linestyle='-')\n",
    "plt.axhline(y=(mean_l + 3*sd_l),color='red',linestyle='--')\n",
    "plt.axhline(y=(mean_l - 3*sd_l),color='red',linestyle='--')\n",
    "# Add a title to the plot\n",
    "plt.title( 'Fig 1: Mean & Standart Deviation Value of trends in data over time')\n",
    "plt.show()"
   ]
  },
  {
   "cell_type": "code",
   "execution_count": 28,
   "id": "9f6efb84",
   "metadata": {},
   "outputs": [
    {
     "data": {
      "text/plain": [
       "Text(0.5, 1.0, 'Fig 2: Trend in the Price Change')"
      ]
     },
     "execution_count": 28,
     "metadata": {},
     "output_type": "execute_result"
    },
    {
     "data": {
      "image/png": "[encoded data removed]",
      "text/plain": [
       "<Figure size 500x500 with 1 Axes>"
      ]
     },
     "metadata": {},
     "output_type": "display_data"
    }
   ],
   "source": [
    "sns.set_theme(style='darkgrid')\n",
    "sns.displot(data=df1, x='Year', bins=30)\n",
    "plt.xlabel('Year')\n",
    "plt.ylabel('Producer Price by Year')\n",
    "plt.title('Fig 2: Trend in the Price Change')\n",
    "\n",
    "# This plot visualizes the distribution of the Items respective to the 'Year' column and identifies patterns in \n",
    "# trends of the data over time.\n"
   ]
  },
  {
   "cell_type": "code",
   "execution_count": 29,
   "id": "d132b907",
   "metadata": {},
   "outputs": [
    {
     "data": {
      "text/html": [
       "<div>\n",
       "<style scoped>\n",
       "    .dataframe tbody tr th:only-of-type {\n",
       "        vertical-align: middle;\n",
       "    }\n",
       "\n",
       "    .dataframe tbody tr th {\n",
       "        vertical-align: top;\n",
       "    }\n",
       "\n",
       "    .dataframe thead th {\n",
       "        text-align: right;\n",
       "    }\n",
       "</style>\n",
       "<table border=\"1\" class=\"dataframe\">\n",
       "  <thead>\n",
       "    <tr style=\"text-align: right;\">\n",
       "      <th></th>\n",
       "      <th>Year</th>\n",
       "      <th>Value</th>\n",
       "    </tr>\n",
       "  </thead>\n",
       "  <tbody>\n",
       "    <tr>\n",
       "      <th>0</th>\n",
       "      <td>1991-01-01</td>\n",
       "      <td>1196.518182</td>\n",
       "    </tr>\n",
       "    <tr>\n",
       "      <th>1</th>\n",
       "      <td>1992-01-01</td>\n",
       "      <td>1208.642857</td>\n",
       "    </tr>\n",
       "  </tbody>\n",
       "</table>\n",
       "</div>"
      ],
      "text/plain": [
       "        Year        Value\n",
       "0 1991-01-01  1196.518182\n",
       "1 1992-01-01  1208.642857"
      ]
     },
     "execution_count": 29,
     "metadata": {},
     "output_type": "execute_result"
    }
   ],
   "source": [
    "# here we compute the mean producer value per year in Europe\n",
    "data=df1.groupby('Year').agg({'Value':'mean'}).reset_index()\n",
    "data.head(2)"
   ]
  },
  {
   "cell_type": "code",
   "execution_count": 30,
   "id": "ed80857e",
   "metadata": {},
   "outputs": [
    {
     "data": {
      "image/png": "[encoded data removed]",
      "text/plain": [
       "<Figure size 640x480 with 1 Axes>"
      ]
     },
     "metadata": {},
     "output_type": "display_data"
    }
   ],
   "source": [
    "# Create a new figure with figure number 3\n",
    "\n",
    "# Plot the data\n",
    "ax = data.plot(x='Year', y=['Value'])\n",
    "\n",
    "# Set the title of the plot\n",
    "ax.set_title(' Fig: 3 - The \"mean\" producer price per Year in EU Countires')\n",
    "\n",
    "# Display the plot\n",
    "plt.show()\n"
   ]
  },
  {
   "cell_type": "code",
   "execution_count": 31,
   "id": "faaff1f8",
   "metadata": {},
   "outputs": [],
   "source": [
    "# here we compute the mean producer value per year \n",
    "# data2=ire_df1.groupby('Year').agg({'Value':'mean'}).reset_index()\n",
    "# data2.head(2)"
   ]
  },
  {
   "cell_type": "code",
   "execution_count": 32,
   "id": "0dbbf00a",
   "metadata": {},
   "outputs": [
    {
     "data": {
      "text/html": [
       "<div>\n",
       "<style scoped>\n",
       "    .dataframe tbody tr th:only-of-type {\n",
       "        vertical-align: middle;\n",
       "    }\n",
       "\n",
       "    .dataframe tbody tr th {\n",
       "        vertical-align: top;\n",
       "    }\n",
       "\n",
       "    .dataframe thead th {\n",
       "        text-align: right;\n",
       "    }\n",
       "</style>\n",
       "<table border=\"1\" class=\"dataframe\">\n",
       "  <thead>\n",
       "    <tr style=\"text-align: right;\">\n",
       "      <th></th>\n",
       "      <th>Value</th>\n",
       "      <th>Item</th>\n",
       "    </tr>\n",
       "    <tr>\n",
       "      <th>Year</th>\n",
       "      <th></th>\n",
       "      <th></th>\n",
       "    </tr>\n",
       "  </thead>\n",
       "  <tbody>\n",
       "    <tr>\n",
       "      <th>1991-01-01</th>\n",
       "      <td>173.8</td>\n",
       "      <td>Barley</td>\n",
       "    </tr>\n",
       "    <tr>\n",
       "      <th>1992-01-01</th>\n",
       "      <td>173.5</td>\n",
       "      <td>Barley</td>\n",
       "    </tr>\n",
       "  </tbody>\n",
       "</table>\n",
       "</div>"
      ],
      "text/plain": [
       "            Value    Item\n",
       "Year                     \n",
       "1991-01-01  173.8  Barley\n",
       "1992-01-01  173.5  Barley"
      ]
     },
     "execution_count": 32,
     "metadata": {},
     "output_type": "execute_result"
    }
   ],
   "source": [
    "data2=ire_df1[['Year','Value', 'Item']]\n",
    "data2.set_index('Year', inplace=True)\n",
    "pivot=data2.pivot_table(values='Value',index='Year',columns='Item')\n",
    "data2.head(2)"
   ]
  },
  {
   "cell_type": "code",
   "execution_count": 48,
   "id": "fd1da3c4",
   "metadata": {},
   "outputs": [
    {
     "data": {
      "text/html": [
       "<div>\n",
       "<style scoped>\n",
       "    .dataframe tbody tr th:only-of-type {\n",
       "        vertical-align: middle;\n",
       "    }\n",
       "\n",
       "    .dataframe tbody tr th {\n",
       "        vertical-align: top;\n",
       "    }\n",
       "\n",
       "    .dataframe thead th {\n",
       "        text-align: right;\n",
       "    }\n",
       "</style>\n",
       "<table border=\"1\" class=\"dataframe\">\n",
       "  <thead>\n",
       "    <tr style=\"text-align: right;\">\n",
       "      <th>Item</th>\n",
       "      <th>Barley</th>\n",
       "      <th>Cabbages</th>\n",
       "      <th>Carrots and turnips</th>\n",
       "      <th>Cauliflowers and broccoli</th>\n",
       "      <th>Hen eggs in shell, fresh</th>\n",
       "      <th>Lettuce and chicory</th>\n",
       "      <th>Meat of cattle with the bone, fresh or chilled</th>\n",
       "      <th>Meat of cattle with the bone, fresh or chilled (biological)</th>\n",
       "      <th>Meat of chickens, fresh or chilled</th>\n",
       "      <th>Meat of chickens, fresh or chilled (biological)</th>\n",
       "      <th>...</th>\n",
       "      <th>Meat of sheep, fresh or chilled</th>\n",
       "      <th>Meat of sheep, fresh or chilled (biological)</th>\n",
       "      <th>Mushrooms and truffles</th>\n",
       "      <th>Oats</th>\n",
       "      <th>Onions and shallots, dry (excluding dehydrated)</th>\n",
       "      <th>Raw milk of cattle</th>\n",
       "      <th>Strawberries</th>\n",
       "      <th>Sugar beet</th>\n",
       "      <th>Tomatoes</th>\n",
       "      <th>Wheat</th>\n",
       "    </tr>\n",
       "    <tr>\n",
       "      <th>Year</th>\n",
       "      <th></th>\n",
       "      <th></th>\n",
       "      <th></th>\n",
       "      <th></th>\n",
       "      <th></th>\n",
       "      <th></th>\n",
       "      <th></th>\n",
       "      <th></th>\n",
       "      <th></th>\n",
       "      <th></th>\n",
       "      <th></th>\n",
       "      <th></th>\n",
       "      <th></th>\n",
       "      <th></th>\n",
       "      <th></th>\n",
       "      <th></th>\n",
       "      <th></th>\n",
       "      <th></th>\n",
       "      <th></th>\n",
       "      <th></th>\n",
       "      <th></th>\n",
       "    </tr>\n",
       "  </thead>\n",
       "  <tbody>\n",
       "    <tr>\n",
       "      <th>1991-01-01</th>\n",
       "      <td>173.8</td>\n",
       "      <td>400.8</td>\n",
       "      <td>284.9</td>\n",
       "      <td>490.9</td>\n",
       "      <td>1274.7</td>\n",
       "      <td>1199.1</td>\n",
       "      <td>3718.0</td>\n",
       "      <td>1860.6</td>\n",
       "      <td>1368.1</td>\n",
       "      <td>1142.7</td>\n",
       "      <td>...</td>\n",
       "      <td>2832.7</td>\n",
       "      <td>1416.4</td>\n",
       "      <td>2285.5</td>\n",
       "      <td>169.0</td>\n",
       "      <td>265.6</td>\n",
       "      <td>296.1</td>\n",
       "      <td>1339.1</td>\n",
       "      <td>57.9</td>\n",
       "      <td>1561.2</td>\n",
       "      <td>185.1</td>\n",
       "    </tr>\n",
       "    <tr>\n",
       "      <th>1992-01-01</th>\n",
       "      <td>173.5</td>\n",
       "      <td>285.8</td>\n",
       "      <td>255.2</td>\n",
       "      <td>440.7</td>\n",
       "      <td>1180.8</td>\n",
       "      <td>1071.9</td>\n",
       "      <td>3913.2</td>\n",
       "      <td>1958.3</td>\n",
       "      <td>NaN</td>\n",
       "      <td>1211.4</td>\n",
       "      <td>...</td>\n",
       "      <td>2790.3</td>\n",
       "      <td>1391.7</td>\n",
       "      <td>2405.7</td>\n",
       "      <td>187.2</td>\n",
       "      <td>245.0</td>\n",
       "      <td>338.6</td>\n",
       "      <td>1337.3</td>\n",
       "      <td>63.0</td>\n",
       "      <td>1420.7</td>\n",
       "      <td>185.5</td>\n",
       "    </tr>\n",
       "  </tbody>\n",
       "</table>\n",
       "<p>2 rows × 22 columns</p>\n",
       "</div>"
      ],
      "text/plain": [
       "Item        Barley  Cabbages  Carrots and turnips  Cauliflowers and broccoli  \\\n",
       "Year                                                                           \n",
       "1991-01-01   173.8     400.8                284.9                      490.9   \n",
       "1992-01-01   173.5     285.8                255.2                      440.7   \n",
       "\n",
       "Item        Hen eggs in shell, fresh  Lettuce and chicory  \\\n",
       "Year                                                        \n",
       "1991-01-01                    1274.7               1199.1   \n",
       "1992-01-01                    1180.8               1071.9   \n",
       "\n",
       "Item        Meat of cattle with the bone, fresh or chilled  \\\n",
       "Year                                                         \n",
       "1991-01-01                                          3718.0   \n",
       "1992-01-01                                          3913.2   \n",
       "\n",
       "Item        Meat of cattle with the bone, fresh or chilled (biological)  \\\n",
       "Year                                                                      \n",
       "1991-01-01                                             1860.6             \n",
       "1992-01-01                                             1958.3             \n",
       "\n",
       "Item        Meat of chickens, fresh or chilled  \\\n",
       "Year                                             \n",
       "1991-01-01                              1368.1   \n",
       "1992-01-01                                 NaN   \n",
       "\n",
       "Item        Meat of chickens, fresh or chilled (biological)  ...  \\\n",
       "Year                                                         ...   \n",
       "1991-01-01                                           1142.7  ...   \n",
       "1992-01-01                                           1211.4  ...   \n",
       "\n",
       "Item        Meat of sheep, fresh or chilled  \\\n",
       "Year                                          \n",
       "1991-01-01                           2832.7   \n",
       "1992-01-01                           2790.3   \n",
       "\n",
       "Item        Meat of sheep, fresh or chilled (biological)  \\\n",
       "Year                                                       \n",
       "1991-01-01                                        1416.4   \n",
       "1992-01-01                                        1391.7   \n",
       "\n",
       "Item        Mushrooms and truffles   Oats  \\\n",
       "Year                                        \n",
       "1991-01-01                  2285.5  169.0   \n",
       "1992-01-01                  2405.7  187.2   \n",
       "\n",
       "Item        Onions and shallots, dry (excluding dehydrated)  \\\n",
       "Year                                                          \n",
       "1991-01-01                                            265.6   \n",
       "1992-01-01                                            245.0   \n",
       "\n",
       "Item        Raw milk of cattle  Strawberries  Sugar beet  Tomatoes  Wheat  \n",
       "Year                                                                       \n",
       "1991-01-01               296.1        1339.1        57.9    1561.2  185.1  \n",
       "1992-01-01               338.6        1337.3        63.0    1420.7  185.5  \n",
       "\n",
       "[2 rows x 22 columns]"
      ]
     },
     "execution_count": 48,
     "metadata": {},
     "output_type": "execute_result"
    }
   ],
   "source": [
    "pivot=data2.pivot_table(values='Item',index='Year',columns='Item')\n",
    "pivot.head(2)"
   ]
  },
  {
   "cell_type": "code",
   "execution_count": 52,
   "id": "f4ef0ec3",
   "metadata": {},
   "outputs": [
    {
     "data": {
      "text/html": [
       "<div>\n",
       "<style scoped>\n",
       "    .dataframe tbody tr th:only-of-type {\n",
       "        vertical-align: middle;\n",
       "    }\n",
       "\n",
       "    .dataframe tbody tr th {\n",
       "        vertical-align: top;\n",
       "    }\n",
       "\n",
       "    .dataframe thead th {\n",
       "        text-align: right;\n",
       "    }\n",
       "</style>\n",
       "<table border=\"1\" class=\"dataframe\">\n",
       "  <thead>\n",
       "    <tr style=\"text-align: right;\">\n",
       "      <th>Item</th>\n",
       "      <th>Barley</th>\n",
       "      <th>Cabbages</th>\n",
       "      <th>Carrots and turnips</th>\n",
       "      <th>Cauliflowers and broccoli</th>\n",
       "      <th>Hen eggs in shell, fresh</th>\n",
       "      <th>Lettuce and chicory</th>\n",
       "      <th>Meat of cattle with the bone, fresh or chilled</th>\n",
       "      <th>Meat of cattle with the bone, fresh or chilled (biological)</th>\n",
       "      <th>Meat of chickens, fresh or chilled</th>\n",
       "      <th>Meat of chickens, fresh or chilled (biological)</th>\n",
       "      <th>...</th>\n",
       "      <th>Meat of sheep, fresh or chilled</th>\n",
       "      <th>Meat of sheep, fresh or chilled (biological)</th>\n",
       "      <th>Mushrooms and truffles</th>\n",
       "      <th>Oats</th>\n",
       "      <th>Onions and shallots, dry (excluding dehydrated)</th>\n",
       "      <th>Raw milk of cattle</th>\n",
       "      <th>Strawberries</th>\n",
       "      <th>Sugar beet</th>\n",
       "      <th>Tomatoes</th>\n",
       "      <th>Wheat</th>\n",
       "    </tr>\n",
       "    <tr>\n",
       "      <th>Year</th>\n",
       "      <th></th>\n",
       "      <th></th>\n",
       "      <th></th>\n",
       "      <th></th>\n",
       "      <th></th>\n",
       "      <th></th>\n",
       "      <th></th>\n",
       "      <th></th>\n",
       "      <th></th>\n",
       "      <th></th>\n",
       "      <th></th>\n",
       "      <th></th>\n",
       "      <th></th>\n",
       "      <th></th>\n",
       "      <th></th>\n",
       "      <th></th>\n",
       "      <th></th>\n",
       "      <th></th>\n",
       "      <th></th>\n",
       "      <th></th>\n",
       "      <th></th>\n",
       "    </tr>\n",
       "  </thead>\n",
       "  <tbody>\n",
       "    <tr>\n",
       "      <th>1991-01-01</th>\n",
       "      <td>173.8</td>\n",
       "      <td>400.8</td>\n",
       "      <td>284.9</td>\n",
       "      <td>490.9</td>\n",
       "      <td>1274.7</td>\n",
       "      <td>1199.1</td>\n",
       "      <td>3718.0</td>\n",
       "      <td>1860.6</td>\n",
       "      <td>1368.1</td>\n",
       "      <td>1142.7</td>\n",
       "      <td>...</td>\n",
       "      <td>2832.7</td>\n",
       "      <td>1416.4</td>\n",
       "      <td>2285.5</td>\n",
       "      <td>169.0</td>\n",
       "      <td>265.6</td>\n",
       "      <td>296.1</td>\n",
       "      <td>1339.1</td>\n",
       "      <td>57.9</td>\n",
       "      <td>1561.2</td>\n",
       "      <td>185.1</td>\n",
       "    </tr>\n",
       "  </tbody>\n",
       "</table>\n",
       "<p>1 rows × 22 columns</p>\n",
       "</div>"
      ],
      "text/plain": [
       "Item        Barley  Cabbages  Carrots and turnips  Cauliflowers and broccoli  \\\n",
       "Year                                                                           \n",
       "1991-01-01   173.8     400.8                284.9                      490.9   \n",
       "\n",
       "Item        Hen eggs in shell, fresh  Lettuce and chicory  \\\n",
       "Year                                                        \n",
       "1991-01-01                    1274.7               1199.1   \n",
       "\n",
       "Item        Meat of cattle with the bone, fresh or chilled  \\\n",
       "Year                                                         \n",
       "1991-01-01                                          3718.0   \n",
       "\n",
       "Item        Meat of cattle with the bone, fresh or chilled (biological)  \\\n",
       "Year                                                                      \n",
       "1991-01-01                                             1860.6             \n",
       "\n",
       "Item        Meat of chickens, fresh or chilled  \\\n",
       "Year                                             \n",
       "1991-01-01                              1368.1   \n",
       "\n",
       "Item        Meat of chickens, fresh or chilled (biological)  ...  \\\n",
       "Year                                                         ...   \n",
       "1991-01-01                                           1142.7  ...   \n",
       "\n",
       "Item        Meat of sheep, fresh or chilled  \\\n",
       "Year                                          \n",
       "1991-01-01                           2832.7   \n",
       "\n",
       "Item        Meat of sheep, fresh or chilled (biological)  \\\n",
       "Year                                                       \n",
       "1991-01-01                                        1416.4   \n",
       "\n",
       "Item        Mushrooms and truffles   Oats  \\\n",
       "Year                                        \n",
       "1991-01-01                  2285.5  169.0   \n",
       "\n",
       "Item        Onions and shallots, dry (excluding dehydrated)  \\\n",
       "Year                                                          \n",
       "1991-01-01                                            265.6   \n",
       "\n",
       "Item        Raw milk of cattle  Strawberries  Sugar beet  Tomatoes  Wheat  \n",
       "Year                                                                       \n",
       "1991-01-01               296.1        1339.1        57.9    1561.2  185.1  \n",
       "\n",
       "[1 rows x 22 columns]"
      ]
     },
     "execution_count": 52,
     "metadata": {},
     "output_type": "execute_result"
    }
   ],
   "source": [
    "pivot.dropna()"
   ]
  },
  {
   "cell_type": "code",
   "execution_count": 54,
   "id": "91fa0db5",
   "metadata": {},
   "outputs": [
    {
     "data": {
      "text/plain": [
       "Text(0.5, 1.0, 'Fig 4: Production Price in Ireland')"
      ]
     },
     "execution_count": 54,
     "metadata": {},
     "output_type": "execute_result"
    },
    {
     "data": {
      "image/png": "[encoded data removed]",
      "text/plain": [
       "<Figure size 2000x800 with 1 Axes>"
      ]
     },
     "metadata": {},
     "output_type": "display_data"
    }
   ],
   "source": [
    "pivot.plot(figsize=(20,8))\n",
    "plt.legend().remove()\n",
    "plt.xlabel('Year',fontsize=16)\n",
    "plt.ylabel('Value',fontsize=16)\n",
    "plt.title('Fig 4: Production Price in Ireland', fontsize=20)"
   ]
  },
  {
   "cell_type": "code",
   "execution_count": 71,
   "id": "a8c9da40",
   "metadata": {},
   "outputs": [],
   "source": [
    "#import Plotly Components\n",
    "import plotly.express as px\n",
    "import plotly.graph_objs as go\n",
    "from plotly.subplots import make_subplots\n",
    "from plotly.offline import download_plotlyjs, init_notebook_mode, plot, iplot"
   ]
  },
  {
   "cell_type": "code",
   "execution_count": 97,
   "id": "c519bc96",
   "metadata": {},
   "outputs": [
    {
     "data": {
      "application/vnd.plotly.v1+json": {
       "config": {
        "plotlyServerURL": "https://plot.ly"
       },
       "data": [
        {
         "coloraxis": "coloraxis",
         "geo": "geo",
         "hovertemplate": "<b>%{hovertext}</b><br><br>Year=%{z}<extra></extra>",
         "hovertext": [
          1991
         ],
         "locationmode": "country names",
         "locations": [
          1991
         ],
         "name": "",
         "type": "choropleth",
         "z": [
          1991
         ]
        }
       ],
       "frames": [
        {
         "data": [
          {
           "coloraxis": "coloraxis",
           "geo": "geo",
           "hovertemplate": "<b>%{hovertext}</b><br><br>Year=%{z}<extra></extra>",
           "hovertext": [
            1991
           ],
           "locationmode": "country names",
           "locations": [
            1991
           ],
           "name": "",
           "type": "choropleth",
           "z": [
            1991
           ]
          }
         ],
         "name": "1991"
        },
        {
         "data": [
          {
           "coloraxis": "coloraxis",
           "geo": "geo",
           "hovertemplate": "<b>%{hovertext}</b><br><br>Year=%{z}<extra></extra>",
           "hovertext": [
            1992
           ],
           "locationmode": "country names",
           "locations": [
            1992
           ],
           "name": "",
           "type": "choropleth",
           "z": [
            1992
           ]
          }
         ],
         "name": "1992"
        },
        {
         "data": [
          {
           "coloraxis": "coloraxis",
           "geo": "geo",
           "hovertemplate": "<b>%{hovertext}</b><br><br>Year=%{z}<extra></extra>",
           "hovertext": [
            1993
           ],
           "locationmode": "country names",
           "locations": [
            1993
           ],
           "name": "",
           "type": "choropleth",
           "z": [
            1993
           ]
          }
         ],
         "name": "1993"
        },
        {
         "data": [
          {
           "coloraxis": "coloraxis",
           "geo": "geo",
           "hovertemplate": "<b>%{hovertext}</b><br><br>Year=%{z}<extra></extra>",
           "hovertext": [
            1994
           ],
           "locationmode": "country names",
           "locations": [
            1994
           ],
           "name": "",
           "type": "choropleth",
           "z": [
            1994
           ]
          }
         ],
         "name": "1994"
        },
        {
         "data": [
          {
           "coloraxis": "coloraxis",
           "geo": "geo",
           "hovertemplate": "<b>%{hovertext}</b><br><br>Year=%{z}<extra></extra>",
           "hovertext": [
            1995
           ],
           "locationmode": "country names",
           "locations": [
            1995
           ],
           "name": "",
           "type": "choropleth",
           "z": [
            1995
           ]
          }
         ],
         "name": "1995"
        },
        {
         "data": [
          {
           "coloraxis": "coloraxis",
           "geo": "geo",
           "hovertemplate": "<b>%{hovertext}</b><br><br>Year=%{z}<extra></extra>",
           "hovertext": [
            1996
           ],
           "locationmode": "country names",
           "locations": [
            1996
           ],
           "name": "",
           "type": "choropleth",
           "z": [
            1996
           ]
          }
         ],
         "name": "1996"
        },
        {
         "data": [
          {
           "coloraxis": "coloraxis",
           "geo": "geo",
           "hovertemplate": "<b>%{hovertext}</b><br><br>Year=%{z}<extra></extra>",
           "hovertext": [
            1997
           ],
           "locationmode": "country names",
           "locations": [
            1997
           ],
           "name": "",
           "type": "choropleth",
           "z": [
            1997
           ]
          }
         ],
         "name": "1997"
        },
        {
         "data": [
          {
           "coloraxis": "coloraxis",
           "geo": "geo",
           "hovertemplate": "<b>%{hovertext}</b><br><br>Year=%{z}<extra></extra>",
           "hovertext": [
            1998
           ],
           "locationmode": "country names",
           "locations": [
            1998
           ],
           "name": "",
           "type": "choropleth",
           "z": [
            1998
           ]
          }
         ],
         "name": "1998"
        },
        {
         "data": [
          {
           "coloraxis": "coloraxis",
           "geo": "geo",
           "hovertemplate": "<b>%{hovertext}</b><br><br>Year=%{z}<extra></extra>",
           "hovertext": [
            1999
           ],
           "locationmode": "country names",
           "locations": [
            1999
           ],
           "name": "",
           "type": "choropleth",
           "z": [
            1999
           ]
          }
         ],
         "name": "1999"
        },
        {
         "data": [
          {
           "coloraxis": "coloraxis",
           "geo": "geo",
           "hovertemplate": "<b>%{hovertext}</b><br><br>Year=%{z}<extra></extra>",
           "hovertext": [
            2000
           ],
           "locationmode": "country names",
           "locations": [
            2000
           ],
           "name": "",
           "type": "choropleth",
           "z": [
            2000
           ]
          }
         ],
         "name": "2000"
        },
        {
         "data": [
          {
           "coloraxis": "coloraxis",
           "geo": "geo",
           "hovertemplate": "<b>%{hovertext}</b><br><br>Year=%{z}<extra></extra>",
           "hovertext": [
            2001
           ],
           "locationmode": "country names",
           "locations": [
            2001
           ],
           "name": "",
           "type": "choropleth",
           "z": [
            2001
           ]
          }
         ],
         "name": "2001"
        },
        {
         "data": [
          {
           "coloraxis": "coloraxis",
           "geo": "geo",
           "hovertemplate": "<b>%{hovertext}</b><br><br>Year=%{z}<extra></extra>",
           "hovertext": [
            2002
           ],
           "locationmode": "country names",
           "locations": [
            2002
           ],
           "name": "",
           "type": "choropleth",
           "z": [
            2002
           ]
          }
         ],
         "name": "2002"
        },
        {
         "data": [
          {
           "coloraxis": "coloraxis",
           "geo": "geo",
           "hovertemplate": "<b>%{hovertext}</b><br><br>Year=%{z}<extra></extra>",
           "hovertext": [
            2003
           ],
           "locationmode": "country names",
           "locations": [
            2003
           ],
           "name": "",
           "type": "choropleth",
           "z": [
            2003
           ]
          }
         ],
         "name": "2003"
        },
        {
         "data": [
          {
           "coloraxis": "coloraxis",
           "geo": "geo",
           "hovertemplate": "<b>%{hovertext}</b><br><br>Year=%{z}<extra></extra>",
           "hovertext": [
            2004
           ],
           "locationmode": "country names",
           "locations": [
            2004
           ],
           "name": "",
           "type": "choropleth",
           "z": [
            2004
           ]
          }
         ],
         "name": "2004"
        },
        {
         "data": [
          {
           "coloraxis": "coloraxis",
           "geo": "geo",
           "hovertemplate": "<b>%{hovertext}</b><br><br>Year=%{z}<extra></extra>",
           "hovertext": [
            2005
           ],
           "locationmode": "country names",
           "locations": [
            2005
           ],
           "name": "",
           "type": "choropleth",
           "z": [
            2005
           ]
          }
         ],
         "name": "2005"
        },
        {
         "data": [
          {
           "coloraxis": "coloraxis",
           "geo": "geo",
           "hovertemplate": "<b>%{hovertext}</b><br><br>Year=%{z}<extra></extra>",
           "hovertext": [
            2006
           ],
           "locationmode": "country names",
           "locations": [
            2006
           ],
           "name": "",
           "type": "choropleth",
           "z": [
            2006
           ]
          }
         ],
         "name": "2006"
        },
        {
         "data": [
          {
           "coloraxis": "coloraxis",
           "geo": "geo",
           "hovertemplate": "<b>%{hovertext}</b><br><br>Year=%{z}<extra></extra>",
           "hovertext": [
            2007
           ],
           "locationmode": "country names",
           "locations": [
            2007
           ],
           "name": "",
           "type": "choropleth",
           "z": [
            2007
           ]
          }
         ],
         "name": "2007"
        },
        {
         "data": [
          {
           "coloraxis": "coloraxis",
           "geo": "geo",
           "hovertemplate": "<b>%{hovertext}</b><br><br>Year=%{z}<extra></extra>",
           "hovertext": [
            2008
           ],
           "locationmode": "country names",
           "locations": [
            2008
           ],
           "name": "",
           "type": "choropleth",
           "z": [
            2008
           ]
          }
         ],
         "name": "2008"
        },
        {
         "data": [
          {
           "coloraxis": "coloraxis",
           "geo": "geo",
           "hovertemplate": "<b>%{hovertext}</b><br><br>Year=%{z}<extra></extra>",
           "hovertext": [
            2009
           ],
           "locationmode": "country names",
           "locations": [
            2009
           ],
           "name": "",
           "type": "choropleth",
           "z": [
            2009
           ]
          }
         ],
         "name": "2009"
        },
        {
         "data": [
          {
           "coloraxis": "coloraxis",
           "geo": "geo",
           "hovertemplate": "<b>%{hovertext}</b><br><br>Year=%{z}<extra></extra>",
           "hovertext": [
            2010
           ],
           "locationmode": "country names",
           "locations": [
            2010
           ],
           "name": "",
           "type": "choropleth",
           "z": [
            2010
           ]
          }
         ],
         "name": "2010"
        },
        {
         "data": [
          {
           "coloraxis": "coloraxis",
           "geo": "geo",
           "hovertemplate": "<b>%{hovertext}</b><br><br>Year=%{z}<extra></extra>",
           "hovertext": [
            2011
           ],
           "locationmode": "country names",
           "locations": [
            2011
           ],
           "name": "",
           "type": "choropleth",
           "z": [
            2011
           ]
          }
         ],
         "name": "2011"
        },
        {
         "data": [
          {
           "coloraxis": "coloraxis",
           "geo": "geo",
           "hovertemplate": "<b>%{hovertext}</b><br><br>Year=%{z}<extra></extra>",
           "hovertext": [
            2012
           ],
           "locationmode": "country names",
           "locations": [
            2012
           ],
           "name": "",
           "type": "choropleth",
           "z": [
            2012
           ]
          }
         ],
         "name": "2012"
        },
        {
         "data": [
          {
           "coloraxis": "coloraxis",
           "geo": "geo",
           "hovertemplate": "<b>%{hovertext}</b><br><br>Year=%{z}<extra></extra>",
           "hovertext": [
            2013
           ],
           "locationmode": "country names",
           "locations": [
            2013
           ],
           "name": "",
           "type": "choropleth",
           "z": [
            2013
           ]
          }
         ],
         "name": "2013"
        },
        {
         "data": [
          {
           "coloraxis": "coloraxis",
           "geo": "geo",
           "hovertemplate": "<b>%{hovertext}</b><br><br>Year=%{z}<extra></extra>",
           "hovertext": [
            2014
           ],
           "locationmode": "country names",
           "locations": [
            2014
           ],
           "name": "",
           "type": "choropleth",
           "z": [
            2014
           ]
          }
         ],
         "name": "2014"
        },
        {
         "data": [
          {
           "coloraxis": "coloraxis",
           "geo": "geo",
           "hovertemplate": "<b>%{hovertext}</b><br><br>Year=%{z}<extra></extra>",
           "hovertext": [
            2015
           ],
           "locationmode": "country names",
           "locations": [
            2015
           ],
           "name": "",
           "type": "choropleth",
           "z": [
            2015
           ]
          }
         ],
         "name": "2015"
        },
        {
         "data": [
          {
           "coloraxis": "coloraxis",
           "geo": "geo",
           "hovertemplate": "<b>%{hovertext}</b><br><br>Year=%{z}<extra></extra>",
           "hovertext": [
            2016
           ],
           "locationmode": "country names",
           "locations": [
            2016
           ],
           "name": "",
           "type": "choropleth",
           "z": [
            2016
           ]
          }
         ],
         "name": "2016"
        },
        {
         "data": [
          {
           "coloraxis": "coloraxis",
           "geo": "geo",
           "hovertemplate": "<b>%{hovertext}</b><br><br>Year=%{z}<extra></extra>",
           "hovertext": [
            2017
           ],
           "locationmode": "country names",
           "locations": [
            2017
           ],
           "name": "",
           "type": "choropleth",
           "z": [
            2017
           ]
          }
         ],
         "name": "2017"
        },
        {
         "data": [
          {
           "coloraxis": "coloraxis",
           "geo": "geo",
           "hovertemplate": "<b>%{hovertext}</b><br><br>Year=%{z}<extra></extra>",
           "hovertext": [
            2018
           ],
           "locationmode": "country names",
           "locations": [
            2018
           ],
           "name": "",
           "type": "choropleth",
           "z": [
            2018
           ]
          }
         ],
         "name": "2018"
        },
        {
         "data": [
          {
           "coloraxis": "coloraxis",
           "geo": "geo",
           "hovertemplate": "<b>%{hovertext}</b><br><br>Year=%{z}<extra></extra>",
           "hovertext": [
            2019
           ],
           "locationmode": "country names",
           "locations": [
            2019
           ],
           "name": "",
           "type": "choropleth",
           "z": [
            2019
           ]
          }
         ],
         "name": "2019"
        },
        {
         "data": [
          {
           "coloraxis": "coloraxis",
           "geo": "geo",
           "hovertemplate": "<b>%{hovertext}</b><br><br>Year=%{z}<extra></extra>",
           "hovertext": [
            2020
           ],
           "locationmode": "country names",
           "locations": [
            2020
           ],
           "name": "",
           "type": "choropleth",
           "z": [
            2020
           ]
          }
         ],
         "name": "2020"
        }
       ],
       "layout": {
        "coloraxis": {
         "colorbar": {
          "title": {
           "text": "Year"
          }
         },
         "colorscale": [
          [
           0,
           "#0d0887"
          ],
          [
           0.1111111111111111,
           "#46039f"
          ],
          [
           0.2222222222222222,
           "#7201a8"
          ],
          [
           0.3333333333333333,
           "#9c179e"
          ],
          [
           0.4444444444444444,
           "#bd3786"
          ],
          [
           0.5555555555555556,
           "#d8576b"
          ],
          [
           0.6666666666666666,
           "#ed7953"
          ],
          [
           0.7777777777777778,
           "#fb9f3a"
          ],
          [
           0.8888888888888888,
           "#fdca26"
          ],
          [
           1,
           "#f0f921"
          ]
         ]
        },
        "geo": {
         "center": {},
         "domain": {
          "x": [
           0,
           1
          ],
          "y": [
           0,
           1
          ]
         }
        },
        "height": 450,
        "legend": {
         "tracegroupgap": 0
        },
        "margin": {
         "t": 60
        },
        "sliders": [
         {
          "active": 0,
          "currentvalue": {
           "prefix": "Year="
          },
          "len": 0.9,
          "pad": {
           "b": 10,
           "t": 60
          },
          "steps": [
           {
            "args": [
             [
              "1991"
             ],
             {
              "frame": {
               "duration": 0,
               "redraw": true
              },
              "fromcurrent": true,
              "mode": "immediate",
              "transition": {
               "duration": 0,
               "easing": "linear"
              }
             }
            ],
            "label": "1991",
            "method": "animate"
           },
           {
            "args": [
             [
              "1992"
             ],
             {
              "frame": {
               "duration": 0,
               "redraw": true
              },
              "fromcurrent": true,
              "mode": "immediate",
              "transition": {
               "duration": 0,
               "easing": "linear"
              }
             }
            ],
            "label": "1992",
            "method": "animate"
           },
           {
            "args": [
             [
              "1993"
             ],
             {
              "frame": {
               "duration": 0,
               "redraw": true
              },
              "fromcurrent": true,
              "mode": "immediate",
              "transition": {
               "duration": 0,
               "easing": "linear"
              }
             }
            ],
            "label": "1993",
            "method": "animate"
           },
           {
            "args": [
             [
              "1994"
             ],
             {
              "frame": {
               "duration": 0,
               "redraw": true
              },
              "fromcurrent": true,
              "mode": "immediate",
              "transition": {
               "duration": 0,
               "easing": "linear"
              }
             }
            ],
            "label": "1994",
            "method": "animate"
           },
           {
            "args": [
             [
              "1995"
             ],
             {
              "frame": {
               "duration": 0,
               "redraw": true
              },
              "fromcurrent": true,
              "mode": "immediate",
              "transition": {
               "duration": 0,
               "easing": "linear"
              }
             }
            ],
            "label": "1995",
            "method": "animate"
           },
           {
            "args": [
             [
              "1996"
             ],
             {
              "frame": {
               "duration": 0,
               "redraw": true
              },
              "fromcurrent": true,
              "mode": "immediate",
              "transition": {
               "duration": 0,
               "easing": "linear"
              }
             }
            ],
            "label": "1996",
            "method": "animate"
           },
           {
            "args": [
             [
              "1997"
             ],
             {
              "frame": {
               "duration": 0,
               "redraw": true
              },
              "fromcurrent": true,
              "mode": "immediate",
              "transition": {
               "duration": 0,
               "easing": "linear"
              }
             }
            ],
            "label": "1997",
            "method": "animate"
           },
           {
            "args": [
             [
              "1998"
             ],
             {
              "frame": {
               "duration": 0,
               "redraw": true
              },
              "fromcurrent": true,
              "mode": "immediate",
              "transition": {
               "duration": 0,
               "easing": "linear"
              }
             }
            ],
            "label": "1998",
            "method": "animate"
           },
           {
            "args": [
             [
              "1999"
             ],
             {
              "frame": {
               "duration": 0,
               "redraw": true
              },
              "fromcurrent": true,
              "mode": "immediate",
              "transition": {
               "duration": 0,
               "easing": "linear"
              }
             }
            ],
            "label": "1999",
            "method": "animate"
           },
           {
            "args": [
             [
              "2000"
             ],
             {
              "frame": {
               "duration": 0,
               "redraw": true
              },
              "fromcurrent": true,
              "mode": "immediate",
              "transition": {
               "duration": 0,
               "easing": "linear"
              }
             }
            ],
            "label": "2000",
            "method": "animate"
           },
           {
            "args": [
             [
              "2001"
             ],
             {
              "frame": {
               "duration": 0,
               "redraw": true
              },
              "fromcurrent": true,
              "mode": "immediate",
              "transition": {
               "duration": 0,
               "easing": "linear"
              }
             }
            ],
            "label": "2001",
            "method": "animate"
           },
           {
            "args": [
             [
              "2002"
             ],
             {
              "frame": {
               "duration": 0,
               "redraw": true
              },
              "fromcurrent": true,
              "mode": "immediate",
              "transition": {
               "duration": 0,
               "easing": "linear"
              }
             }
            ],
            "label": "2002",
            "method": "animate"
           },
           {
            "args": [
             [
              "2003"
             ],
             {
              "frame": {
               "duration": 0,
               "redraw": true
              },
              "fromcurrent": true,
              "mode": "immediate",
              "transition": {
               "duration": 0,
               "easing": "linear"
              }
             }
            ],
            "label": "2003",
            "method": "animate"
           },
           {
            "args": [
             [
              "2004"
             ],
             {
              "frame": {
               "duration": 0,
               "redraw": true
              },
              "fromcurrent": true,
              "mode": "immediate",
              "transition": {
               "duration": 0,
               "easing": "linear"
              }
             }
            ],
            "label": "2004",
            "method": "animate"
           },
           {
            "args": [
             [
              "2005"
             ],
             {
              "frame": {
               "duration": 0,
               "redraw": true
              },
              "fromcurrent": true,
              "mode": "immediate",
              "transition": {
               "duration": 0,
               "easing": "linear"
              }
             }
            ],
            "label": "2005",
            "method": "animate"
           },
           {
            "args": [
             [
              "2006"
             ],
             {
              "frame": {
               "duration": 0,
               "redraw": true
              },
              "fromcurrent": true,
              "mode": "immediate",
              "transition": {
               "duration": 0,
               "easing": "linear"
              }
             }
            ],
            "label": "2006",
            "method": "animate"
           },
           {
            "args": [
             [
              "2007"
             ],
             {
              "frame": {
               "duration": 0,
               "redraw": true
              },
              "fromcurrent": true,
              "mode": "immediate",
              "transition": {
               "duration": 0,
               "easing": "linear"
              }
             }
            ],
            "label": "2007",
            "method": "animate"
           },
           {
            "args": [
             [
              "2008"
             ],
             {
              "frame": {
               "duration": 0,
               "redraw": true
              },
              "fromcurrent": true,
              "mode": "immediate",
              "transition": {
               "duration": 0,
               "easing": "linear"
              }
             }
            ],
            "label": "2008",
            "method": "animate"
           },
           {
            "args": [
             [
              "2009"
             ],
             {
              "frame": {
               "duration": 0,
               "redraw": true
              },
              "fromcurrent": true,
              "mode": "immediate",
              "transition": {
               "duration": 0,
               "easing": "linear"
              }
             }
            ],
            "label": "2009",
            "method": "animate"
           },
           {
            "args": [
             [
              "2010"
             ],
             {
              "frame": {
               "duration": 0,
               "redraw": true
              },
              "fromcurrent": true,
              "mode": "immediate",
              "transition": {
               "duration": 0,
               "easing": "linear"
              }
             }
            ],
            "label": "2010",
            "method": "animate"
           },
           {
            "args": [
             [
              "2011"
             ],
             {
              "frame": {
               "duration": 0,
               "redraw": true
              },
              "fromcurrent": true,
              "mode": "immediate",
              "transition": {
               "duration": 0,
               "easing": "linear"
              }
             }
            ],
            "label": "2011",
            "method": "animate"
           },
           {
            "args": [
             [
              "2012"
             ],
             {
              "frame": {
               "duration": 0,
               "redraw": true
              },
              "fromcurrent": true,
              "mode": "immediate",
              "transition": {
               "duration": 0,
               "easing": "linear"
              }
             }
            ],
            "label": "2012",
            "method": "animate"
           },
           {
            "args": [
             [
              "2013"
             ],
             {
              "frame": {
               "duration": 0,
               "redraw": true
              },
              "fromcurrent": true,
              "mode": "immediate",
              "transition": {
               "duration": 0,
               "easing": "linear"
              }
             }
            ],
            "label": "2013",
            "method": "animate"
           },
           {
            "args": [
             [
              "2014"
             ],
             {
              "frame": {
               "duration": 0,
               "redraw": true
              },
              "fromcurrent": true,
              "mode": "immediate",
              "transition": {
               "duration": 0,
               "easing": "linear"
              }
             }
            ],
            "label": "2014",
            "method": "animate"
           },
           {
            "args": [
             [
              "2015"
             ],
             {
              "frame": {
               "duration": 0,
               "redraw": true
              },
              "fromcurrent": true,
              "mode": "immediate",
              "transition": {
               "duration": 0,
               "easing": "linear"
              }
             }
            ],
            "label": "2015",
            "method": "animate"
           },
           {
            "args": [
             [
              "2016"
             ],
             {
              "frame": {
               "duration": 0,
               "redraw": true
              },
              "fromcurrent": true,
              "mode": "immediate",
              "transition": {
               "duration": 0,
               "easing": "linear"
              }
             }
            ],
            "label": "2016",
            "method": "animate"
           },
           {
            "args": [
             [
              "2017"
             ],
             {
              "frame": {
               "duration": 0,
               "redraw": true
              },
              "fromcurrent": true,
              "mode": "immediate",
              "transition": {
               "duration": 0,
               "easing": "linear"
              }
             }
            ],
            "label": "2017",
            "method": "animate"
           },
           {
            "args": [
             [
              "2018"
             ],
             {
              "frame": {
               "duration": 0,
               "redraw": true
              },
              "fromcurrent": true,
              "mode": "immediate",
              "transition": {
               "duration": 0,
               "easing": "linear"
              }
             }
            ],
            "label": "2018",
            "method": "animate"
           },
           {
            "args": [
             [
              "2019"
             ],
             {
              "frame": {
               "duration": 0,
               "redraw": true
              },
              "fromcurrent": true,
              "mode": "immediate",
              "transition": {
               "duration": 0,
               "easing": "linear"
              }
             }
            ],
            "label": "2019",
            "method": "animate"
           },
           {
            "args": [
             [
              "2020"
             ],
             {
              "frame": {
               "duration": 0,
               "redraw": true
              },
              "fromcurrent": true,
              "mode": "immediate",
              "transition": {
               "duration": 0,
               "easing": "linear"
              }
             }
            ],
            "label": "2020",
            "method": "animate"
           }
          ],
          "x": 0.1,
          "xanchor": "left",
          "y": 0,
          "yanchor": "top"
         }
        ],
        "template": {
         "data": {
          "bar": [
           {
            "error_x": {
             "color": "#2a3f5f"
            },
            "error_y": {
             "color": "#2a3f5f"
            },
            "marker": {
             "line": {
              "color": "#E5ECF6",
              "width": 0.5
             },
             "pattern": {
              "fillmode": "overlay",
              "size": 10,
              "solidity": 0.2
             }
            },
            "type": "bar"
           }
          ],
          "barpolar": [
           {
            "marker": {
             "line": {
              "color": "#E5ECF6",
              "width": 0.5
             },
             "pattern": {
              "fillmode": "overlay",
              "size": 10,
              "solidity": 0.2
             }
            },
            "type": "barpolar"
           }
          ],
          "carpet": [
           {
            "aaxis": {
             "endlinecolor": "#2a3f5f",
             "gridcolor": "white",
             "linecolor": "white",
             "minorgridcolor": "white",
             "startlinecolor": "#2a3f5f"
            },
            "baxis": {
             "endlinecolor": "#2a3f5f",
             "gridcolor": "white",
             "linecolor": "white",
             "minorgridcolor": "white",
             "startlinecolor": "#2a3f5f"
            },
            "type": "carpet"
           }
          ],
          "choropleth": [
           {
            "colorbar": {
             "outlinewidth": 0,
             "ticks": ""
            },
            "type": "choropleth"
           }
          ],
          "contour": [
           {
            "colorbar": {
             "outlinewidth": 0,
             "ticks": ""
            },
            "colorscale": [
             [
              0,
              "#0d0887"
             ],
             [
              0.1111111111111111,
              "#46039f"
             ],
             [
              0.2222222222222222,
              "#7201a8"
             ],
             [
              0.3333333333333333,
              "#9c179e"
             ],
             [
              0.4444444444444444,
              "#bd3786"
             ],
             [
              0.5555555555555556,
              "#d8576b"
             ],
             [
              0.6666666666666666,
              "#ed7953"
             ],
             [
              0.7777777777777778,
              "#fb9f3a"
             ],
             [
              0.8888888888888888,
              "#fdca26"
             ],
             [
              1,
              "#f0f921"
             ]
            ],
            "type": "contour"
           }
          ],
          "contourcarpet": [
           {
            "colorbar": {
             "outlinewidth": 0,
             "ticks": ""
            },
            "type": "contourcarpet"
           }
          ],
          "heatmap": [
           {
            "colorbar": {
             "outlinewidth": 0,
             "ticks": ""
            },
            "colorscale": [
             [
              0,
              "#0d0887"
             ],
             [
              0.1111111111111111,
              "#46039f"
             ],
             [
              0.2222222222222222,
              "#7201a8"
             ],
             [
              0.3333333333333333,
              "#9c179e"
             ],
             [
              0.4444444444444444,
              "#bd3786"
             ],
             [
              0.5555555555555556,
              "#d8576b"
             ],
             [
              0.6666666666666666,
              "#ed7953"
             ],
             [
              0.7777777777777778,
              "#fb9f3a"
             ],
             [
              0.8888888888888888,
              "#fdca26"
             ],
             [
              1,
              "#f0f921"
             ]
            ],
            "type": "heatmap"
           }
          ],
          "heatmapgl": [
           {
            "colorbar": {
             "outlinewidth": 0,
             "ticks": ""
            },
            "colorscale": [
             [
              0,
              "#0d0887"
             ],
             [
              0.1111111111111111,
              "#46039f"
             ],
             [
              0.2222222222222222,
              "#7201a8"
             ],
             [
              0.3333333333333333,
              "#9c179e"
             ],
             [
              0.4444444444444444,
              "#bd3786"
             ],
             [
              0.5555555555555556,
              "#d8576b"
             ],
             [
              0.6666666666666666,
              "#ed7953"
             ],
             [
              0.7777777777777778,
              "#fb9f3a"
             ],
             [
              0.8888888888888888,
              "#fdca26"
             ],
             [
              1,
              "#f0f921"
             ]
            ],
            "type": "heatmapgl"
           }
          ],
          "histogram": [
           {
            "marker": {
             "pattern": {
              "fillmode": "overlay",
              "size": 10,
              "solidity": 0.2
             }
            },
            "type": "histogram"
           }
          ],
          "histogram2d": [
           {
            "colorbar": {
             "outlinewidth": 0,
             "ticks": ""
            },
            "colorscale": [
             [
              0,
              "#0d0887"
             ],
             [
              0.1111111111111111,
              "#46039f"
             ],
             [
              0.2222222222222222,
              "#7201a8"
             ],
             [
              0.3333333333333333,
              "#9c179e"
             ],
             [
              0.4444444444444444,
              "#bd3786"
             ],
             [
              0.5555555555555556,
              "#d8576b"
             ],
             [
              0.6666666666666666,
              "#ed7953"
             ],
             [
              0.7777777777777778,
              "#fb9f3a"
             ],
             [
              0.8888888888888888,
              "#fdca26"
             ],
             [
              1,
              "#f0f921"
             ]
            ],
            "type": "histogram2d"
           }
          ],
          "histogram2dcontour": [
           {
            "colorbar": {
             "outlinewidth": 0,
             "ticks": ""
            },
            "colorscale": [
             [
              0,
              "#0d0887"
             ],
             [
              0.1111111111111111,
              "#46039f"
             ],
             [
              0.2222222222222222,
              "#7201a8"
             ],
             [
              0.3333333333333333,
              "#9c179e"
             ],
             [
              0.4444444444444444,
              "#bd3786"
             ],
             [
              0.5555555555555556,
              "#d8576b"
             ],
             [
              0.6666666666666666,
              "#ed7953"
             ],
             [
              0.7777777777777778,
              "#fb9f3a"
             ],
             [
              0.8888888888888888,
              "#fdca26"
             ],
             [
              1,
              "#f0f921"
             ]
            ],
            "type": "histogram2dcontour"
           }
          ],
          "mesh3d": [
           {
            "colorbar": {
             "outlinewidth": 0,
             "ticks": ""
            },
            "type": "mesh3d"
           }
          ],
          "parcoords": [
           {
            "line": {
             "colorbar": {
              "outlinewidth": 0,
              "ticks": ""
             }
            },
            "type": "parcoords"
           }
          ],
          "pie": [
           {
            "automargin": true,
            "type": "pie"
           }
          ],
          "scatter": [
           {
            "fillpattern": {
             "fillmode": "overlay",
             "size": 10,
             "solidity": 0.2
            },
            "type": "scatter"
           }
          ],
          "scatter3d": [
           {
            "line": {
             "colorbar": {
              "outlinewidth": 0,
              "ticks": ""
             }
            },
            "marker": {
             "colorbar": {
              "outlinewidth": 0,
              "ticks": ""
             }
            },
            "type": "scatter3d"
           }
          ],
          "scattercarpet": [
           {
            "marker": {
             "colorbar": {
              "outlinewidth": 0,
              "ticks": ""
             }
            },
            "type": "scattercarpet"
           }
          ],
          "scattergeo": [
           {
            "marker": {
             "colorbar": {
              "outlinewidth": 0,
              "ticks": ""
             }
            },
            "type": "scattergeo"
           }
          ],
          "scattergl": [
           {
            "marker": {
             "colorbar": {
              "outlinewidth": 0,
              "ticks": ""
             }
            },
            "type": "scattergl"
           }
          ],
          "scattermapbox": [
           {
            "marker": {
             "colorbar": {
              "outlinewidth": 0,
              "ticks": ""
             }
            },
            "type": "scattermapbox"
           }
          ],
          "scatterpolar": [
           {
            "marker": {
             "colorbar": {
              "outlinewidth": 0,
              "ticks": ""
             }
            },
            "type": "scatterpolar"
           }
          ],
          "scatterpolargl": [
           {
            "marker": {
             "colorbar": {
              "outlinewidth": 0,
              "ticks": ""
             }
            },
            "type": "scatterpolargl"
           }
          ],
          "scatterternary": [
           {
            "marker": {
             "colorbar": {
              "outlinewidth": 0,
              "ticks": ""
             }
            },
            "type": "scatterternary"
           }
          ],
          "surface": [
           {
            "colorbar": {
             "outlinewidth": 0,
             "ticks": ""
            },
            "colorscale": [
             [
              0,
              "#0d0887"
             ],
             [
              0.1111111111111111,
              "#46039f"
             ],
             [
              0.2222222222222222,
              "#7201a8"
             ],
             [
              0.3333333333333333,
              "#9c179e"
             ],
             [
              0.4444444444444444,
              "#bd3786"
             ],
             [
              0.5555555555555556,
              "#d8576b"
             ],
             [
              0.6666666666666666,
              "#ed7953"
             ],
             [
              0.7777777777777778,
              "#fb9f3a"
             ],
             [
              0.8888888888888888,
              "#fdca26"
             ],
             [
              1,
              "#f0f921"
             ]
            ],
            "type": "surface"
           }
          ],
          "table": [
           {
            "cells": {
             "fill": {
              "color": "#EBF0F8"
             },
             "line": {
              "color": "white"
             }
            },
            "header": {
             "fill": {
              "color": "#C8D4E3"
             },
             "line": {
              "color": "white"
             }
            },
            "type": "table"
           }
          ]
         },
         "layout": {
          "annotationdefaults": {
           "arrowcolor": "#2a3f5f",
           "arrowhead": 0,
           "arrowwidth": 1
          },
          "autotypenumbers": "strict",
          "coloraxis": {
           "colorbar": {
            "outlinewidth": 0,
            "ticks": ""
           }
          },
          "colorscale": {
           "diverging": [
            [
             0,
             "#8e0152"
            ],
            [
             0.1,
             "#c51b7d"
            ],
            [
             0.2,
             "#de77ae"
            ],
            [
             0.3,
             "#f1b6da"
            ],
            [
             0.4,
             "#fde0ef"
            ],
            [
             0.5,
             "#f7f7f7"
            ],
            [
             0.6,
             "#e6f5d0"
            ],
            [
             0.7,
             "#b8e186"
            ],
            [
             0.8,
             "#7fbc41"
            ],
            [
             0.9,
             "#4d9221"
            ],
            [
             1,
             "#276419"
            ]
           ],
           "sequential": [
            [
             0,
             "#0d0887"
            ],
            [
             0.1111111111111111,
             "#46039f"
            ],
            [
             0.2222222222222222,
             "#7201a8"
            ],
            [
             0.3333333333333333,
             "#9c179e"
            ],
            [
             0.4444444444444444,
             "#bd3786"
            ],
            [
             0.5555555555555556,
             "#d8576b"
            ],
            [
             0.6666666666666666,
             "#ed7953"
            ],
            [
             0.7777777777777778,
             "#fb9f3a"
            ],
            [
             0.8888888888888888,
             "#fdca26"
            ],
            [
             1,
             "#f0f921"
            ]
           ],
           "sequentialminus": [
            [
             0,
             "#0d0887"
            ],
            [
             0.1111111111111111,
             "#46039f"
            ],
            [
             0.2222222222222222,
             "#7201a8"
            ],
            [
             0.3333333333333333,
             "#9c179e"
            ],
            [
             0.4444444444444444,
             "#bd3786"
            ],
            [
             0.5555555555555556,
             "#d8576b"
            ],
            [
             0.6666666666666666,
             "#ed7953"
            ],
            [
             0.7777777777777778,
             "#fb9f3a"
            ],
            [
             0.8888888888888888,
             "#fdca26"
            ],
            [
             1,
             "#f0f921"
            ]
           ]
          },
          "colorway": [
           "#636efa",
           "#EF553B",
           "#00cc96",
           "#ab63fa",
           "#FFA15A",
           "#19d3f3",
           "#FF6692",
           "#B6E880",
           "#FF97FF",
           "#FECB52"
          ],
          "font": {
           "color": "#2a3f5f"
          },
          "geo": {
           "bgcolor": "white",
           "lakecolor": "white",
           "landcolor": "#E5ECF6",
           "showlakes": true,
           "showland": true,
           "subunitcolor": "white"
          },
          "hoverlabel": {
           "align": "left"
          },
          "hovermode": "closest",
          "mapbox": {
           "style": "light"
          },
          "paper_bgcolor": "white",
          "plot_bgcolor": "#E5ECF6",
          "polar": {
           "angularaxis": {
            "gridcolor": "white",
            "linecolor": "white",
            "ticks": ""
           },
           "bgcolor": "#E5ECF6",
           "radialaxis": {
            "gridcolor": "white",
            "linecolor": "white",
            "ticks": ""
           }
          },
          "scene": {
           "xaxis": {
            "backgroundcolor": "#E5ECF6",
            "gridcolor": "white",
            "gridwidth": 2,
            "linecolor": "white",
            "showbackground": true,
            "ticks": "",
            "zerolinecolor": "white"
           },
           "yaxis": {
            "backgroundcolor": "#E5ECF6",
            "gridcolor": "white",
            "gridwidth": 2,
            "linecolor": "white",
            "showbackground": true,
            "ticks": "",
            "zerolinecolor": "white"
           },
           "zaxis": {
            "backgroundcolor": "#E5ECF6",
            "gridcolor": "white",
            "gridwidth": 2,
            "linecolor": "white",
            "showbackground": true,
            "ticks": "",
            "zerolinecolor": "white"
           }
          },
          "shapedefaults": {
           "line": {
            "color": "#2a3f5f"
           }
          },
          "ternary": {
           "aaxis": {
            "gridcolor": "white",
            "linecolor": "white",
            "ticks": ""
           },
           "baxis": {
            "gridcolor": "white",
            "linecolor": "white",
            "ticks": ""
           },
           "bgcolor": "#E5ECF6",
           "caxis": {
            "gridcolor": "white",
            "linecolor": "white",
            "ticks": ""
           }
          },
          "title": {
           "x": 0.05
          },
          "xaxis": {
           "automargin": true,
           "gridcolor": "white",
           "linecolor": "white",
           "ticks": "",
           "title": {
            "standoff": 15
           },
           "zerolinecolor": "white",
           "zerolinewidth": 2
          },
          "yaxis": {
           "automargin": true,
           "gridcolor": "white",
           "linecolor": "white",
           "ticks": "",
           "title": {
            "standoff": 15
           },
           "zerolinecolor": "white",
           "zerolinewidth": 2
          }
         }
        },
        "updatemenus": [
         {
          "buttons": [
           {
            "args": [
             null,
             {
              "frame": {
               "duration": 500,
               "redraw": true
              },
              "fromcurrent": true,
              "mode": "immediate",
              "transition": {
               "duration": 500,
               "easing": "linear"
              }
             }
            ],
            "label": "&#9654;",
            "method": "animate"
           },
           {
            "args": [
             [
              null
             ],
             {
              "frame": {
               "duration": 0,
               "redraw": true
              },
              "fromcurrent": true,
              "mode": "immediate",
              "transition": {
               "duration": 0,
               "easing": "linear"
              }
             }
            ],
            "label": "&#9724;",
            "method": "animate"
           }
          ],
          "direction": "left",
          "pad": {
           "r": 10,
           "t": 70
          },
          "showactive": false,
          "type": "buttons",
          "x": 0.1,
          "xanchor": "right",
          "y": 0,
          "yanchor": "top"
         }
        ],
        "width": 800
       }
      },
      "text/html": [
       "<div>                            <div id=\"792f1afe-5ca2-4610-abd8-9034d6799701\" class=\"plotly-graph-div\" style=\"height:450px; width:800px;\"></div>            <script type=\"text/javascript\">                require([\"plotly\"], function(Plotly) {                    window.PLOTLYENV=window.PLOTLYENV || {};                                    if (document.getElementById(\"792f1afe-5ca2-4610-abd8-9034d6799701\")) {                    Plotly.newPlot(                        \"792f1afe-5ca2-4610-abd8-9034d6799701\",                        [{\"coloraxis\":\"coloraxis\",\"geo\":\"geo\",\"hovertemplate\":\"<b>%{hovertext}</b><br><br>Year=%{z}<extra></extra>\",\"hovertext\":[1991.0],\"locationmode\":\"country names\",\"locations\":[1991],\"name\":\"\",\"z\":[1991],\"type\":\"choropleth\"}],                        {\"template\":{\"data\":{\"histogram2dcontour\":[{\"type\":\"histogram2dcontour\",\"colorbar\":{\"outlinewidth\":0,\"ticks\":\"\"},\"colorscale\":[[0.0,\"#0d0887\"],[0.1111111111111111,\"#46039f\"],[0.2222222222222222,\"#7201a8\"],[0.3333333333333333,\"#9c179e\"],[0.4444444444444444,\"#bd3786\"],[0.5555555555555556,\"#d8576b\"],[0.6666666666666666,\"#ed7953\"],[0.7777777777777778,\"#fb9f3a\"],[0.8888888888888888,\"#fdca26\"],[1.0,\"#f0f921\"]]}],\"choropleth\":[{\"type\":\"choropleth\",\"colorbar\":{\"outlinewidth\":0,\"ticks\":\"\"}}],\"histogram2d\":[{\"type\":\"histogram2d\",\"colorbar\":{\"outlinewidth\":0,\"ticks\":\"\"},\"colorscale\":[[0.0,\"#0d0887\"],[0.1111111111111111,\"#46039f\"],[0.2222222222222222,\"#7201a8\"],[0.3333333333333333,\"#9c179e\"],[0.4444444444444444,\"#bd3786\"],[0.5555555555555556,\"#d8576b\"],[0.6666666666666666,\"#ed7953\"],[0.7777777777777778,\"#fb9f3a\"],[0.8888888888888888,\"#fdca26\"],[1.0,\"#f0f921\"]]}],\"heatmap\":[{\"type\":\"heatmap\",\"colorbar\":{\"outlinewidth\":0,\"ticks\":\"\"},\"colorscale\":[[0.0,\"#0d0887\"],[0.1111111111111111,\"#46039f\"],[0.2222222222222222,\"#7201a8\"],[0.3333333333333333,\"#9c179e\"],[0.4444444444444444,\"#bd3786\"],[0.5555555555555556,\"#d8576b\"],[0.6666666666666666,\"#ed7953\"],[0.7777777777777778,\"#fb9f3a\"],[0.8888888888888888,\"#fdca26\"],[1.0,\"#f0f921\"]]}],\"heatmapgl\":[{\"type\":\"heatmapgl\",\"colorbar\":{\"outlinewidth\":0,\"ticks\":\"\"},\"colorscale\":[[0.0,\"#0d0887\"],[0.1111111111111111,\"#46039f\"],[0.2222222222222222,\"#7201a8\"],[0.3333333333333333,\"#9c179e\"],[0.4444444444444444,\"#bd3786\"],[0.5555555555555556,\"#d8576b\"],[0.6666666666666666,\"#ed7953\"],[0.7777777777777778,\"#fb9f3a\"],[0.8888888888888888,\"#fdca26\"],[1.0,\"#f0f921\"]]}],\"contourcarpet\":[{\"type\":\"contourcarpet\",\"colorbar\":{\"outlinewidth\":0,\"ticks\":\"\"}}],\"contour\":[{\"type\":\"contour\",\"colorbar\":{\"outlinewidth\":0,\"ticks\":\"\"},\"colorscale\":[[0.0,\"#0d0887\"],[0.1111111111111111,\"#46039f\"],[0.2222222222222222,\"#7201a8\"],[0.3333333333333333,\"#9c179e\"],[0.4444444444444444,\"#bd3786\"],[0.5555555555555556,\"#d8576b\"],[0.6666666666666666,\"#ed7953\"],[0.7777777777777778,\"#fb9f3a\"],[0.8888888888888888,\"#fdca26\"],[1.0,\"#f0f921\"]]}],\"surface\":[{\"type\":\"surface\",\"colorbar\":{\"outlinewidth\":0,\"ticks\":\"\"},\"colorscale\":[[0.0,\"#0d0887\"],[0.1111111111111111,\"#46039f\"],[0.2222222222222222,\"#7201a8\"],[0.3333333333333333,\"#9c179e\"],[0.4444444444444444,\"#bd3786\"],[0.5555555555555556,\"#d8576b\"],[0.6666666666666666,\"#ed7953\"],[0.7777777777777778,\"#fb9f3a\"],[0.8888888888888888,\"#fdca26\"],[1.0,\"#f0f921\"]]}],\"mesh3d\":[{\"type\":\"mesh3d\",\"colorbar\":{\"outlinewidth\":0,\"ticks\":\"\"}}],\"scatter\":[{\"fillpattern\":{\"fillmode\":\"overlay\",\"size\":10,\"solidity\":0.2},\"type\":\"scatter\"}],\"parcoords\":[{\"type\":\"parcoords\",\"line\":{\"colorbar\":{\"outlinewidth\":0,\"ticks\":\"\"}}}],\"scatterpolargl\":[{\"type\":\"scatterpolargl\",\"marker\":{\"colorbar\":{\"outlinewidth\":0,\"ticks\":\"\"}}}],\"bar\":[{\"error_x\":{\"color\":\"#2a3f5f\"},\"error_y\":{\"color\":\"#2a3f5f\"},\"marker\":{\"line\":{\"color\":\"#E5ECF6\",\"width\":0.5},\"pattern\":{\"fillmode\":\"overlay\",\"size\":10,\"solidity\":0.2}},\"type\":\"bar\"}],\"scattergeo\":[{\"type\":\"scattergeo\",\"marker\":{\"colorbar\":{\"outlinewidth\":0,\"ticks\":\"\"}}}],\"scatterpolar\":[{\"type\":\"scatterpolar\",\"marker\":{\"colorbar\":{\"outlinewidth\":0,\"ticks\":\"\"}}}],\"histogram\":[{\"marker\":{\"pattern\":{\"fillmode\":\"overlay\",\"size\":10,\"solidity\":0.2}},\"type\":\"histogram\"}],\"scattergl\":[{\"type\":\"scattergl\",\"marker\":{\"colorbar\":{\"outlinewidth\":0,\"ticks\":\"\"}}}],\"scatter3d\":[{\"type\":\"scatter3d\",\"line\":{\"colorbar\":{\"outlinewidth\":0,\"ticks\":\"\"}},\"marker\":{\"colorbar\":{\"outlinewidth\":0,\"ticks\":\"\"}}}],\"scattermapbox\":[{\"type\":\"scattermapbox\",\"marker\":{\"colorbar\":{\"outlinewidth\":0,\"ticks\":\"\"}}}],\"scatterternary\":[{\"type\":\"scatterternary\",\"marker\":{\"colorbar\":{\"outlinewidth\":0,\"ticks\":\"\"}}}],\"scattercarpet\":[{\"type\":\"scattercarpet\",\"marker\":{\"colorbar\":{\"outlinewidth\":0,\"ticks\":\"\"}}}],\"carpet\":[{\"aaxis\":{\"endlinecolor\":\"#2a3f5f\",\"gridcolor\":\"white\",\"linecolor\":\"white\",\"minorgridcolor\":\"white\",\"startlinecolor\":\"#2a3f5f\"},\"baxis\":{\"endlinecolor\":\"#2a3f5f\",\"gridcolor\":\"white\",\"linecolor\":\"white\",\"minorgridcolor\":\"white\",\"startlinecolor\":\"#2a3f5f\"},\"type\":\"carpet\"}],\"table\":[{\"cells\":{\"fill\":{\"color\":\"#EBF0F8\"},\"line\":{\"color\":\"white\"}},\"header\":{\"fill\":{\"color\":\"#C8D4E3\"},\"line\":{\"color\":\"white\"}},\"type\":\"table\"}],\"barpolar\":[{\"marker\":{\"line\":{\"color\":\"#E5ECF6\",\"width\":0.5},\"pattern\":{\"fillmode\":\"overlay\",\"size\":10,\"solidity\":0.2}},\"type\":\"barpolar\"}],\"pie\":[{\"automargin\":true,\"type\":\"pie\"}]},\"layout\":{\"autotypenumbers\":\"strict\",\"colorway\":[\"#636efa\",\"#EF553B\",\"#00cc96\",\"#ab63fa\",\"#FFA15A\",\"#19d3f3\",\"#FF6692\",\"#B6E880\",\"#FF97FF\",\"#FECB52\"],\"font\":{\"color\":\"#2a3f5f\"},\"hovermode\":\"closest\",\"hoverlabel\":{\"align\":\"left\"},\"paper_bgcolor\":\"white\",\"plot_bgcolor\":\"#E5ECF6\",\"polar\":{\"bgcolor\":\"#E5ECF6\",\"angularaxis\":{\"gridcolor\":\"white\",\"linecolor\":\"white\",\"ticks\":\"\"},\"radialaxis\":{\"gridcolor\":\"white\",\"linecolor\":\"white\",\"ticks\":\"\"}},\"ternary\":{\"bgcolor\":\"#E5ECF6\",\"aaxis\":{\"gridcolor\":\"white\",\"linecolor\":\"white\",\"ticks\":\"\"},\"baxis\":{\"gridcolor\":\"white\",\"linecolor\":\"white\",\"ticks\":\"\"},\"caxis\":{\"gridcolor\":\"white\",\"linecolor\":\"white\",\"ticks\":\"\"}},\"coloraxis\":{\"colorbar\":{\"outlinewidth\":0,\"ticks\":\"\"}},\"colorscale\":{\"sequential\":[[0.0,\"#0d0887\"],[0.1111111111111111,\"#46039f\"],[0.2222222222222222,\"#7201a8\"],[0.3333333333333333,\"#9c179e\"],[0.4444444444444444,\"#bd3786\"],[0.5555555555555556,\"#d8576b\"],[0.6666666666666666,\"#ed7953\"],[0.7777777777777778,\"#fb9f3a\"],[0.8888888888888888,\"#fdca26\"],[1.0,\"#f0f921\"]],\"sequentialminus\":[[0.0,\"#0d0887\"],[0.1111111111111111,\"#46039f\"],[0.2222222222222222,\"#7201a8\"],[0.3333333333333333,\"#9c179e\"],[0.4444444444444444,\"#bd3786\"],[0.5555555555555556,\"#d8576b\"],[0.6666666666666666,\"#ed7953\"],[0.7777777777777778,\"#fb9f3a\"],[0.8888888888888888,\"#fdca26\"],[1.0,\"#f0f921\"]],\"diverging\":[[0,\"#8e0152\"],[0.1,\"#c51b7d\"],[0.2,\"#de77ae\"],[0.3,\"#f1b6da\"],[0.4,\"#fde0ef\"],[0.5,\"#f7f7f7\"],[0.6,\"#e6f5d0\"],[0.7,\"#b8e186\"],[0.8,\"#7fbc41\"],[0.9,\"#4d9221\"],[1,\"#276419\"]]},\"xaxis\":{\"gridcolor\":\"white\",\"linecolor\":\"white\",\"ticks\":\"\",\"title\":{\"standoff\":15},\"zerolinecolor\":\"white\",\"automargin\":true,\"zerolinewidth\":2},\"yaxis\":{\"gridcolor\":\"white\",\"linecolor\":\"white\",\"ticks\":\"\",\"title\":{\"standoff\":15},\"zerolinecolor\":\"white\",\"automargin\":true,\"zerolinewidth\":2},\"scene\":{\"xaxis\":{\"backgroundcolor\":\"#E5ECF6\",\"gridcolor\":\"white\",\"linecolor\":\"white\",\"showbackground\":true,\"ticks\":\"\",\"zerolinecolor\":\"white\",\"gridwidth\":2},\"yaxis\":{\"backgroundcolor\":\"#E5ECF6\",\"gridcolor\":\"white\",\"linecolor\":\"white\",\"showbackground\":true,\"ticks\":\"\",\"zerolinecolor\":\"white\",\"gridwidth\":2},\"zaxis\":{\"backgroundcolor\":\"#E5ECF6\",\"gridcolor\":\"white\",\"linecolor\":\"white\",\"showbackground\":true,\"ticks\":\"\",\"zerolinecolor\":\"white\",\"gridwidth\":2}},\"shapedefaults\":{\"line\":{\"color\":\"#2a3f5f\"}},\"annotationdefaults\":{\"arrowcolor\":\"#2a3f5f\",\"arrowhead\":0,\"arrowwidth\":1},\"geo\":{\"bgcolor\":\"white\",\"landcolor\":\"#E5ECF6\",\"subunitcolor\":\"white\",\"showland\":true,\"showlakes\":true,\"lakecolor\":\"white\"},\"title\":{\"x\":0.05},\"mapbox\":{\"style\":\"light\"}}},\"geo\":{\"domain\":{\"x\":[0.0,1.0],\"y\":[0.0,1.0]},\"center\":{}},\"coloraxis\":{\"colorbar\":{\"title\":{\"text\":\"Year\"}},\"colorscale\":[[0.0,\"#0d0887\"],[0.1111111111111111,\"#46039f\"],[0.2222222222222222,\"#7201a8\"],[0.3333333333333333,\"#9c179e\"],[0.4444444444444444,\"#bd3786\"],[0.5555555555555556,\"#d8576b\"],[0.6666666666666666,\"#ed7953\"],[0.7777777777777778,\"#fb9f3a\"],[0.8888888888888888,\"#fdca26\"],[1.0,\"#f0f921\"]]},\"legend\":{\"tracegroupgap\":0},\"margin\":{\"t\":60},\"height\":450,\"width\":800,\"updatemenus\":[{\"buttons\":[{\"args\":[null,{\"frame\":{\"duration\":500,\"redraw\":true},\"mode\":\"immediate\",\"fromcurrent\":true,\"transition\":{\"duration\":500,\"easing\":\"linear\"}}],\"label\":\"&#9654;\",\"method\":\"animate\"},{\"args\":[[null],{\"frame\":{\"duration\":0,\"redraw\":true},\"mode\":\"immediate\",\"fromcurrent\":true,\"transition\":{\"duration\":0,\"easing\":\"linear\"}}],\"label\":\"&#9724;\",\"method\":\"animate\"}],\"direction\":\"left\",\"pad\":{\"r\":10,\"t\":70},\"showactive\":false,\"type\":\"buttons\",\"x\":0.1,\"xanchor\":\"right\",\"y\":0,\"yanchor\":\"top\"}],\"sliders\":[{\"active\":0,\"currentvalue\":{\"prefix\":\"Year=\"},\"len\":0.9,\"pad\":{\"b\":10,\"t\":60},\"steps\":[{\"args\":[[\"1991\"],{\"frame\":{\"duration\":0,\"redraw\":true},\"mode\":\"immediate\",\"fromcurrent\":true,\"transition\":{\"duration\":0,\"easing\":\"linear\"}}],\"label\":\"1991\",\"method\":\"animate\"},{\"args\":[[\"1992\"],{\"frame\":{\"duration\":0,\"redraw\":true},\"mode\":\"immediate\",\"fromcurrent\":true,\"transition\":{\"duration\":0,\"easing\":\"linear\"}}],\"label\":\"1992\",\"method\":\"animate\"},{\"args\":[[\"1993\"],{\"frame\":{\"duration\":0,\"redraw\":true},\"mode\":\"immediate\",\"fromcurrent\":true,\"transition\":{\"duration\":0,\"easing\":\"linear\"}}],\"label\":\"1993\",\"method\":\"animate\"},{\"args\":[[\"1994\"],{\"frame\":{\"duration\":0,\"redraw\":true},\"mode\":\"immediate\",\"fromcurrent\":true,\"transition\":{\"duration\":0,\"easing\":\"linear\"}}],\"label\":\"1994\",\"method\":\"animate\"},{\"args\":[[\"1995\"],{\"frame\":{\"duration\":0,\"redraw\":true},\"mode\":\"immediate\",\"fromcurrent\":true,\"transition\":{\"duration\":0,\"easing\":\"linear\"}}],\"label\":\"1995\",\"method\":\"animate\"},{\"args\":[[\"1996\"],{\"frame\":{\"duration\":0,\"redraw\":true},\"mode\":\"immediate\",\"fromcurrent\":true,\"transition\":{\"duration\":0,\"easing\":\"linear\"}}],\"label\":\"1996\",\"method\":\"animate\"},{\"args\":[[\"1997\"],{\"frame\":{\"duration\":0,\"redraw\":true},\"mode\":\"immediate\",\"fromcurrent\":true,\"transition\":{\"duration\":0,\"easing\":\"linear\"}}],\"label\":\"1997\",\"method\":\"animate\"},{\"args\":[[\"1998\"],{\"frame\":{\"duration\":0,\"redraw\":true},\"mode\":\"immediate\",\"fromcurrent\":true,\"transition\":{\"duration\":0,\"easing\":\"linear\"}}],\"label\":\"1998\",\"method\":\"animate\"},{\"args\":[[\"1999\"],{\"frame\":{\"duration\":0,\"redraw\":true},\"mode\":\"immediate\",\"fromcurrent\":true,\"transition\":{\"duration\":0,\"easing\":\"linear\"}}],\"label\":\"1999\",\"method\":\"animate\"},{\"args\":[[\"2000\"],{\"frame\":{\"duration\":0,\"redraw\":true},\"mode\":\"immediate\",\"fromcurrent\":true,\"transition\":{\"duration\":0,\"easing\":\"linear\"}}],\"label\":\"2000\",\"method\":\"animate\"},{\"args\":[[\"2001\"],{\"frame\":{\"duration\":0,\"redraw\":true},\"mode\":\"immediate\",\"fromcurrent\":true,\"transition\":{\"duration\":0,\"easing\":\"linear\"}}],\"label\":\"2001\",\"method\":\"animate\"},{\"args\":[[\"2002\"],{\"frame\":{\"duration\":0,\"redraw\":true},\"mode\":\"immediate\",\"fromcurrent\":true,\"transition\":{\"duration\":0,\"easing\":\"linear\"}}],\"label\":\"2002\",\"method\":\"animate\"},{\"args\":[[\"2003\"],{\"frame\":{\"duration\":0,\"redraw\":true},\"mode\":\"immediate\",\"fromcurrent\":true,\"transition\":{\"duration\":0,\"easing\":\"linear\"}}],\"label\":\"2003\",\"method\":\"animate\"},{\"args\":[[\"2004\"],{\"frame\":{\"duration\":0,\"redraw\":true},\"mode\":\"immediate\",\"fromcurrent\":true,\"transition\":{\"duration\":0,\"easing\":\"linear\"}}],\"label\":\"2004\",\"method\":\"animate\"},{\"args\":[[\"2005\"],{\"frame\":{\"duration\":0,\"redraw\":true},\"mode\":\"immediate\",\"fromcurrent\":true,\"transition\":{\"duration\":0,\"easing\":\"linear\"}}],\"label\":\"2005\",\"method\":\"animate\"},{\"args\":[[\"2006\"],{\"frame\":{\"duration\":0,\"redraw\":true},\"mode\":\"immediate\",\"fromcurrent\":true,\"transition\":{\"duration\":0,\"easing\":\"linear\"}}],\"label\":\"2006\",\"method\":\"animate\"},{\"args\":[[\"2007\"],{\"frame\":{\"duration\":0,\"redraw\":true},\"mode\":\"immediate\",\"fromcurrent\":true,\"transition\":{\"duration\":0,\"easing\":\"linear\"}}],\"label\":\"2007\",\"method\":\"animate\"},{\"args\":[[\"2008\"],{\"frame\":{\"duration\":0,\"redraw\":true},\"mode\":\"immediate\",\"fromcurrent\":true,\"transition\":{\"duration\":0,\"easing\":\"linear\"}}],\"label\":\"2008\",\"method\":\"animate\"},{\"args\":[[\"2009\"],{\"frame\":{\"duration\":0,\"redraw\":true},\"mode\":\"immediate\",\"fromcurrent\":true,\"transition\":{\"duration\":0,\"easing\":\"linear\"}}],\"label\":\"2009\",\"method\":\"animate\"},{\"args\":[[\"2010\"],{\"frame\":{\"duration\":0,\"redraw\":true},\"mode\":\"immediate\",\"fromcurrent\":true,\"transition\":{\"duration\":0,\"easing\":\"linear\"}}],\"label\":\"2010\",\"method\":\"animate\"},{\"args\":[[\"2011\"],{\"frame\":{\"duration\":0,\"redraw\":true},\"mode\":\"immediate\",\"fromcurrent\":true,\"transition\":{\"duration\":0,\"easing\":\"linear\"}}],\"label\":\"2011\",\"method\":\"animate\"},{\"args\":[[\"2012\"],{\"frame\":{\"duration\":0,\"redraw\":true},\"mode\":\"immediate\",\"fromcurrent\":true,\"transition\":{\"duration\":0,\"easing\":\"linear\"}}],\"label\":\"2012\",\"method\":\"animate\"},{\"args\":[[\"2013\"],{\"frame\":{\"duration\":0,\"redraw\":true},\"mode\":\"immediate\",\"fromcurrent\":true,\"transition\":{\"duration\":0,\"easing\":\"linear\"}}],\"label\":\"2013\",\"method\":\"animate\"},{\"args\":[[\"2014\"],{\"frame\":{\"duration\":0,\"redraw\":true},\"mode\":\"immediate\",\"fromcurrent\":true,\"transition\":{\"duration\":0,\"easing\":\"linear\"}}],\"label\":\"2014\",\"method\":\"animate\"},{\"args\":[[\"2015\"],{\"frame\":{\"duration\":0,\"redraw\":true},\"mode\":\"immediate\",\"fromcurrent\":true,\"transition\":{\"duration\":0,\"easing\":\"linear\"}}],\"label\":\"2015\",\"method\":\"animate\"},{\"args\":[[\"2016\"],{\"frame\":{\"duration\":0,\"redraw\":true},\"mode\":\"immediate\",\"fromcurrent\":true,\"transition\":{\"duration\":0,\"easing\":\"linear\"}}],\"label\":\"2016\",\"method\":\"animate\"},{\"args\":[[\"2017\"],{\"frame\":{\"duration\":0,\"redraw\":true},\"mode\":\"immediate\",\"fromcurrent\":true,\"transition\":{\"duration\":0,\"easing\":\"linear\"}}],\"label\":\"2017\",\"method\":\"animate\"},{\"args\":[[\"2018\"],{\"frame\":{\"duration\":0,\"redraw\":true},\"mode\":\"immediate\",\"fromcurrent\":true,\"transition\":{\"duration\":0,\"easing\":\"linear\"}}],\"label\":\"2018\",\"method\":\"animate\"},{\"args\":[[\"2019\"],{\"frame\":{\"duration\":0,\"redraw\":true},\"mode\":\"immediate\",\"fromcurrent\":true,\"transition\":{\"duration\":0,\"easing\":\"linear\"}}],\"label\":\"2019\",\"method\":\"animate\"},{\"args\":[[\"2020\"],{\"frame\":{\"duration\":0,\"redraw\":true},\"mode\":\"immediate\",\"fromcurrent\":true,\"transition\":{\"duration\":0,\"easing\":\"linear\"}}],\"label\":\"2020\",\"method\":\"animate\"}],\"x\":0.1,\"xanchor\":\"left\",\"y\":0,\"yanchor\":\"top\"}]},                        {\"responsive\": true}                    ).then(function(){\n",
       "                            Plotly.addFrames('792f1afe-5ca2-4610-abd8-9034d6799701', [{\"data\":[{\"coloraxis\":\"coloraxis\",\"geo\":\"geo\",\"hovertemplate\":\"<b>%{hovertext}</b><br><br>Year=%{z}<extra></extra>\",\"hovertext\":[1991.0],\"locationmode\":\"country names\",\"locations\":[1991],\"name\":\"\",\"z\":[1991],\"type\":\"choropleth\"}],\"name\":\"1991\"},{\"data\":[{\"coloraxis\":\"coloraxis\",\"geo\":\"geo\",\"hovertemplate\":\"<b>%{hovertext}</b><br><br>Year=%{z}<extra></extra>\",\"hovertext\":[1992.0],\"locationmode\":\"country names\",\"locations\":[1992],\"name\":\"\",\"z\":[1992],\"type\":\"choropleth\"}],\"name\":\"1992\"},{\"data\":[{\"coloraxis\":\"coloraxis\",\"geo\":\"geo\",\"hovertemplate\":\"<b>%{hovertext}</b><br><br>Year=%{z}<extra></extra>\",\"hovertext\":[1993.0],\"locationmode\":\"country names\",\"locations\":[1993],\"name\":\"\",\"z\":[1993],\"type\":\"choropleth\"}],\"name\":\"1993\"},{\"data\":[{\"coloraxis\":\"coloraxis\",\"geo\":\"geo\",\"hovertemplate\":\"<b>%{hovertext}</b><br><br>Year=%{z}<extra></extra>\",\"hovertext\":[1994.0],\"locationmode\":\"country names\",\"locations\":[1994],\"name\":\"\",\"z\":[1994],\"type\":\"choropleth\"}],\"name\":\"1994\"},{\"data\":[{\"coloraxis\":\"coloraxis\",\"geo\":\"geo\",\"hovertemplate\":\"<b>%{hovertext}</b><br><br>Year=%{z}<extra></extra>\",\"hovertext\":[1995.0],\"locationmode\":\"country names\",\"locations\":[1995],\"name\":\"\",\"z\":[1995],\"type\":\"choropleth\"}],\"name\":\"1995\"},{\"data\":[{\"coloraxis\":\"coloraxis\",\"geo\":\"geo\",\"hovertemplate\":\"<b>%{hovertext}</b><br><br>Year=%{z}<extra></extra>\",\"hovertext\":[1996.0],\"locationmode\":\"country names\",\"locations\":[1996],\"name\":\"\",\"z\":[1996],\"type\":\"choropleth\"}],\"name\":\"1996\"},{\"data\":[{\"coloraxis\":\"coloraxis\",\"geo\":\"geo\",\"hovertemplate\":\"<b>%{hovertext}</b><br><br>Year=%{z}<extra></extra>\",\"hovertext\":[1997.0],\"locationmode\":\"country names\",\"locations\":[1997],\"name\":\"\",\"z\":[1997],\"type\":\"choropleth\"}],\"name\":\"1997\"},{\"data\":[{\"coloraxis\":\"coloraxis\",\"geo\":\"geo\",\"hovertemplate\":\"<b>%{hovertext}</b><br><br>Year=%{z}<extra></extra>\",\"hovertext\":[1998.0],\"locationmode\":\"country names\",\"locations\":[1998],\"name\":\"\",\"z\":[1998],\"type\":\"choropleth\"}],\"name\":\"1998\"},{\"data\":[{\"coloraxis\":\"coloraxis\",\"geo\":\"geo\",\"hovertemplate\":\"<b>%{hovertext}</b><br><br>Year=%{z}<extra></extra>\",\"hovertext\":[1999.0],\"locationmode\":\"country names\",\"locations\":[1999],\"name\":\"\",\"z\":[1999],\"type\":\"choropleth\"}],\"name\":\"1999\"},{\"data\":[{\"coloraxis\":\"coloraxis\",\"geo\":\"geo\",\"hovertemplate\":\"<b>%{hovertext}</b><br><br>Year=%{z}<extra></extra>\",\"hovertext\":[2000.0],\"locationmode\":\"country names\",\"locations\":[2000],\"name\":\"\",\"z\":[2000],\"type\":\"choropleth\"}],\"name\":\"2000\"},{\"data\":[{\"coloraxis\":\"coloraxis\",\"geo\":\"geo\",\"hovertemplate\":\"<b>%{hovertext}</b><br><br>Year=%{z}<extra></extra>\",\"hovertext\":[2001.0],\"locationmode\":\"country names\",\"locations\":[2001],\"name\":\"\",\"z\":[2001],\"type\":\"choropleth\"}],\"name\":\"2001\"},{\"data\":[{\"coloraxis\":\"coloraxis\",\"geo\":\"geo\",\"hovertemplate\":\"<b>%{hovertext}</b><br><br>Year=%{z}<extra></extra>\",\"hovertext\":[2002.0],\"locationmode\":\"country names\",\"locations\":[2002],\"name\":\"\",\"z\":[2002],\"type\":\"choropleth\"}],\"name\":\"2002\"},{\"data\":[{\"coloraxis\":\"coloraxis\",\"geo\":\"geo\",\"hovertemplate\":\"<b>%{hovertext}</b><br><br>Year=%{z}<extra></extra>\",\"hovertext\":[2003.0],\"locationmode\":\"country names\",\"locations\":[2003],\"name\":\"\",\"z\":[2003],\"type\":\"choropleth\"}],\"name\":\"2003\"},{\"data\":[{\"coloraxis\":\"coloraxis\",\"geo\":\"geo\",\"hovertemplate\":\"<b>%{hovertext}</b><br><br>Year=%{z}<extra></extra>\",\"hovertext\":[2004.0],\"locationmode\":\"country names\",\"locations\":[2004],\"name\":\"\",\"z\":[2004],\"type\":\"choropleth\"}],\"name\":\"2004\"},{\"data\":[{\"coloraxis\":\"coloraxis\",\"geo\":\"geo\",\"hovertemplate\":\"<b>%{hovertext}</b><br><br>Year=%{z}<extra></extra>\",\"hovertext\":[2005.0],\"locationmode\":\"country names\",\"locations\":[2005],\"name\":\"\",\"z\":[2005],\"type\":\"choropleth\"}],\"name\":\"2005\"},{\"data\":[{\"coloraxis\":\"coloraxis\",\"geo\":\"geo\",\"hovertemplate\":\"<b>%{hovertext}</b><br><br>Year=%{z}<extra></extra>\",\"hovertext\":[2006.0],\"locationmode\":\"country names\",\"locations\":[2006],\"name\":\"\",\"z\":[2006],\"type\":\"choropleth\"}],\"name\":\"2006\"},{\"data\":[{\"coloraxis\":\"coloraxis\",\"geo\":\"geo\",\"hovertemplate\":\"<b>%{hovertext}</b><br><br>Year=%{z}<extra></extra>\",\"hovertext\":[2007.0],\"locationmode\":\"country names\",\"locations\":[2007],\"name\":\"\",\"z\":[2007],\"type\":\"choropleth\"}],\"name\":\"2007\"},{\"data\":[{\"coloraxis\":\"coloraxis\",\"geo\":\"geo\",\"hovertemplate\":\"<b>%{hovertext}</b><br><br>Year=%{z}<extra></extra>\",\"hovertext\":[2008.0],\"locationmode\":\"country names\",\"locations\":[2008],\"name\":\"\",\"z\":[2008],\"type\":\"choropleth\"}],\"name\":\"2008\"},{\"data\":[{\"coloraxis\":\"coloraxis\",\"geo\":\"geo\",\"hovertemplate\":\"<b>%{hovertext}</b><br><br>Year=%{z}<extra></extra>\",\"hovertext\":[2009.0],\"locationmode\":\"country names\",\"locations\":[2009],\"name\":\"\",\"z\":[2009],\"type\":\"choropleth\"}],\"name\":\"2009\"},{\"data\":[{\"coloraxis\":\"coloraxis\",\"geo\":\"geo\",\"hovertemplate\":\"<b>%{hovertext}</b><br><br>Year=%{z}<extra></extra>\",\"hovertext\":[2010.0],\"locationmode\":\"country names\",\"locations\":[2010],\"name\":\"\",\"z\":[2010],\"type\":\"choropleth\"}],\"name\":\"2010\"},{\"data\":[{\"coloraxis\":\"coloraxis\",\"geo\":\"geo\",\"hovertemplate\":\"<b>%{hovertext}</b><br><br>Year=%{z}<extra></extra>\",\"hovertext\":[2011.0],\"locationmode\":\"country names\",\"locations\":[2011],\"name\":\"\",\"z\":[2011],\"type\":\"choropleth\"}],\"name\":\"2011\"},{\"data\":[{\"coloraxis\":\"coloraxis\",\"geo\":\"geo\",\"hovertemplate\":\"<b>%{hovertext}</b><br><br>Year=%{z}<extra></extra>\",\"hovertext\":[2012.0],\"locationmode\":\"country names\",\"locations\":[2012],\"name\":\"\",\"z\":[2012],\"type\":\"choropleth\"}],\"name\":\"2012\"},{\"data\":[{\"coloraxis\":\"coloraxis\",\"geo\":\"geo\",\"hovertemplate\":\"<b>%{hovertext}</b><br><br>Year=%{z}<extra></extra>\",\"hovertext\":[2013.0],\"locationmode\":\"country names\",\"locations\":[2013],\"name\":\"\",\"z\":[2013],\"type\":\"choropleth\"}],\"name\":\"2013\"},{\"data\":[{\"coloraxis\":\"coloraxis\",\"geo\":\"geo\",\"hovertemplate\":\"<b>%{hovertext}</b><br><br>Year=%{z}<extra></extra>\",\"hovertext\":[2014.0],\"locationmode\":\"country names\",\"locations\":[2014],\"name\":\"\",\"z\":[2014],\"type\":\"choropleth\"}],\"name\":\"2014\"},{\"data\":[{\"coloraxis\":\"coloraxis\",\"geo\":\"geo\",\"hovertemplate\":\"<b>%{hovertext}</b><br><br>Year=%{z}<extra></extra>\",\"hovertext\":[2015.0],\"locationmode\":\"country names\",\"locations\":[2015],\"name\":\"\",\"z\":[2015],\"type\":\"choropleth\"}],\"name\":\"2015\"},{\"data\":[{\"coloraxis\":\"coloraxis\",\"geo\":\"geo\",\"hovertemplate\":\"<b>%{hovertext}</b><br><br>Year=%{z}<extra></extra>\",\"hovertext\":[2016.0],\"locationmode\":\"country names\",\"locations\":[2016],\"name\":\"\",\"z\":[2016],\"type\":\"choropleth\"}],\"name\":\"2016\"},{\"data\":[{\"coloraxis\":\"coloraxis\",\"geo\":\"geo\",\"hovertemplate\":\"<b>%{hovertext}</b><br><br>Year=%{z}<extra></extra>\",\"hovertext\":[2017.0],\"locationmode\":\"country names\",\"locations\":[2017],\"name\":\"\",\"z\":[2017],\"type\":\"choropleth\"}],\"name\":\"2017\"},{\"data\":[{\"coloraxis\":\"coloraxis\",\"geo\":\"geo\",\"hovertemplate\":\"<b>%{hovertext}</b><br><br>Year=%{z}<extra></extra>\",\"hovertext\":[2018.0],\"locationmode\":\"country names\",\"locations\":[2018],\"name\":\"\",\"z\":[2018],\"type\":\"choropleth\"}],\"name\":\"2018\"},{\"data\":[{\"coloraxis\":\"coloraxis\",\"geo\":\"geo\",\"hovertemplate\":\"<b>%{hovertext}</b><br><br>Year=%{z}<extra></extra>\",\"hovertext\":[2019.0],\"locationmode\":\"country names\",\"locations\":[2019],\"name\":\"\",\"z\":[2019],\"type\":\"choropleth\"}],\"name\":\"2019\"},{\"data\":[{\"coloraxis\":\"coloraxis\",\"geo\":\"geo\",\"hovertemplate\":\"<b>%{hovertext}</b><br><br>Year=%{z}<extra></extra>\",\"hovertext\":[2020.0],\"locationmode\":\"country names\",\"locations\":[2020],\"name\":\"\",\"z\":[2020],\"type\":\"choropleth\"}],\"name\":\"2020\"}]);\n",
       "                        }).then(function(){\n",
       "                            \n",
       "var gd = document.getElementById('792f1afe-5ca2-4610-abd8-9034d6799701');\n",
       "var x = new MutationObserver(function (mutations, observer) {{\n",
       "        var display = window.getComputedStyle(gd).display;\n",
       "        if (!display || display === 'none') {{\n",
       "            console.log([gd, 'removed!']);\n",
       "            Plotly.purge(gd);\n",
       "            observer.disconnect();\n",
       "        }}\n",
       "}});\n",
       "\n",
       "// Listen for the removal of the full notebook cells\n",
       "var notebookContainer = gd.closest('#notebook-container');\n",
       "if (notebookContainer) {{\n",
       "    x.observe(notebookContainer, {childList: true});\n",
       "}}\n",
       "\n",
       "// Listen for the clearing of the current output cell\n",
       "var outputEl = gd.closest('.output');\n",
       "if (outputEl) {{\n",
       "    x.observe(outputEl, {childList: true});\n",
       "}}\n",
       "\n",
       "                        })                };                });            </script>        </div>"
      ]
     },
     "metadata": {},
     "output_type": "display_data"
    }
   ],
   "source": [
    "df_countrydate = df1.groupby([df1['Year'].dt.year, 'Country']). sum().reset_index()\n",
    "df_countrydate = df_countrydate.drop(columns=['Country', 'Country Code', 'Item Code', 'Value'])\n",
    "\n",
    "\n",
    "#Creating the visualization \n",
    "\n",
    "fig = px.choropleth(df_countrydate, locations=\"Year\", locationmode = \"country names\", color=\"Year\", hover_name=\"Year\", animation_frame=\"Year\",\n",
    "                   width=800, height=450)\n",
    "\n",
    "\n",
    "\n",
    "fig.show()\n"
   ]
  },
  {
   "cell_type": "code",
   "execution_count": 105,
   "id": "2035363f",
   "metadata": {},
   "outputs": [
    {
     "data": {
      "image/png": "[encoded data removed]",
      "text/plain": [
       "<Figure size 1500x1500 with 12 Axes>"
      ]
     },
     "metadata": {},
     "output_type": "display_data"
    }
   ],
   "source": [
    "sns.pairplot(df1, aspect=1, height=5)\n",
    "plt.show()"
   ]
  },
  {
   "cell_type": "code",
   "execution_count": 104,
   "id": "80ab7b52",
   "metadata": {},
   "outputs": [
    {
     "data": {
      "text/plain": [
       "<Figure size 4000x2000 with 0 Axes>"
      ]
     },
     "metadata": {},
     "output_type": "display_data"
    },
    {
     "data": {
      "image/png": "[encoded data removed]",
      "text/plain": [
       "<Figure size 1000x500 with 1 Axes>"
      ]
     },
     "metadata": {},
     "output_type": "display_data"
    }
   ],
   "source": [
    "plt.figure(figsize=(20,10),dpi=200)\n",
    "sns.displot(data=df1, x='Value', bins=70, color=\"b\", aspect=2)\n",
    "plt.title('This plot represents the distribution of the values in the \"Year\" ', fontsize=15, fontweight='bold', fontstyle='italic')\n",
    "plt.show()"
   ]
  },
  {
   "cell_type": "markdown",
   "id": "98ac05c7",
   "metadata": {},
   "source": [
    "# Statistical Analysis\n"
   ]
  },
  {
   "cell_type": "markdown",
   "id": "e9620fb5",
   "metadata": {},
   "source": [
    "### Calculation of Mean, STD & Variance"
   ]
  },
  {
   "cell_type": "code",
   "execution_count": 109,
   "id": "2e86aaf3",
   "metadata": {},
   "outputs": [
    {
     "name": "stdout",
     "output_type": "stream",
     "text": [
      "Total number of Values :\n",
      "432\n",
      "Average number of Values each year :\n",
      "14.4\n",
      "The standard deviations of the Value is :\n",
      "3.7929153558380033\n",
      "The Varience of the Value is :\n",
      "14.386206896551727\n"
     ]
    }
   ],
   "source": [
    "Yearfrequencytable = pd.crosstab(index=df1[\"Year\"], columns=\"Value\") \n",
    "\n",
    "print(\"Total number of Values :\")\n",
    "Total = sum(Yearfrequencytable[\"Value\"])\n",
    "print(Total)\n",
    "\n",
    "print(\"Average number of Values each year :\")\n",
    "print(Total/len(Yearfrequencytable))\n",
    "\n",
    "answer= Yearfrequencytable.std()\n",
    "\n",
    "print(\"The standard deviations of the Value is :\")\n",
    "print (float(answer))\n",
    "print(\"The Varience of the Value is :\")\n",
    "print (float(answer**2))"
   ]
  },
  {
   "cell_type": "markdown",
   "id": "27a44b5c",
   "metadata": {},
   "source": [
    "### Calculation of  the contingency table using chi2 method\n",
    "####  The contingency table can be calculated using this method by calculating the chi-square statistic, the p-value, the degrees of freedom, and the expected frequencies. These values can then be used to determine whether the two categorical variables are significant. If the p-value is less than the significance level (usually 0.05), you can conclude that there is a significant association between the variables. "
   ]
  },
  {
   "cell_type": "code",
   "execution_count": 110,
   "id": "79c076e8",
   "metadata": {},
   "outputs": [
    {
     "name": "stdout",
     "output_type": "stream",
     "text": [
      "1.0\n",
      " The (p) value is 1. then we fail to reject the Null Hypothesis and Null Hypothesis stais.\n"
     ]
    }
   ],
   "source": [
    "from scipy.stats import chi2_contingency\n",
    "\n",
    "# Use the crosstab method to create a cross-tabulation table\n",
    "ct = pd.crosstab(df['Year'], df['Value'], margins=True, normalize=True)\n",
    "\n",
    "# Calculate the chi-square statistic for testing independence\n",
    "stat, p, dof, expected = chi2_contingency(ct.iloc[:-1, :-1])\n",
    "\n",
    "# Print the p-value\n",
    "print(p)\n",
    "print(' The (p) value is 1. then we fail to reject the Null Hypothesis and Null Hypothesis stais.')"
   ]
  },
  {
   "cell_type": "markdown",
   "id": "d02f0f4d",
   "metadata": {},
   "source": [
    "### Calculation of Poisson Distribution"
   ]
  },
  {
   "cell_type": "code",
   "execution_count": 111,
   "id": "8775f408",
   "metadata": {},
   "outputs": [
    {
     "data": {
      "text/plain": [
       "<matplotlib.collections.LineCollection at 0x1af7ef2bd00>"
      ]
     },
     "execution_count": 111,
     "metadata": {},
     "output_type": "execute_result"
    },
    {
     "data": {
      "image/png": "[encoded data removed]",
      "text/plain": [
       "<Figure size 1000x1000 with 1 Axes>"
      ]
     },
     "metadata": {},
     "output_type": "display_data"
    }
   ],
   "source": [
    "from scipy.stats import poisson\n",
    "\n",
    "X = Yearfrequencytable['Value']\n",
    "lmbda = Total/len(Yearfrequencytable)\n",
    "\n",
    "poisson_pd = poisson.pmf(X, lmbda)\n",
    "\n",
    "fig, ax = plt.subplots(1, 1, figsize=(10, 10))\n",
    "ax.plot(X, poisson_pd, 'bo', ms=10, label='poisson pmf')\n",
    "plt.ylabel(\"Probability\", fontsize=\"16\")\n",
    "plt.xlabel(\"X - No. of Values \", fontsize=\"18\")\n",
    "plt.title(\"Poisson Distribution - Year Vs No. of Values\", fontsize=\"18\")\n",
    "ax.vlines(X, 0, poisson_pd, colors='r', lw=5, alpha=0.6)"
   ]
  },
  {
   "cell_type": "markdown",
   "id": "d48969a2",
   "metadata": {},
   "source": [
    "### Anova Test"
   ]
  },
  {
   "cell_type": "code",
   "execution_count": 118,
   "id": "0f3c1829",
   "metadata": {},
   "outputs": [
    {
     "data": {
      "text/plain": [
       "F_onewayResult(statistic=6463.733887803196, pvalue=0.0)"
      ]
     },
     "execution_count": 118,
     "metadata": {},
     "output_type": "execute_result"
    }
   ],
   "source": [
    "from scipy.stats import f_oneway\n",
    "stats.f_oneway(df1['Year'],df1['Value'],df1['Item Code'])"
   ]
  },
  {
   "cell_type": "code",
   "execution_count": 123,
   "id": "26f0c828",
   "metadata": {},
   "outputs": [],
   "source": [
    "import statsmodels.stats.oneway as oneway"
   ]
  },
  {
   "cell_type": "code",
   "execution_count": 125,
   "id": "cc275191",
   "metadata": {},
   "outputs": [],
   "source": [
    "df1['Year'] = df1['Year'].apply(lambda x: x.year).astype(int)"
   ]
  },
  {
   "cell_type": "code",
   "execution_count": 126,
   "id": "efc787be",
   "metadata": {},
   "outputs": [
    {
     "data": {
      "text/plain": [
       "<class 'statsmodels.stats.base.HolderTuple'>\n",
       "statistic = 59.60909623711433\n",
       "pvalue = 1.72556542882542e-25\n",
       "df = (2.0, 1293.0)\n",
       "df_num = 2.0\n",
       "df_denom = 1293.0\n",
       "nobs_t = 1296.0\n",
       "n_groups = 3\n",
       "means = array([ 2003.42592593,  1071.30347222, 24467.10602083])\n",
       "nobs = array([432., 432., 432.])\n",
       "vars_ = array([7.46719945e+01, 8.50253224e+05, 3.81426304e+09])\n",
       "use_var = 'equal'\n",
       "welch_correction = True\n",
       "tuple = (59.60909623711433, 1.72556542882542e-25)"
      ]
     },
     "execution_count": 126,
     "metadata": {},
     "output_type": "execute_result"
    }
   ],
   "source": [
    "oneway.anova_oneway((df1['Year'],df1['Value'],df1['Item Code']), use_var='equal')"
   ]
  },
  {
   "cell_type": "markdown",
   "id": "98d23793",
   "metadata": {},
   "source": [
    "### Forecasting with ARIMA"
   ]
  },
  {
   "cell_type": "code",
   "execution_count": 129,
   "id": "74a3ab9e",
   "metadata": {},
   "outputs": [],
   "source": [
    "from statsmodels.tsa.stattools import adfuller"
   ]
  },
  {
   "cell_type": "code",
   "execution_count": 139,
   "id": "a2d95ce0",
   "metadata": {},
   "outputs": [],
   "source": [
    "def adfuller_test(df1):\n",
    "    result=adfuller(df1)\n",
    "    labels=['ADF Test statistics','p-value','lags_used', 'nobs']\n",
    "    \n",
    "    for value,label in zip(result,labels):\n",
    "        print (label + ' : ' + str(value))\n",
    "    if result[1] <=0.05:\n",
    "        print('Reject the Ho, data is stationary')\n",
    "    else:\n",
    "        print('Fail to reject the Ho, data is not stationary')"
   ]
  },
  {
   "cell_type": "code",
   "execution_count": 140,
   "id": "495ac3bc",
   "metadata": {},
   "outputs": [
    {
     "name": "stdout",
     "output_type": "stream",
     "text": [
      "ADF Test statistics : -6.792555907795393\n",
      "p-value : 2.344556602735128e-09\n",
      "lags_used : 6\n",
      "nobs : 113\n",
      "Reject the Ho, data is stationary\n"
     ]
    }
   ],
   "source": [
    "adfuller_test(df_countries['Value'])"
   ]
  },
  {
   "cell_type": "markdown",
   "id": "f888c647",
   "metadata": {},
   "source": [
    "#### Here I use ARIMA as a statistical model for analyzing and forecasting time series data."
   ]
  },
  {
   "cell_type": "code",
   "execution_count": 148,
   "id": "a9399461",
   "metadata": {},
   "outputs": [
    {
     "name": "stdout",
     "output_type": "stream",
     "text": [
      "Performing stepwise search to minimize aic\n",
      " ARIMA(2,1,2)(0,0,0)[0] intercept   : AIC=6202.741, Time=0.62 sec\n",
      " ARIMA(0,1,0)(0,0,0)[0] intercept   : AIC=6213.387, Time=0.04 sec\n",
      " ARIMA(1,1,0)(0,0,0)[0] intercept   : AIC=6214.166, Time=0.07 sec\n",
      " ARIMA(0,1,1)(0,0,0)[0] intercept   : AIC=6213.825, Time=0.19 sec\n",
      " ARIMA(0,1,0)(0,0,0)[0]             : AIC=6211.388, Time=0.02 sec\n",
      " ARIMA(1,1,2)(0,0,0)[0] intercept   : AIC=6202.972, Time=0.62 sec\n",
      " ARIMA(2,1,1)(0,0,0)[0] intercept   : AIC=6212.889, Time=0.09 sec\n",
      " ARIMA(3,1,2)(0,0,0)[0] intercept   : AIC=6204.767, Time=1.03 sec\n",
      " ARIMA(2,1,3)(0,0,0)[0] intercept   : AIC=6204.743, Time=1.19 sec\n",
      " ARIMA(1,1,1)(0,0,0)[0] intercept   : AIC=6212.056, Time=0.32 sec\n",
      " ARIMA(1,1,3)(0,0,0)[0] intercept   : AIC=6203.528, Time=1.15 sec\n",
      " ARIMA(3,1,1)(0,0,0)[0] intercept   : AIC=6214.308, Time=0.42 sec\n",
      " ARIMA(3,1,3)(0,0,0)[0] intercept   : AIC=inf, Time=1.59 sec\n",
      " ARIMA(2,1,2)(0,0,0)[0]             : AIC=6200.752, Time=0.68 sec\n",
      " ARIMA(1,1,2)(0,0,0)[0]             : AIC=6200.982, Time=0.43 sec\n",
      " ARIMA(2,1,1)(0,0,0)[0]             : AIC=6210.889, Time=0.06 sec\n",
      " ARIMA(3,1,2)(0,0,0)[0]             : AIC=6202.749, Time=0.76 sec\n",
      " ARIMA(2,1,3)(0,0,0)[0]             : AIC=6202.750, Time=0.74 sec\n",
      " ARIMA(1,1,1)(0,0,0)[0]             : AIC=6210.056, Time=0.18 sec\n",
      " ARIMA(1,1,3)(0,0,0)[0]             : AIC=6201.539, Time=0.64 sec\n",
      " ARIMA(3,1,1)(0,0,0)[0]             : AIC=6212.308, Time=0.26 sec\n",
      " ARIMA(3,1,3)(0,0,0)[0]             : AIC=inf, Time=1.20 sec\n",
      "\n",
      "Best model:  ARIMA(2,1,2)(0,0,0)[0]          \n",
      "Total fit time: 12.307 seconds\n"
     ]
    }
   ],
   "source": [
    "from pmdarima import auto_arima\n",
    "arima_fit = auto_arima(df1['Value'],start_P=0,start_Q=0,max_P=10,max_Q=10,seasonal=False,trace=True)"
   ]
  },
  {
   "cell_type": "code",
   "execution_count": 149,
   "id": "c744b151",
   "metadata": {},
   "outputs": [],
   "source": [
    "import statsmodels.api as sm\n",
    "model = sm.tsa.arima.ARIMA(df1['Value'],order=(2,1,2))\n",
    "modelresults=model.fit()\n",
    "fcast=modelresults.predict(start = len(df1),type=('Levels'))\n",
    "fcast=fcast.rename('ARIMA 4,0,1 Forecast')"
   ]
  },
  {
   "cell_type": "code",
   "execution_count": 150,
   "id": "c0a043fb",
   "metadata": {},
   "outputs": [
    {
     "data": {
      "text/plain": [
       "<AxesSubplot:>"
      ]
     },
     "execution_count": 150,
     "metadata": {},
     "output_type": "execute_result"
    },
    {
     "data": {
      "image/png": "[encoded data removed]",
      "text/plain": [
       "<Figure size 800x600 with 1 Axes>"
      ]
     },
     "metadata": {},
     "output_type": "display_data"
    }
   ],
   "source": [
    "df1['Value'].plot(figsize=(8, 6), legend=True)\n",
    "\n",
    "# ire_df1['Value'].plotfigsize=(12, 8),legend=True)\n",
    "fcast.plot(legend=True)\n"
   ]
  },
  {
   "cell_type": "markdown",
   "id": "5be4b6b6",
   "metadata": {},
   "source": [
    "#### Calculation of the IQR value"
   ]
  },
  {
   "cell_type": "code",
   "execution_count": 152,
   "id": "46b51cd7",
   "metadata": {},
   "outputs": [],
   "source": [
    "import numpy as np\n",
    "\"\"\"\n",
    "Calculation of the IQR value by subtracting the 25th percentile value from the 75th percentile value\n",
    "We need to perform the IQR calculation in order to identify and remove outliers from a dataset. First we mark the outlier as Nan\n",
    "then we remove the Nan by using the function dropNa.\n",
    "\"\"\"\n",
    "q25 = np.percentile(df1['Value'], 25)\n",
    "q75 = np.percentile(df1['Value'], 75)\n",
    "IQRValue = q75 - q25\n",
    "upperlim = q75 + 1.5 * IQRValue\n",
    "lowerlim = q25 -1.5 * IQRValue\n",
    "df1.loc[df1['Value']>upperlim] = np.nan\n",
    "df1.loc[df1['Value']<lowerlim] = np.nan"
   ]
  },
  {
   "cell_type": "markdown",
   "id": "ac0bb88e",
   "metadata": {},
   "source": [
    "#### Manual Calculation of IQR value"
   ]
  },
  {
   "cell_type": "code",
   "execution_count": 154,
   "id": "a16840fc",
   "metadata": {
    "collapsed": true
   },
   "outputs": [
    {
     "data": {
      "text/plain": [
       "\"\\n# Calculate the IQR value by subtracting the 25th percentile value from the 75th percentile value\\nIQRValue = 1676.925000 - 283.400000\\nupperlim = 1676.925000 + 1.5 * IQRValue\\nlowerlim = 283.400000 -1.5 * IQRValue\\ndf1.loc[df1['Value']>upperlim] = np.nan\\ndf1.loc[df1['Value']<lowerlim] = np.nan\\n\\n\""
      ]
     },
     "execution_count": 154,
     "metadata": {},
     "output_type": "execute_result"
    }
   ],
   "source": [
    "\"\"\"\n",
    "# Calculate the IQR value by subtracting the 25th percentile value from the 75th percentile value\n",
    "IQRValue = 1676.925000 - 283.400000\n",
    "upperlim = 1676.925000 + 1.5 * IQRValue\n",
    "lowerlim = 283.400000 -1.5 * IQRValue\n",
    "df1.loc[df1['Value']>upperlim] = np.nan\n",
    "df1.loc[df1['Value']<lowerlim] = np.nan\n",
    "\n",
    "\"\"\""
   ]
  },
  {
   "cell_type": "markdown",
   "id": "18aa4ef5",
   "metadata": {},
   "source": [
    "### Feature Encoding"
   ]
  },
  {
   "cell_type": "code",
   "execution_count": 187,
   "id": "d5f72c48",
   "metadata": {},
   "outputs": [],
   "source": [
    "# This peace of code represents the application of the best \"Feature Selection\" method"
   ]
  },
  {
   "cell_type": "code",
   "execution_count": 189,
   "id": "c4de1a02",
   "metadata": {},
   "outputs": [],
   "source": [
    "from sklearn.feature_selection import SelectKBest\n",
    "from sklearn.feature_selection import chi2"
   ]
  },
  {
   "cell_type": "code",
   "execution_count": 190,
   "id": "ae35f558",
   "metadata": {},
   "outputs": [],
   "source": [
    "ind_col = [col for col in df1.columns if col !='Value']\n",
    "dep_col='Value'\n",
    "x=df1[ind_col] # represents all independant features\n",
    "y=df1[dep_col] # represents all dependant features that we use in our models"
   ]
  },
  {
   "cell_type": "code",
   "execution_count": 191,
   "id": "4787738d",
   "metadata": {},
   "outputs": [
    {
     "data": {
      "text/plain": [
       "SelectKBest(score_func=<function chi2 at 0x000001AF4031C550>)"
      ]
     },
     "execution_count": 191,
     "metadata": {},
     "output_type": "execute_result"
    }
   ],
   "source": [
    "from sklearn.preprocessing import OneHotEncoder\n",
    "\n",
    "# Encode the categorical features as one-hot encoded values\n",
    "encoder = OneHotEncoder(handle_unknown='ignore')\n",
    "x_encoded = encoder.fit_transform(x)\n",
    "# Define the target variable y_encoded\n",
    "# Reshape the y Series to a NumPy array\n",
    "y_array = y.values.reshape(-1, 1)\n",
    "\n",
    "# Encode the target variable as a one-hot encoded array\n",
    "encoder = OneHotEncoder(handle_unknown='ignore')\n",
    "y_encoded = encoder.fit_transform(y_array)\n",
    "\n",
    "# Select the best features using the encoded feature values\n",
    "selected_features = SelectKBest(score_func=chi2, k=10)\n",
    "selected_features.fit(x_encoded, y_encoded)\n"
   ]
  },
  {
   "cell_type": "code",
   "execution_count": 192,
   "id": "3ba75981",
   "metadata": {},
   "outputs": [
    {
     "data": {
      "text/plain": [
       "SelectKBest(score_func=<function chi2 at 0x000001AF4031C550>)"
      ]
     },
     "execution_count": 192,
     "metadata": {},
     "output_type": "execute_result"
    }
   ],
   "source": [
    "selected_features"
   ]
  },
  {
   "cell_type": "code",
   "execution_count": 193,
   "id": "4716837e",
   "metadata": {},
   "outputs": [
    {
     "data": {
      "text/plain": [
       "array([  5.        , 427.        ,   5.        , 427.        ,\n",
       "         5.        , 427.        ,   5.        , 427.        ,\n",
       "       380.85714286, 371.43478261, 357.71428571, 409.        ,\n",
       "       388.2       , 402.        , 402.        , 394.8       ,\n",
       "       380.4       , 421.        , 396.28571429, 430.        ,\n",
       "       417.        , 387.6       , 427.        , 402.        ,\n",
       "       340.6       , 421.        , 424.        , 429.        ,\n",
       "       412.        , 410.        , 427.        , 371.43478261,\n",
       "       388.2       , 380.4       , 402.        , 409.        ,\n",
       "       402.        , 427.        , 402.        , 429.        ,\n",
       "       410.        , 340.6       , 421.        , 424.        ,\n",
       "       412.        , 396.28571429, 357.71428571, 421.        ,\n",
       "       387.6       , 430.        , 417.        , 394.8       ,\n",
       "       380.85714286, 427.        , 410.        , 412.        ,\n",
       "       401.2       , 413.        , 401.63157895, 402.        ,\n",
       "       414.        , 390.26315789, 417.        , 402.6       ,\n",
       "       402.6       , 418.        , 402.57142857, 418.        ,\n",
       "       418.        , 419.        , 419.        , 402.        ,\n",
       "       384.        , 418.        , 402.38461538, 402.38461538,\n",
       "       420.        , 424.        , 424.        , 400.4       ,\n",
       "       378.8       , 421.        , 421.        , 421.        ,\n",
       "       427.        ,   5.        , 427.        ,   5.        ,\n",
       "       427.        ])"
      ]
     },
     "execution_count": 193,
     "metadata": {},
     "output_type": "execute_result"
    }
   ],
   "source": [
    "selected_features.scores_"
   ]
  },
  {
   "cell_type": "code",
   "execution_count": 194,
   "id": "85583ade",
   "metadata": {},
   "outputs": [],
   "source": [
    "datavalue = pd.DataFrame(selected_features.scores_, columns = ['Value'])\n",
    "dfcols = pd.DataFrame(x.columns)"
   ]
  },
  {
   "cell_type": "code",
   "execution_count": 196,
   "id": "773a7d5e",
   "metadata": {},
   "outputs": [
    {
     "data": {
      "text/plain": [
       "array([[nan, 429.99999999999994],\n",
       "       [nan, 429.99999999999994],\n",
       "       [nan, 429.00000000000017],\n",
       "       [nan, 429.00000000000017],\n",
       "       ['Country Code', 427.0000000000001],\n",
       "       ['Element', 427.0000000000001],\n",
       "       ['Item', 427.0000000000001],\n",
       "       ['Months', 427.0000000000001],\n",
       "       [nan, 427.0000000000001],\n",
       "       [nan, 427.0000000000001]], dtype=object)"
      ]
     },
     "execution_count": 196,
     "metadata": {},
     "output_type": "execute_result"
    }
   ],
   "source": [
    "\"\"\"\n",
    "Here, I check which features should be used in our models. DropNa doesn't let me use it. \n",
    "Due to its Nan features, I should drop this strategy and switch to another.\n",
    "\n",
    "\"\"\"\n",
    "features_rank = pd.concat([dfcols, datavalue],axis=1)\n",
    "selected_columns = features_rank.nlargest(10,'Value').values\n",
    "# selected_columns = features_rank.head(10)\n",
    "selected_columns"
   ]
  },
  {
   "cell_type": "code",
   "execution_count": 197,
   "id": "dd0320bd",
   "metadata": {},
   "outputs": [],
   "source": [
    "from sklearn.preprocessing import OneHotEncoder\n",
    "\n",
    "# Reshape the y Series to a NumPy array\n",
    "y_array = y.values.reshape(-1, 1)\n",
    "\n",
    "# Encode the target variable as a one-hot encoded array\n",
    "encoder = OneHotEncoder(handle_unknown='ignore')\n",
    "y_encoded = encoder.fit_transform(y_array)\n",
    "\n",
    "# Select the best features using the encoded feature and target values\n",
    "ordered_rank_features = SelectKBest(score_func=chi2, k='all')\n",
    "ordered_feature = ordered_rank_features.fit(x_encoded, y_encoded)"
   ]
  },
  {
   "cell_type": "code",
   "execution_count": 198,
   "id": "04f31ef7",
   "metadata": {},
   "outputs": [
    {
     "data": {
      "text/plain": [
       "SelectKBest(k='all', score_func=<function chi2 at 0x000001AF4031C550>)"
      ]
     },
     "execution_count": 198,
     "metadata": {},
     "output_type": "execute_result"
    }
   ],
   "source": [
    "ordered_feature"
   ]
  },
  {
   "cell_type": "code",
   "execution_count": 199,
   "id": "3e227340",
   "metadata": {},
   "outputs": [
    {
     "data": {
      "text/plain": [
       "array([  5.        , 427.        ,   5.        , 427.        ,\n",
       "         5.        , 427.        ,   5.        , 427.        ,\n",
       "       380.85714286, 371.43478261, 357.71428571, 409.        ,\n",
       "       388.2       , 402.        , 402.        , 394.8       ,\n",
       "       380.4       , 421.        , 396.28571429, 430.        ,\n",
       "       417.        , 387.6       , 427.        , 402.        ,\n",
       "       340.6       , 421.        , 424.        , 429.        ,\n",
       "       412.        , 410.        , 427.        , 371.43478261,\n",
       "       388.2       , 380.4       , 402.        , 409.        ,\n",
       "       402.        , 427.        , 402.        , 429.        ,\n",
       "       410.        , 340.6       , 421.        , 424.        ,\n",
       "       412.        , 396.28571429, 357.71428571, 421.        ,\n",
       "       387.6       , 430.        , 417.        , 394.8       ,\n",
       "       380.85714286, 427.        , 410.        , 412.        ,\n",
       "       401.2       , 413.        , 401.63157895, 402.        ,\n",
       "       414.        , 390.26315789, 417.        , 402.6       ,\n",
       "       402.6       , 418.        , 402.57142857, 418.        ,\n",
       "       418.        , 419.        , 419.        , 402.        ,\n",
       "       384.        , 418.        , 402.38461538, 402.38461538,\n",
       "       420.        , 424.        , 424.        , 400.4       ,\n",
       "       378.8       , 421.        , 421.        , 421.        ,\n",
       "       427.        ,   5.        , 427.        ,   5.        ,\n",
       "       427.        ])"
      ]
     },
     "execution_count": 199,
     "metadata": {},
     "output_type": "execute_result"
    }
   ],
   "source": [
    "ordered_feature.scores_ # Here we get the best scores for the features to perform ML learning"
   ]
  },
  {
   "cell_type": "code",
   "execution_count": 202,
   "id": "98b56110",
   "metadata": {},
   "outputs": [
    {
     "data": {
      "text/html": [
       "<div>\n",
       "<style scoped>\n",
       "    .dataframe tbody tr th:only-of-type {\n",
       "        vertical-align: middle;\n",
       "    }\n",
       "\n",
       "    .dataframe tbody tr th {\n",
       "        vertical-align: top;\n",
       "    }\n",
       "\n",
       "    .dataframe thead th {\n",
       "        text-align: right;\n",
       "    }\n",
       "</style>\n",
       "<table border=\"1\" class=\"dataframe\">\n",
       "  <thead>\n",
       "    <tr style=\"text-align: right;\">\n",
       "      <th></th>\n",
       "      <th>Value</th>\n",
       "    </tr>\n",
       "  </thead>\n",
       "  <tbody>\n",
       "    <tr>\n",
       "      <th>0</th>\n",
       "      <td>5.0</td>\n",
       "    </tr>\n",
       "    <tr>\n",
       "      <th>1</th>\n",
       "      <td>427.0</td>\n",
       "    </tr>\n",
       "    <tr>\n",
       "      <th>2</th>\n",
       "      <td>5.0</td>\n",
       "    </tr>\n",
       "    <tr>\n",
       "      <th>3</th>\n",
       "      <td>427.0</td>\n",
       "    </tr>\n",
       "    <tr>\n",
       "      <th>4</th>\n",
       "      <td>5.0</td>\n",
       "    </tr>\n",
       "  </tbody>\n",
       "</table>\n",
       "</div>"
      ],
      "text/plain": [
       "   Value\n",
       "0    5.0\n",
       "1  427.0\n",
       "2    5.0\n",
       "3  427.0\n",
       "4    5.0"
      ]
     },
     "execution_count": 202,
     "metadata": {},
     "output_type": "execute_result"
    }
   ],
   "source": [
    "# Convert this array into a dataframe \n",
    "datavalue = pd.DataFrame(ordered_feature.scores_, columns = ['Value'])\n",
    "datavalue.head()"
   ]
  },
  {
   "cell_type": "code",
   "execution_count": 203,
   "id": "5efe4eff",
   "metadata": {},
   "outputs": [],
   "source": [
    "dfcols = pd.DataFrame(x.columns)"
   ]
  },
  {
   "cell_type": "code",
   "execution_count": 204,
   "id": "b147d346",
   "metadata": {},
   "outputs": [
    {
     "data": {
      "text/plain": [
       "array([[nan, 429.99999999999994],\n",
       "       [nan, 429.99999999999994],\n",
       "       [nan, 429.00000000000017],\n",
       "       [nan, 429.00000000000017],\n",
       "       ['Country Code', 427.0000000000001],\n",
       "       ['Element', 427.0000000000001],\n",
       "       ['Item', 427.0000000000001],\n",
       "       ['Months', 427.0000000000001],\n",
       "       [nan, 427.0000000000001],\n",
       "       [nan, 427.0000000000001]], dtype=object)"
      ]
     },
     "execution_count": 204,
     "metadata": {},
     "output_type": "execute_result"
    }
   ],
   "source": [
    "# Here we check the best selected features ranks to use in our models. However, due to the fact that it has a lot of Nan features we drop this strategy.\n",
    "features_rank = pd.concat([dfcols, datavalue],axis=1)\n",
    "selected_columns = features_rank.nlargest(10,'Value').values\n",
    "# selected_columns = features_rank.head(10)\n",
    "selected_columns"
   ]
  },
  {
   "cell_type": "code",
   "execution_count": 205,
   "id": "8f0f055d",
   "metadata": {
    "collapsed": true
   },
   "outputs": [
    {
     "data": {
      "text/plain": [
       "\"\\nThe following Features are the best features to use in our ML modeling     \\n['Country Code', 427.0000000000001],\\n['Element', 427.0000000000001],\\n['Item', 427.0000000000001],\\n['Months', 427.0000000000001]\\n\""
      ]
     },
     "execution_count": 205,
     "metadata": {},
     "output_type": "execute_result"
    }
   ],
   "source": [
    "\"\"\"\n",
    "The following Features are the best features to use in our ML modeling     \n",
    "['Country Code', 427.0000000000001],\n",
    "['Element', 427.0000000000001],\n",
    "['Item', 427.0000000000001],\n",
    "['Months', 427.0000000000001]\n",
    "\"\"\""
   ]
  },
  {
   "cell_type": "code",
   "execution_count": 188,
   "id": "d6389982",
   "metadata": {},
   "outputs": [],
   "source": [
    "# -------------------End of FE"
   ]
  },
  {
   "cell_type": "code",
   "execution_count": 155,
   "id": "6684eb16",
   "metadata": {},
   "outputs": [],
   "source": [
    "x= df1[['Country Code', 'Year','Item Code']]\n",
    "y = df1['Value']"
   ]
  },
  {
   "cell_type": "markdown",
   "id": "424a0add",
   "metadata": {},
   "source": [
    "### Cross-Validation Model"
   ]
  },
  {
   "cell_type": "markdown",
   "id": "1f8dfaa3",
   "metadata": {},
   "source": [
    "#### Here we build a Cross-Validated Model to predict and check accuracy of our models"
   ]
  },
  {
   "cell_type": "code",
   "execution_count": 158,
   "id": "45c07f6e",
   "metadata": {},
   "outputs": [],
   "source": [
    "from sklearn.model_selection import train_test_split"
   ]
  },
  {
   "cell_type": "code",
   "execution_count": 159,
   "id": "5d7ec3e4",
   "metadata": {},
   "outputs": [],
   "source": [
    "ind_col = [col for col in df1.columns if col !='Value']\n",
    "dep_col='Value'\n",
    "X=df1[ind_col] # represents all independant features\n",
    "y=df1[dep_col] # represents all dependant features that we use in our models"
   ]
  },
  {
   "cell_type": "code",
   "execution_count": 160,
   "id": "5c1ed84d",
   "metadata": {},
   "outputs": [],
   "source": [
    "X_train, X_test, y_train, y_test = train_test_split(X, y, test_size=0.33, random_state=0)"
   ]
  },
  {
   "cell_type": "code",
   "execution_count": 161,
   "id": "d698ffd1",
   "metadata": {},
   "outputs": [
    {
     "name": "stdout",
     "output_type": "stream",
     "text": [
      "(289, 9)\n"
     ]
    }
   ],
   "source": [
    "print(X_train.shape) "
   ]
  },
  {
   "cell_type": "markdown",
   "id": "08222635",
   "metadata": {},
   "source": [
    "#### Our results show that we have 286 entires that we can TRAIN this predictions"
   ]
  },
  {
   "cell_type": "code",
   "execution_count": 162,
   "id": "ebe982ee",
   "metadata": {},
   "outputs": [
    {
     "name": "stdout",
     "output_type": "stream",
     "text": [
      "(143, 9)\n"
     ]
    }
   ],
   "source": [
    "print(X_test.shape) "
   ]
  },
  {
   "cell_type": "markdown",
   "id": "f9e720cc",
   "metadata": {},
   "source": [
    "#### Our results show that we have 143 entires that we can Test "
   ]
  },
  {
   "cell_type": "code",
   "execution_count": 163,
   "id": "8fb6e440",
   "metadata": {},
   "outputs": [
    {
     "data": {
      "text/plain": [
       "111.1     2\n",
       "2285.5    2\n",
       "673.8     2\n",
       "314.6     1\n",
       "48.9      1\n",
       "         ..\n",
       "192.5     1\n",
       "1746.1    1\n",
       "1845.3    1\n",
       "1469.1    1\n",
       "1913.3    1\n",
       "Name: Value, Length: 284, dtype: int64"
      ]
     },
     "execution_count": 163,
     "metadata": {},
     "output_type": "execute_result"
    }
   ],
   "source": [
    "# Check the imbalance in Data\n",
    "y_train.value_counts()"
   ]
  },
  {
   "cell_type": "markdown",
   "id": "43afdaac",
   "metadata": {},
   "source": [
    "### ML"
   ]
  },
  {
   "cell_type": "markdown",
   "id": "8c5f82ba",
   "metadata": {},
   "source": [
    "We use Python’s lazy predict library, to compare the performance of all machine learning models so that I can choose the best performing model for my problem"
   ]
  },
  {
   "cell_type": "code",
   "execution_count": 230,
   "id": "6e81a34d",
   "metadata": {},
   "outputs": [],
   "source": [
    "from lazypredict.Supervised import LazyClassifier\n",
    "import numpy as np\n",
    "import pandas as pd\n",
    "\n",
    "data = pd.read_csv('Producer Prices.csv')\n",
    "\n",
    "x = np.array(data[[\"Year\", \"Value\"]])\n",
    "y = np.array(data[[\"Area\"]])\n",
    "from sklearn.model_selection import train_test_split\n",
    "xtrain, xtest, ytrain, ytest = train_test_split(x, y, test_size=0.10, random_state=42)"
   ]
  },
  {
   "cell_type": "markdown",
   "id": "379bcfe2",
   "metadata": {},
   "source": [
    "Here we use the Lazy Predict Library to check the performance of all classification machine learning models\n",
    "##### !pip install lazypredict"
   ]
  },
  {
   "cell_type": "code",
   "execution_count": 232,
   "id": "e04cdac8",
   "metadata": {},
   "outputs": [
    {
     "name": "stderr",
     "output_type": "stream",
     "text": [
      "100%|██████████████████████████████████████████████████████████████████████████████████| 29/29 [07:52<00:00, 16.29s/it]\n"
     ]
    },
    {
     "data": {
      "text/html": [
       "<div>\n",
       "<style scoped>\n",
       "    .dataframe tbody tr th:only-of-type {\n",
       "        vertical-align: middle;\n",
       "    }\n",
       "\n",
       "    .dataframe tbody tr th {\n",
       "        vertical-align: top;\n",
       "    }\n",
       "\n",
       "    .dataframe thead th {\n",
       "        text-align: right;\n",
       "    }\n",
       "</style>\n",
       "<table border=\"1\" class=\"dataframe\">\n",
       "  <thead>\n",
       "    <tr style=\"text-align: right;\">\n",
       "      <th></th>\n",
       "      <th>Accuracy</th>\n",
       "      <th>Balanced Accuracy</th>\n",
       "      <th>ROC AUC</th>\n",
       "      <th>F1 Score</th>\n",
       "      <th>Time Taken</th>\n",
       "    </tr>\n",
       "    <tr>\n",
       "      <th>Model</th>\n",
       "      <th></th>\n",
       "      <th></th>\n",
       "      <th></th>\n",
       "      <th></th>\n",
       "      <th></th>\n",
       "    </tr>\n",
       "  </thead>\n",
       "  <tbody>\n",
       "    <tr>\n",
       "      <th>BaggingClassifier</th>\n",
       "      <td>0.09</td>\n",
       "      <td>0.08</td>\n",
       "      <td>None</td>\n",
       "      <td>0.09</td>\n",
       "      <td>1.14</td>\n",
       "    </tr>\n",
       "    <tr>\n",
       "      <th>NearestCentroid</th>\n",
       "      <td>0.05</td>\n",
       "      <td>0.08</td>\n",
       "      <td>None</td>\n",
       "      <td>0.03</td>\n",
       "      <td>0.11</td>\n",
       "    </tr>\n",
       "    <tr>\n",
       "      <th>RandomForestClassifier</th>\n",
       "      <td>0.09</td>\n",
       "      <td>0.08</td>\n",
       "      <td>None</td>\n",
       "      <td>0.09</td>\n",
       "      <td>10.26</td>\n",
       "    </tr>\n",
       "    <tr>\n",
       "      <th>ExtraTreesClassifier</th>\n",
       "      <td>0.08</td>\n",
       "      <td>0.08</td>\n",
       "      <td>None</td>\n",
       "      <td>0.08</td>\n",
       "      <td>15.91</td>\n",
       "    </tr>\n",
       "    <tr>\n",
       "      <th>DecisionTreeClassifier</th>\n",
       "      <td>0.09</td>\n",
       "      <td>0.07</td>\n",
       "      <td>None</td>\n",
       "      <td>0.09</td>\n",
       "      <td>0.27</td>\n",
       "    </tr>\n",
       "    <tr>\n",
       "      <th>ExtraTreeClassifier</th>\n",
       "      <td>0.08</td>\n",
       "      <td>0.07</td>\n",
       "      <td>None</td>\n",
       "      <td>0.08</td>\n",
       "      <td>0.13</td>\n",
       "    </tr>\n",
       "    <tr>\n",
       "      <th>LGBMClassifier</th>\n",
       "      <td>0.08</td>\n",
       "      <td>0.07</td>\n",
       "      <td>None</td>\n",
       "      <td>0.07</td>\n",
       "      <td>7.58</td>\n",
       "    </tr>\n",
       "    <tr>\n",
       "      <th>AdaBoostClassifier</th>\n",
       "      <td>0.08</td>\n",
       "      <td>0.05</td>\n",
       "      <td>None</td>\n",
       "      <td>0.04</td>\n",
       "      <td>5.52</td>\n",
       "    </tr>\n",
       "    <tr>\n",
       "      <th>KNeighborsClassifier</th>\n",
       "      <td>0.07</td>\n",
       "      <td>0.05</td>\n",
       "      <td>None</td>\n",
       "      <td>0.06</td>\n",
       "      <td>0.60</td>\n",
       "    </tr>\n",
       "    <tr>\n",
       "      <th>LogisticRegression</th>\n",
       "      <td>0.09</td>\n",
       "      <td>0.05</td>\n",
       "      <td>None</td>\n",
       "      <td>0.05</td>\n",
       "      <td>3.54</td>\n",
       "    </tr>\n",
       "    <tr>\n",
       "      <th>GaussianNB</th>\n",
       "      <td>0.08</td>\n",
       "      <td>0.05</td>\n",
       "      <td>None</td>\n",
       "      <td>0.03</td>\n",
       "      <td>0.36</td>\n",
       "    </tr>\n",
       "    <tr>\n",
       "      <th>SVC</th>\n",
       "      <td>0.09</td>\n",
       "      <td>0.05</td>\n",
       "      <td>None</td>\n",
       "      <td>0.04</td>\n",
       "      <td>162.15</td>\n",
       "    </tr>\n",
       "    <tr>\n",
       "      <th>PassiveAggressiveClassifier</th>\n",
       "      <td>0.04</td>\n",
       "      <td>0.05</td>\n",
       "      <td>None</td>\n",
       "      <td>0.01</td>\n",
       "      <td>0.43</td>\n",
       "    </tr>\n",
       "    <tr>\n",
       "      <th>CalibratedClassifierCV</th>\n",
       "      <td>0.09</td>\n",
       "      <td>0.05</td>\n",
       "      <td>None</td>\n",
       "      <td>0.04</td>\n",
       "      <td>208.75</td>\n",
       "    </tr>\n",
       "    <tr>\n",
       "      <th>QuadraticDiscriminantAnalysis</th>\n",
       "      <td>0.08</td>\n",
       "      <td>0.05</td>\n",
       "      <td>None</td>\n",
       "      <td>0.03</td>\n",
       "      <td>0.16</td>\n",
       "    </tr>\n",
       "    <tr>\n",
       "      <th>LinearDiscriminantAnalysis</th>\n",
       "      <td>0.09</td>\n",
       "      <td>0.04</td>\n",
       "      <td>None</td>\n",
       "      <td>0.04</td>\n",
       "      <td>0.25</td>\n",
       "    </tr>\n",
       "    <tr>\n",
       "      <th>LinearSVC</th>\n",
       "      <td>0.09</td>\n",
       "      <td>0.04</td>\n",
       "      <td>None</td>\n",
       "      <td>0.04</td>\n",
       "      <td>52.38</td>\n",
       "    </tr>\n",
       "    <tr>\n",
       "      <th>RidgeClassifier</th>\n",
       "      <td>0.09</td>\n",
       "      <td>0.04</td>\n",
       "      <td>None</td>\n",
       "      <td>0.03</td>\n",
       "      <td>0.39</td>\n",
       "    </tr>\n",
       "    <tr>\n",
       "      <th>RidgeClassifierCV</th>\n",
       "      <td>0.09</td>\n",
       "      <td>0.04</td>\n",
       "      <td>None</td>\n",
       "      <td>0.03</td>\n",
       "      <td>0.45</td>\n",
       "    </tr>\n",
       "    <tr>\n",
       "      <th>Perceptron</th>\n",
       "      <td>0.05</td>\n",
       "      <td>0.04</td>\n",
       "      <td>None</td>\n",
       "      <td>0.02</td>\n",
       "      <td>0.52</td>\n",
       "    </tr>\n",
       "    <tr>\n",
       "      <th>BernoulliNB</th>\n",
       "      <td>0.08</td>\n",
       "      <td>0.04</td>\n",
       "      <td>None</td>\n",
       "      <td>0.02</td>\n",
       "      <td>0.21</td>\n",
       "    </tr>\n",
       "    <tr>\n",
       "      <th>DummyClassifier</th>\n",
       "      <td>0.08</td>\n",
       "      <td>0.04</td>\n",
       "      <td>None</td>\n",
       "      <td>0.01</td>\n",
       "      <td>0.07</td>\n",
       "    </tr>\n",
       "    <tr>\n",
       "      <th>SGDClassifier</th>\n",
       "      <td>0.05</td>\n",
       "      <td>0.03</td>\n",
       "      <td>None</td>\n",
       "      <td>0.02</td>\n",
       "      <td>0.71</td>\n",
       "    </tr>\n",
       "  </tbody>\n",
       "</table>\n",
       "</div>"
      ],
      "text/plain": [
       "                               Accuracy  Balanced Accuracy ROC AUC  F1 Score  \\\n",
       "Model                                                                          \n",
       "BaggingClassifier                  0.09               0.08    None      0.09   \n",
       "NearestCentroid                    0.05               0.08    None      0.03   \n",
       "RandomForestClassifier             0.09               0.08    None      0.09   \n",
       "ExtraTreesClassifier               0.08               0.08    None      0.08   \n",
       "DecisionTreeClassifier             0.09               0.07    None      0.09   \n",
       "ExtraTreeClassifier                0.08               0.07    None      0.08   \n",
       "LGBMClassifier                     0.08               0.07    None      0.07   \n",
       "AdaBoostClassifier                 0.08               0.05    None      0.04   \n",
       "KNeighborsClassifier               0.07               0.05    None      0.06   \n",
       "LogisticRegression                 0.09               0.05    None      0.05   \n",
       "GaussianNB                         0.08               0.05    None      0.03   \n",
       "SVC                                0.09               0.05    None      0.04   \n",
       "PassiveAggressiveClassifier        0.04               0.05    None      0.01   \n",
       "CalibratedClassifierCV             0.09               0.05    None      0.04   \n",
       "QuadraticDiscriminantAnalysis      0.08               0.05    None      0.03   \n",
       "LinearDiscriminantAnalysis         0.09               0.04    None      0.04   \n",
       "LinearSVC                          0.09               0.04    None      0.04   \n",
       "RidgeClassifier                    0.09               0.04    None      0.03   \n",
       "RidgeClassifierCV                  0.09               0.04    None      0.03   \n",
       "Perceptron                         0.05               0.04    None      0.02   \n",
       "BernoulliNB                        0.08               0.04    None      0.02   \n",
       "DummyClassifier                    0.08               0.04    None      0.01   \n",
       "SGDClassifier                      0.05               0.03    None      0.02   \n",
       "\n",
       "                               Time Taken  \n",
       "Model                                      \n",
       "BaggingClassifier                    1.14  \n",
       "NearestCentroid                      0.11  \n",
       "RandomForestClassifier              10.26  \n",
       "ExtraTreesClassifier                15.91  \n",
       "DecisionTreeClassifier               0.27  \n",
       "ExtraTreeClassifier                  0.13  \n",
       "LGBMClassifier                       7.58  \n",
       "AdaBoostClassifier                   5.52  \n",
       "KNeighborsClassifier                 0.60  \n",
       "LogisticRegression                   3.54  \n",
       "GaussianNB                           0.36  \n",
       "SVC                                162.15  \n",
       "PassiveAggressiveClassifier          0.43  \n",
       "CalibratedClassifierCV             208.75  \n",
       "QuadraticDiscriminantAnalysis        0.16  \n",
       "LinearDiscriminantAnalysis           0.25  \n",
       "LinearSVC                           52.38  \n",
       "RidgeClassifier                      0.39  \n",
       "RidgeClassifierCV                    0.45  \n",
       "Perceptron                           0.52  \n",
       "BernoulliNB                          0.21  \n",
       "DummyClassifier                      0.07  \n",
       "SGDClassifier                        0.71  "
      ]
     },
     "execution_count": 232,
     "metadata": {},
     "output_type": "execute_result"
    }
   ],
   "source": [
    "clf = LazyClassifier(verbose=0,\n",
    "                     ignore_warnings=True, \n",
    "                     custom_metric=None)\n",
    "models, predictions = clf.fit(xtrain, xtest, ytrain, ytest)\n",
    "models"
   ]
  }
 ],
 "metadata": {
  "kernelspec": {
   "display_name": "Python 3 (ipykernel)",
   "language": "python",
   "name": "python3"
  },
  "language_info": {
   "codemirror_mode": {
    "name": "ipython",
    "version": 3
   },
   "file_extension": ".py",
   "mimetype": "text/x-python",
   "name": "python",
   "nbconvert_exporter": "python",
   "pygments_lexer": "ipython3",
   "version": "3.9.13"
  }
 },
 "nbformat": 4,
 "nbformat_minor": 5
}
